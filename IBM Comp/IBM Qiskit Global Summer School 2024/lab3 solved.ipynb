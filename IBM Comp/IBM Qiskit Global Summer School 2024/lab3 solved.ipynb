{
  "cells": [
    {
      "cell_type": "markdown",
      "id": "d601aca4-74ff-4577-9737-327272482967",
      "metadata": {
        "id": "d601aca4-74ff-4577-9737-327272482967"
      },
      "source": [
        "# IBM's Qiskit Global Summer School 2024\n",
        "\n",
        "## Lab 3 - Quantum Error Suppression and Mitigation with Qiskit Runtime"
      ]
    },
    {
      "cell_type": "markdown",
      "id": "43414819-8f0d-4a45-a17b-3eeadf5ee0c5",
      "metadata": {
        "id": "43414819-8f0d-4a45-a17b-3eeadf5ee0c5"
      },
      "source": [
        "In this lab, you will explore the error suppression and error mitigation options available with the Estimator primitive from Qiskit Runtime. You will construct a circuit and observables and submit jobs using the Estimator primitive using different combinations of error mitigation settings. Then, you will plot the results to observe the effects of the various settings.\n",
        "\n",
        "These are the error suppression and mitigation options you will use:\n",
        "\n",
        "- Dynamical decoupling\n",
        "- Measurement error mitigation\n",
        "- Gate twirling\n",
        "- Zero noise extrapolation (ZNE)"
      ]
    },
    {
      "cell_type": "markdown",
      "id": "8662873e-82a6-4b54-8e53-8681ec46c7e9",
      "metadata": {
        "id": "8662873e-82a6-4b54-8e53-8681ec46c7e9"
      },
      "source": [
        "### Quantum problem (circuit and observables)"
      ]
    },
    {
      "cell_type": "markdown",
      "id": "f2cd771c-c282-4275-861e-97a1106c2fb5",
      "metadata": {
        "id": "f2cd771c-c282-4275-861e-97a1106c2fb5"
      },
      "source": [
        "#### Circuit"
      ]
    },
    {
      "cell_type": "markdown",
      "id": "d5907436-e58d-429e-ad17-c05732147432",
      "metadata": {
        "id": "d5907436-e58d-429e-ad17-c05732147432"
      },
      "source": [
        "This lab uses the [`EfficientSU2`](https://docs.quantum.ibm.com/api/qiskit/qiskit.circuit.library.EfficientSU2) circuit included in Qiskit's circuit library.\n",
        "\n",
        "EfficientSU2 is a parameterized quantum circuit designed to be efficiently executable on quantum hardware with limited qubit connectivity, while still being expressive enough to solve problems in application domains like optimization and chemistry. It is built by alternating layers of parameterized single-qubit gates with a layer containing a fixed pattern of two-qubit gates, for a chosen number of repetitions. The pattern of two-qubit gates can be specified by the user. Here you can use the built-in pairwise pattern because it minimizes the circuit depth by packing the two-qubit gates as densely as possible."
      ]
    },
    {
      "cell_type": "code",
      "source": [
        "!pip install qiskit[visualization]==1.1.0\n",
        "!pip install qiskit_aer\n",
        "!pip install qiskit_ibm_runtime\n",
        "!pip install matplotlib\n",
        "!pip install pylatexenc\n",
        "!pip install prototype-zne\n",
        "!pip install lmfit\n",
        "!pip install pandas\n",
        "!pip install git+https://github.com/ryanhill1/Quantum-Challenge-Grader.git"
      ],
      "metadata": {
        "colab": {
          "base_uri": "https://localhost:8080/"
        },
        "id": "h21HUw9bIEeA",
        "outputId": "1cc16bda-26cc-44f8-fa62-aa50b6123c7e"
      },
      "id": "h21HUw9bIEeA",
      "execution_count": null,
      "outputs": [
        {
          "output_type": "stream",
          "name": "stdout",
          "text": [
            "Collecting qiskit==1.1.0 (from qiskit[visualization]==1.1.0)\n",
            "  Downloading qiskit-1.1.0-cp38-abi3-manylinux_2_17_x86_64.manylinux2014_x86_64.whl.metadata (12 kB)\n",
            "Collecting rustworkx>=0.14.0 (from qiskit==1.1.0->qiskit[visualization]==1.1.0)\n",
            "  Downloading rustworkx-0.15.1-cp38-abi3-manylinux_2_17_x86_64.manylinux2014_x86_64.whl.metadata (9.9 kB)\n",
            "Requirement already satisfied: numpy<3,>=1.17 in /usr/local/lib/python3.10/dist-packages (from qiskit==1.1.0->qiskit[visualization]==1.1.0) (1.25.2)\n",
            "Requirement already satisfied: scipy>=1.5 in /usr/local/lib/python3.10/dist-packages (from qiskit==1.1.0->qiskit[visualization]==1.1.0) (1.11.4)\n",
            "Requirement already satisfied: sympy>=1.3 in /usr/local/lib/python3.10/dist-packages (from qiskit==1.1.0->qiskit[visualization]==1.1.0) (1.13.1)\n",
            "Collecting dill>=0.3 (from qiskit==1.1.0->qiskit[visualization]==1.1.0)\n",
            "  Downloading dill-0.3.8-py3-none-any.whl.metadata (10 kB)\n",
            "Requirement already satisfied: python-dateutil>=2.8.0 in /usr/local/lib/python3.10/dist-packages (from qiskit==1.1.0->qiskit[visualization]==1.1.0) (2.8.2)\n",
            "Collecting stevedore>=3.0.0 (from qiskit==1.1.0->qiskit[visualization]==1.1.0)\n",
            "  Downloading stevedore-5.2.0-py3-none-any.whl.metadata (2.3 kB)\n",
            "Requirement already satisfied: typing-extensions in /usr/local/lib/python3.10/dist-packages (from qiskit==1.1.0->qiskit[visualization]==1.1.0) (4.12.2)\n",
            "Collecting symengine>=0.11 (from qiskit==1.1.0->qiskit[visualization]==1.1.0)\n",
            "  Downloading symengine-0.11.0-cp310-cp310-manylinux_2_12_x86_64.manylinux2010_x86_64.whl.metadata (1.2 kB)\n",
            "Requirement already satisfied: matplotlib>=3.3 in /usr/local/lib/python3.10/dist-packages (from qiskit[visualization]==1.1.0) (3.7.1)\n",
            "Requirement already satisfied: pydot in /usr/local/lib/python3.10/dist-packages (from qiskit[visualization]==1.1.0) (1.4.2)\n",
            "Requirement already satisfied: Pillow>=4.2.1 in /usr/local/lib/python3.10/dist-packages (from qiskit[visualization]==1.1.0) (9.4.0)\n",
            "Collecting pylatexenc>=1.4 (from qiskit[visualization]==1.1.0)\n",
            "  Downloading pylatexenc-2.10.tar.gz (162 kB)\n",
            "\u001b[2K     \u001b[90m━━━━━━━━━━━━━━━━━━━━━━━━━━━━━━━━━━━━━━━━\u001b[0m \u001b[32m162.6/162.6 kB\u001b[0m \u001b[31m2.7 MB/s\u001b[0m eta \u001b[36m0:00:00\u001b[0m\n",
            "\u001b[?25h  Preparing metadata (setup.py) ... \u001b[?25l\u001b[?25hdone\n",
            "Requirement already satisfied: seaborn>=0.9.0 in /usr/local/lib/python3.10/dist-packages (from qiskit[visualization]==1.1.0) (0.13.1)\n",
            "Requirement already satisfied: contourpy>=1.0.1 in /usr/local/lib/python3.10/dist-packages (from matplotlib>=3.3->qiskit[visualization]==1.1.0) (1.2.1)\n",
            "Requirement already satisfied: cycler>=0.10 in /usr/local/lib/python3.10/dist-packages (from matplotlib>=3.3->qiskit[visualization]==1.1.0) (0.12.1)\n",
            "Requirement already satisfied: fonttools>=4.22.0 in /usr/local/lib/python3.10/dist-packages (from matplotlib>=3.3->qiskit[visualization]==1.1.0) (4.53.1)\n",
            "Requirement already satisfied: kiwisolver>=1.0.1 in /usr/local/lib/python3.10/dist-packages (from matplotlib>=3.3->qiskit[visualization]==1.1.0) (1.4.5)\n",
            "Requirement already satisfied: packaging>=20.0 in /usr/local/lib/python3.10/dist-packages (from matplotlib>=3.3->qiskit[visualization]==1.1.0) (24.1)\n",
            "Requirement already satisfied: pyparsing>=2.3.1 in /usr/local/lib/python3.10/dist-packages (from matplotlib>=3.3->qiskit[visualization]==1.1.0) (3.1.2)\n",
            "Requirement already satisfied: six>=1.5 in /usr/local/lib/python3.10/dist-packages (from python-dateutil>=2.8.0->qiskit==1.1.0->qiskit[visualization]==1.1.0) (1.16.0)\n",
            "Requirement already satisfied: pandas>=1.2 in /usr/local/lib/python3.10/dist-packages (from seaborn>=0.9.0->qiskit[visualization]==1.1.0) (2.0.3)\n",
            "Collecting pbr!=2.1.0,>=2.0.0 (from stevedore>=3.0.0->qiskit==1.1.0->qiskit[visualization]==1.1.0)\n",
            "  Downloading pbr-6.0.0-py2.py3-none-any.whl.metadata (1.3 kB)\n",
            "Requirement already satisfied: mpmath<1.4,>=1.1.0 in /usr/local/lib/python3.10/dist-packages (from sympy>=1.3->qiskit==1.1.0->qiskit[visualization]==1.1.0) (1.3.0)\n",
            "Requirement already satisfied: pytz>=2020.1 in /usr/local/lib/python3.10/dist-packages (from pandas>=1.2->seaborn>=0.9.0->qiskit[visualization]==1.1.0) (2023.4)\n",
            "Requirement already satisfied: tzdata>=2022.1 in /usr/local/lib/python3.10/dist-packages (from pandas>=1.2->seaborn>=0.9.0->qiskit[visualization]==1.1.0) (2024.1)\n",
            "Downloading qiskit-1.1.0-cp38-abi3-manylinux_2_17_x86_64.manylinux2014_x86_64.whl (4.3 MB)\n",
            "\u001b[2K   \u001b[90m━━━━━━━━━━━━━━━━━━━━━━━━━━━━━━━━━━━━━━━━\u001b[0m \u001b[32m4.3/4.3 MB\u001b[0m \u001b[31m42.7 MB/s\u001b[0m eta \u001b[36m0:00:00\u001b[0m\n",
            "\u001b[?25hDownloading dill-0.3.8-py3-none-any.whl (116 kB)\n",
            "\u001b[2K   \u001b[90m━━━━━━━━━━━━━━━━━━━━━━━━━━━━━━━━━━━━━━━━\u001b[0m \u001b[32m116.3/116.3 kB\u001b[0m \u001b[31m6.7 MB/s\u001b[0m eta \u001b[36m0:00:00\u001b[0m\n",
            "\u001b[?25hDownloading rustworkx-0.15.1-cp38-abi3-manylinux_2_17_x86_64.manylinux2014_x86_64.whl (2.0 MB)\n",
            "\u001b[2K   \u001b[90m━━━━━━━━━━━━━━━━━━━━━━━━━━━━━━━━━━━━━━━━\u001b[0m \u001b[32m2.0/2.0 MB\u001b[0m \u001b[31m44.1 MB/s\u001b[0m eta \u001b[36m0:00:00\u001b[0m\n",
            "\u001b[?25hDownloading stevedore-5.2.0-py3-none-any.whl (49 kB)\n",
            "\u001b[2K   \u001b[90m━━━━━━━━━━━━━━━━━━━━━━━━━━━━━━━━━━━━━━━━\u001b[0m \u001b[32m49.7/49.7 kB\u001b[0m \u001b[31m1.9 MB/s\u001b[0m eta \u001b[36m0:00:00\u001b[0m\n",
            "\u001b[?25hDownloading symengine-0.11.0-cp310-cp310-manylinux_2_12_x86_64.manylinux2010_x86_64.whl (39.4 MB)\n",
            "\u001b[2K   \u001b[90m━━━━━━━━━━━━━━━━━━━━━━━━━━━━━━━━━━━━━━━━\u001b[0m \u001b[32m39.4/39.4 MB\u001b[0m \u001b[31m15.2 MB/s\u001b[0m eta \u001b[36m0:00:00\u001b[0m\n",
            "\u001b[?25hDownloading pbr-6.0.0-py2.py3-none-any.whl (107 kB)\n",
            "\u001b[2K   \u001b[90m━━━━━━━━━━━━━━━━━━━━━━━━━━━━━━━━━━━━━━━━\u001b[0m \u001b[32m107.5/107.5 kB\u001b[0m \u001b[31m4.5 MB/s\u001b[0m eta \u001b[36m0:00:00\u001b[0m\n",
            "\u001b[?25hBuilding wheels for collected packages: pylatexenc\n",
            "  Building wheel for pylatexenc (setup.py) ... \u001b[?25l\u001b[?25hdone\n",
            "  Created wheel for pylatexenc: filename=pylatexenc-2.10-py3-none-any.whl size=136817 sha256=618fd9e2dcec784565c58f98fac62e58c985ab8b9341727e591368672fc0ad76\n",
            "  Stored in directory: /root/.cache/pip/wheels/d3/31/8b/e09b0386afd80cfc556c00408c9aeea5c35c4d484a9c762fd5\n",
            "Successfully built pylatexenc\n",
            "Installing collected packages: pylatexenc, symengine, rustworkx, pbr, dill, stevedore, qiskit\n",
            "Successfully installed dill-0.3.8 pbr-6.0.0 pylatexenc-2.10 qiskit-1.1.0 rustworkx-0.15.1 stevedore-5.2.0 symengine-0.11.0\n",
            "Collecting qiskit_aer\n",
            "  Downloading qiskit_aer-0.14.2-cp310-cp310-manylinux_2_17_x86_64.manylinux2014_x86_64.whl.metadata (8.1 kB)\n",
            "Requirement already satisfied: qiskit>=0.45.2 in /usr/local/lib/python3.10/dist-packages (from qiskit_aer) (1.1.0)\n",
            "Requirement already satisfied: numpy>=1.16.3 in /usr/local/lib/python3.10/dist-packages (from qiskit_aer) (1.25.2)\n",
            "Requirement already satisfied: scipy>=1.0 in /usr/local/lib/python3.10/dist-packages (from qiskit_aer) (1.11.4)\n",
            "Requirement already satisfied: psutil>=5 in /usr/local/lib/python3.10/dist-packages (from qiskit_aer) (5.9.5)\n",
            "Requirement already satisfied: rustworkx>=0.14.0 in /usr/local/lib/python3.10/dist-packages (from qiskit>=0.45.2->qiskit_aer) (0.15.1)\n",
            "Requirement already satisfied: sympy>=1.3 in /usr/local/lib/python3.10/dist-packages (from qiskit>=0.45.2->qiskit_aer) (1.13.1)\n",
            "Requirement already satisfied: dill>=0.3 in /usr/local/lib/python3.10/dist-packages (from qiskit>=0.45.2->qiskit_aer) (0.3.8)\n",
            "Requirement already satisfied: python-dateutil>=2.8.0 in /usr/local/lib/python3.10/dist-packages (from qiskit>=0.45.2->qiskit_aer) (2.8.2)\n",
            "Requirement already satisfied: stevedore>=3.0.0 in /usr/local/lib/python3.10/dist-packages (from qiskit>=0.45.2->qiskit_aer) (5.2.0)\n",
            "Requirement already satisfied: typing-extensions in /usr/local/lib/python3.10/dist-packages (from qiskit>=0.45.2->qiskit_aer) (4.12.2)\n",
            "Requirement already satisfied: symengine>=0.11 in /usr/local/lib/python3.10/dist-packages (from qiskit>=0.45.2->qiskit_aer) (0.11.0)\n",
            "Requirement already satisfied: six>=1.5 in /usr/local/lib/python3.10/dist-packages (from python-dateutil>=2.8.0->qiskit>=0.45.2->qiskit_aer) (1.16.0)\n",
            "Requirement already satisfied: pbr!=2.1.0,>=2.0.0 in /usr/local/lib/python3.10/dist-packages (from stevedore>=3.0.0->qiskit>=0.45.2->qiskit_aer) (6.0.0)\n",
            "Requirement already satisfied: mpmath<1.4,>=1.1.0 in /usr/local/lib/python3.10/dist-packages (from sympy>=1.3->qiskit>=0.45.2->qiskit_aer) (1.3.0)\n",
            "Downloading qiskit_aer-0.14.2-cp310-cp310-manylinux_2_17_x86_64.manylinux2014_x86_64.whl (12.4 MB)\n",
            "\u001b[2K   \u001b[90m━━━━━━━━━━━━━━━━━━━━━━━━━━━━━━━━━━━━━━━━\u001b[0m \u001b[32m12.4/12.4 MB\u001b[0m \u001b[31m45.8 MB/s\u001b[0m eta \u001b[36m0:00:00\u001b[0m\n",
            "\u001b[?25hInstalling collected packages: qiskit_aer\n",
            "Successfully installed qiskit_aer-0.14.2\n",
            "Collecting qiskit_ibm_runtime\n",
            "  Downloading qiskit_ibm_runtime-0.25.0-py3-none-any.whl.metadata (19 kB)\n",
            "Requirement already satisfied: requests>=2.19 in /usr/local/lib/python3.10/dist-packages (from qiskit_ibm_runtime) (2.31.0)\n",
            "Collecting requests-ntlm>=1.1.0 (from qiskit_ibm_runtime)\n",
            "  Downloading requests_ntlm-1.3.0-py3-none-any.whl.metadata (2.4 kB)\n",
            "Requirement already satisfied: numpy>=1.13 in /usr/local/lib/python3.10/dist-packages (from qiskit_ibm_runtime) (1.25.2)\n",
            "Requirement already satisfied: urllib3>=1.21.1 in /usr/local/lib/python3.10/dist-packages (from qiskit_ibm_runtime) (2.0.7)\n",
            "Requirement already satisfied: python-dateutil>=2.8.0 in /usr/local/lib/python3.10/dist-packages (from qiskit_ibm_runtime) (2.8.2)\n",
            "Requirement already satisfied: websocket-client>=1.5.1 in /usr/local/lib/python3.10/dist-packages (from qiskit_ibm_runtime) (1.8.0)\n",
            "Collecting ibm-platform-services>=0.22.6 (from qiskit_ibm_runtime)\n",
            "  Downloading ibm-platform-services-0.55.1.tar.gz (323 kB)\n",
            "\u001b[2K     \u001b[90m━━━━━━━━━━━━━━━━━━━━━━━━━━━━━━━━━━━━━━━━\u001b[0m \u001b[32m323.1/323.1 kB\u001b[0m \u001b[31m8.6 MB/s\u001b[0m eta \u001b[36m0:00:00\u001b[0m\n",
            "\u001b[?25h  Installing build dependencies ... \u001b[?25l\u001b[?25hdone\n",
            "  Getting requirements to build wheel ... \u001b[?25l\u001b[?25hdone\n",
            "  Preparing metadata (pyproject.toml) ... \u001b[?25l\u001b[?25hdone\n",
            "Requirement already satisfied: pydantic>=2.5.0 in /usr/local/lib/python3.10/dist-packages (from qiskit_ibm_runtime) (2.8.2)\n",
            "Requirement already satisfied: qiskit>=1.1.0 in /usr/local/lib/python3.10/dist-packages (from qiskit_ibm_runtime) (1.1.0)\n",
            "Collecting ibm-cloud-sdk-core<4.0.0,>=3.20.3 (from ibm-platform-services>=0.22.6->qiskit_ibm_runtime)\n",
            "  Downloading ibm-cloud-sdk-core-3.20.3.tar.gz (62 kB)\n",
            "\u001b[2K     \u001b[90m━━━━━━━━━━━━━━━━━━━━━━━━━━━━━━━━━━━━━━━━\u001b[0m \u001b[32m62.7/62.7 kB\u001b[0m \u001b[31m4.1 MB/s\u001b[0m eta \u001b[36m0:00:00\u001b[0m\n",
            "\u001b[?25h  Installing build dependencies ... \u001b[?25l\u001b[?25hdone\n",
            "  Getting requirements to build wheel ... \u001b[?25l\u001b[?25hdone\n",
            "  Preparing metadata (pyproject.toml) ... \u001b[?25l\u001b[?25hdone\n",
            "Requirement already satisfied: annotated-types>=0.4.0 in /usr/local/lib/python3.10/dist-packages (from pydantic>=2.5.0->qiskit_ibm_runtime) (0.7.0)\n",
            "Requirement already satisfied: pydantic-core==2.20.1 in /usr/local/lib/python3.10/dist-packages (from pydantic>=2.5.0->qiskit_ibm_runtime) (2.20.1)\n",
            "Requirement already satisfied: typing-extensions>=4.6.1 in /usr/local/lib/python3.10/dist-packages (from pydantic>=2.5.0->qiskit_ibm_runtime) (4.12.2)\n",
            "Requirement already satisfied: six>=1.5 in /usr/local/lib/python3.10/dist-packages (from python-dateutil>=2.8.0->qiskit_ibm_runtime) (1.16.0)\n",
            "Requirement already satisfied: rustworkx>=0.14.0 in /usr/local/lib/python3.10/dist-packages (from qiskit>=1.1.0->qiskit_ibm_runtime) (0.15.1)\n",
            "Requirement already satisfied: scipy>=1.5 in /usr/local/lib/python3.10/dist-packages (from qiskit>=1.1.0->qiskit_ibm_runtime) (1.11.4)\n",
            "Requirement already satisfied: sympy>=1.3 in /usr/local/lib/python3.10/dist-packages (from qiskit>=1.1.0->qiskit_ibm_runtime) (1.13.1)\n",
            "Requirement already satisfied: dill>=0.3 in /usr/local/lib/python3.10/dist-packages (from qiskit>=1.1.0->qiskit_ibm_runtime) (0.3.8)\n",
            "Requirement already satisfied: stevedore>=3.0.0 in /usr/local/lib/python3.10/dist-packages (from qiskit>=1.1.0->qiskit_ibm_runtime) (5.2.0)\n",
            "Requirement already satisfied: symengine>=0.11 in /usr/local/lib/python3.10/dist-packages (from qiskit>=1.1.0->qiskit_ibm_runtime) (0.11.0)\n",
            "Requirement already satisfied: charset-normalizer<4,>=2 in /usr/local/lib/python3.10/dist-packages (from requests>=2.19->qiskit_ibm_runtime) (3.3.2)\n",
            "Requirement already satisfied: idna<4,>=2.5 in /usr/local/lib/python3.10/dist-packages (from requests>=2.19->qiskit_ibm_runtime) (3.7)\n",
            "Requirement already satisfied: certifi>=2017.4.17 in /usr/local/lib/python3.10/dist-packages (from requests>=2.19->qiskit_ibm_runtime) (2024.7.4)\n",
            "Requirement already satisfied: cryptography>=1.3 in /usr/local/lib/python3.10/dist-packages (from requests-ntlm>=1.1.0->qiskit_ibm_runtime) (43.0.0)\n",
            "Collecting pyspnego>=0.4.0 (from requests-ntlm>=1.1.0->qiskit_ibm_runtime)\n",
            "  Downloading pyspnego-0.11.1-py3-none-any.whl.metadata (5.4 kB)\n",
            "Requirement already satisfied: cffi>=1.12 in /usr/local/lib/python3.10/dist-packages (from cryptography>=1.3->requests-ntlm>=1.1.0->qiskit_ibm_runtime) (1.16.0)\n",
            "Collecting urllib3>=1.21.1 (from qiskit_ibm_runtime)\n",
            "  Downloading urllib3-2.2.2-py3-none-any.whl.metadata (6.4 kB)\n",
            "Collecting PyJWT<3.0.0,>=2.8.0 (from ibm-cloud-sdk-core<4.0.0,>=3.20.3->ibm-platform-services>=0.22.6->qiskit_ibm_runtime)\n",
            "  Downloading PyJWT-2.8.0-py3-none-any.whl.metadata (4.2 kB)\n",
            "Requirement already satisfied: pbr!=2.1.0,>=2.0.0 in /usr/local/lib/python3.10/dist-packages (from stevedore>=3.0.0->qiskit>=1.1.0->qiskit_ibm_runtime) (6.0.0)\n",
            "Requirement already satisfied: mpmath<1.4,>=1.1.0 in /usr/local/lib/python3.10/dist-packages (from sympy>=1.3->qiskit>=1.1.0->qiskit_ibm_runtime) (1.3.0)\n",
            "Requirement already satisfied: pycparser in /usr/local/lib/python3.10/dist-packages (from cffi>=1.12->cryptography>=1.3->requests-ntlm>=1.1.0->qiskit_ibm_runtime) (2.22)\n",
            "Downloading qiskit_ibm_runtime-0.25.0-py3-none-any.whl (2.9 MB)\n",
            "\u001b[2K   \u001b[90m━━━━━━━━━━━━━━━━━━━━━━━━━━━━━━━━━━━━━━━━\u001b[0m \u001b[32m2.9/2.9 MB\u001b[0m \u001b[31m42.9 MB/s\u001b[0m eta \u001b[36m0:00:00\u001b[0m\n",
            "\u001b[?25hDownloading requests_ntlm-1.3.0-py3-none-any.whl (6.6 kB)\n",
            "Downloading urllib3-2.2.2-py3-none-any.whl (121 kB)\n",
            "\u001b[2K   \u001b[90m━━━━━━━━━━━━━━━━━━━━━━━━━━━━━━━━━━━━━━━━\u001b[0m \u001b[32m121.4/121.4 kB\u001b[0m \u001b[31m4.8 MB/s\u001b[0m eta \u001b[36m0:00:00\u001b[0m\n",
            "\u001b[?25hDownloading pyspnego-0.11.1-py3-none-any.whl (130 kB)\n",
            "\u001b[2K   \u001b[90m━━━━━━━━━━━━━━━━━━━━━━━━━━━━━━━━━━━━━━━━\u001b[0m \u001b[32m130.5/130.5 kB\u001b[0m \u001b[31m4.9 MB/s\u001b[0m eta \u001b[36m0:00:00\u001b[0m\n",
            "\u001b[?25hDownloading PyJWT-2.8.0-py3-none-any.whl (22 kB)\n",
            "Building wheels for collected packages: ibm-platform-services, ibm-cloud-sdk-core\n",
            "  Building wheel for ibm-platform-services (pyproject.toml) ... \u001b[?25l\u001b[?25hdone\n",
            "  Created wheel for ibm-platform-services: filename=ibm_platform_services-0.55.1-py3-none-any.whl size=339686 sha256=2838bb43ef2abda9c883a64f9e9a9d3894d06fbca6a4f8cbefd34282e40a61d9\n",
            "  Stored in directory: /root/.cache/pip/wheels/85/ac/f7/fcc0f6fb6fd090cb2c4f6f9fc55fd5aa36af0bfe1f44a9af71\n",
            "  Building wheel for ibm-cloud-sdk-core (pyproject.toml) ... \u001b[?25l\u001b[?25hdone\n",
            "  Created wheel for ibm-cloud-sdk-core: filename=ibm_cloud_sdk_core-3.20.3-py3-none-any.whl size=102558 sha256=57fb7d824e646c7c6f41786fa7e6c62052758a1f38b443cceca1637ccdda4c2d\n",
            "  Stored in directory: /root/.cache/pip/wheels/37/52/12/4283874e4e1f9be8c89f05de7971a7619fdffe8abf1ac989cd\n",
            "Successfully built ibm-platform-services ibm-cloud-sdk-core\n",
            "Installing collected packages: urllib3, PyJWT, pyspnego, ibm-cloud-sdk-core, requests-ntlm, ibm-platform-services, qiskit_ibm_runtime\n",
            "  Attempting uninstall: urllib3\n",
            "    Found existing installation: urllib3 2.0.7\n",
            "    Uninstalling urllib3-2.0.7:\n",
            "      Successfully uninstalled urllib3-2.0.7\n",
            "  Attempting uninstall: PyJWT\n",
            "    Found existing installation: PyJWT 2.3.0\n",
            "    Uninstalling PyJWT-2.3.0:\n",
            "      Successfully uninstalled PyJWT-2.3.0\n",
            "Successfully installed PyJWT-2.8.0 ibm-cloud-sdk-core-3.20.3 ibm-platform-services-0.55.1 pyspnego-0.11.1 qiskit_ibm_runtime-0.25.0 requests-ntlm-1.3.0 urllib3-2.2.2\n",
            "Requirement already satisfied: matplotlib in /usr/local/lib/python3.10/dist-packages (3.7.1)\n",
            "Requirement already satisfied: contourpy>=1.0.1 in /usr/local/lib/python3.10/dist-packages (from matplotlib) (1.2.1)\n",
            "Requirement already satisfied: cycler>=0.10 in /usr/local/lib/python3.10/dist-packages (from matplotlib) (0.12.1)\n",
            "Requirement already satisfied: fonttools>=4.22.0 in /usr/local/lib/python3.10/dist-packages (from matplotlib) (4.53.1)\n",
            "Requirement already satisfied: kiwisolver>=1.0.1 in /usr/local/lib/python3.10/dist-packages (from matplotlib) (1.4.5)\n",
            "Requirement already satisfied: numpy>=1.20 in /usr/local/lib/python3.10/dist-packages (from matplotlib) (1.25.2)\n",
            "Requirement already satisfied: packaging>=20.0 in /usr/local/lib/python3.10/dist-packages (from matplotlib) (24.1)\n",
            "Requirement already satisfied: pillow>=6.2.0 in /usr/local/lib/python3.10/dist-packages (from matplotlib) (9.4.0)\n",
            "Requirement already satisfied: pyparsing>=2.3.1 in /usr/local/lib/python3.10/dist-packages (from matplotlib) (3.1.2)\n",
            "Requirement already satisfied: python-dateutil>=2.7 in /usr/local/lib/python3.10/dist-packages (from matplotlib) (2.8.2)\n",
            "Requirement already satisfied: six>=1.5 in /usr/local/lib/python3.10/dist-packages (from python-dateutil>=2.7->matplotlib) (1.16.0)\n",
            "Requirement already satisfied: pylatexenc in /usr/local/lib/python3.10/dist-packages (2.10)\n",
            "Collecting prototype-zne\n",
            "  Downloading prototype_zne-1.3.1-py3-none-any.whl.metadata (11 kB)\n",
            "Requirement already satisfied: qiskit>=0.45.1 in /usr/local/lib/python3.10/dist-packages (from prototype-zne) (1.1.0)\n",
            "Requirement already satisfied: rustworkx>=0.14.0 in /usr/local/lib/python3.10/dist-packages (from qiskit>=0.45.1->prototype-zne) (0.15.1)\n",
            "Requirement already satisfied: numpy<3,>=1.17 in /usr/local/lib/python3.10/dist-packages (from qiskit>=0.45.1->prototype-zne) (1.25.2)\n",
            "Requirement already satisfied: scipy>=1.5 in /usr/local/lib/python3.10/dist-packages (from qiskit>=0.45.1->prototype-zne) (1.11.4)\n",
            "Requirement already satisfied: sympy>=1.3 in /usr/local/lib/python3.10/dist-packages (from qiskit>=0.45.1->prototype-zne) (1.13.1)\n",
            "Requirement already satisfied: dill>=0.3 in /usr/local/lib/python3.10/dist-packages (from qiskit>=0.45.1->prototype-zne) (0.3.8)\n",
            "Requirement already satisfied: python-dateutil>=2.8.0 in /usr/local/lib/python3.10/dist-packages (from qiskit>=0.45.1->prototype-zne) (2.8.2)\n",
            "Requirement already satisfied: stevedore>=3.0.0 in /usr/local/lib/python3.10/dist-packages (from qiskit>=0.45.1->prototype-zne) (5.2.0)\n",
            "Requirement already satisfied: typing-extensions in /usr/local/lib/python3.10/dist-packages (from qiskit>=0.45.1->prototype-zne) (4.12.2)\n",
            "Requirement already satisfied: symengine>=0.11 in /usr/local/lib/python3.10/dist-packages (from qiskit>=0.45.1->prototype-zne) (0.11.0)\n",
            "Requirement already satisfied: six>=1.5 in /usr/local/lib/python3.10/dist-packages (from python-dateutil>=2.8.0->qiskit>=0.45.1->prototype-zne) (1.16.0)\n",
            "Requirement already satisfied: pbr!=2.1.0,>=2.0.0 in /usr/local/lib/python3.10/dist-packages (from stevedore>=3.0.0->qiskit>=0.45.1->prototype-zne) (6.0.0)\n",
            "Requirement already satisfied: mpmath<1.4,>=1.1.0 in /usr/local/lib/python3.10/dist-packages (from sympy>=1.3->qiskit>=0.45.1->prototype-zne) (1.3.0)\n",
            "Downloading prototype_zne-1.3.1-py3-none-any.whl (56 kB)\n",
            "\u001b[2K   \u001b[90m━━━━━━━━━━━━━━━━━━━━━━━━━━━━━━━━━━━━━━━━\u001b[0m \u001b[32m56.5/56.5 kB\u001b[0m \u001b[31m2.8 MB/s\u001b[0m eta \u001b[36m0:00:00\u001b[0m\n",
            "\u001b[?25hInstalling collected packages: prototype-zne\n",
            "Successfully installed prototype-zne-1.3.1\n",
            "Collecting lmfit\n",
            "  Downloading lmfit-1.3.2-py3-none-any.whl.metadata (13 kB)\n",
            "Collecting asteval>=1.0 (from lmfit)\n",
            "  Downloading asteval-1.0.1-py3-none-any.whl.metadata (6.2 kB)\n",
            "Requirement already satisfied: numpy>=1.19 in /usr/local/lib/python3.10/dist-packages (from lmfit) (1.25.2)\n",
            "Requirement already satisfied: scipy>=1.6 in /usr/local/lib/python3.10/dist-packages (from lmfit) (1.11.4)\n",
            "Collecting uncertainties>=3.2.2 (from lmfit)\n",
            "  Downloading uncertainties-3.2.2-py3-none-any.whl.metadata (6.9 kB)\n",
            "Requirement already satisfied: dill>=0.3.4 in /usr/local/lib/python3.10/dist-packages (from lmfit) (0.3.8)\n",
            "Downloading lmfit-1.3.2-py3-none-any.whl (98 kB)\n",
            "\u001b[2K   \u001b[90m━━━━━━━━━━━━━━━━━━━━━━━━━━━━━━━━━━━━━━━━\u001b[0m \u001b[32m98.9/98.9 kB\u001b[0m \u001b[31m5.4 MB/s\u001b[0m eta \u001b[36m0:00:00\u001b[0m\n",
            "\u001b[?25hDownloading asteval-1.0.1-py3-none-any.whl (21 kB)\n",
            "Downloading uncertainties-3.2.2-py3-none-any.whl (58 kB)\n",
            "\u001b[2K   \u001b[90m━━━━━━━━━━━━━━━━━━━━━━━━━━━━━━━━━━━━━━━━\u001b[0m \u001b[32m58.3/58.3 kB\u001b[0m \u001b[31m3.2 MB/s\u001b[0m eta \u001b[36m0:00:00\u001b[0m\n",
            "\u001b[?25hInstalling collected packages: uncertainties, asteval, lmfit\n",
            "Successfully installed asteval-1.0.1 lmfit-1.3.2 uncertainties-3.2.2\n",
            "Requirement already satisfied: pandas in /usr/local/lib/python3.10/dist-packages (2.0.3)\n",
            "Requirement already satisfied: python-dateutil>=2.8.2 in /usr/local/lib/python3.10/dist-packages (from pandas) (2.8.2)\n",
            "Requirement already satisfied: pytz>=2020.1 in /usr/local/lib/python3.10/dist-packages (from pandas) (2023.4)\n",
            "Requirement already satisfied: tzdata>=2022.1 in /usr/local/lib/python3.10/dist-packages (from pandas) (2024.1)\n",
            "Requirement already satisfied: numpy>=1.21.0 in /usr/local/lib/python3.10/dist-packages (from pandas) (1.25.2)\n",
            "Requirement already satisfied: six>=1.5 in /usr/local/lib/python3.10/dist-packages (from python-dateutil>=2.8.2->pandas) (1.16.0)\n",
            "Collecting git+https://github.com/ryanhill1/Quantum-Challenge-Grader.git\n",
            "  Cloning https://github.com/ryanhill1/Quantum-Challenge-Grader.git to /tmp/pip-req-build-macgbci7\n",
            "  Running command git clone --filter=blob:none --quiet https://github.com/ryanhill1/Quantum-Challenge-Grader.git /tmp/pip-req-build-macgbci7\n",
            "  Resolved https://github.com/ryanhill1/Quantum-Challenge-Grader.git to commit a9baa682d3a07450befd4db4453a7590c7d446c0\n",
            "  Preparing metadata (setup.py) ... \u001b[?25l\u001b[?25hdone\n",
            "Collecting typeguard (from qc_grader==0.19.7)\n",
            "  Downloading typeguard-4.3.0-py3-none-any.whl.metadata (3.7 kB)\n",
            "Requirement already satisfied: jsonpickle in /usr/local/lib/python3.10/dist-packages (from qc_grader==0.19.7) (3.2.2)\n",
            "Collecting ipycytoscape (from qc_grader==0.19.7)\n",
            "  Downloading ipycytoscape-1.3.3-py2.py3-none-any.whl.metadata (7.5 kB)\n",
            "Requirement already satisfied: plotly in /usr/local/lib/python3.10/dist-packages (from qc_grader==0.19.7) (5.15.0)\n",
            "Requirement already satisfied: networkx in /usr/local/lib/python3.10/dist-packages (from qc_grader==0.19.7) (3.3)\n",
            "Requirement already satisfied: graphviz in /usr/local/lib/python3.10/dist-packages (from qc_grader==0.19.7) (0.20.3)\n",
            "Requirement already satisfied: ipywidgets>=7.6.0 in /usr/local/lib/python3.10/dist-packages (from ipycytoscape->qc_grader==0.19.7) (7.7.1)\n",
            "Collecting spectate>=1.0.0 (from ipycytoscape->qc_grader==0.19.7)\n",
            "  Downloading spectate-1.0.1-py2.py3-none-any.whl.metadata (2.2 kB)\n",
            "Requirement already satisfied: tenacity>=6.2.0 in /usr/local/lib/python3.10/dist-packages (from plotly->qc_grader==0.19.7) (8.5.0)\n",
            "Requirement already satisfied: packaging in /usr/local/lib/python3.10/dist-packages (from plotly->qc_grader==0.19.7) (24.1)\n",
            "Requirement already satisfied: typing-extensions>=4.10.0 in /usr/local/lib/python3.10/dist-packages (from typeguard->qc_grader==0.19.7) (4.12.2)\n",
            "Requirement already satisfied: ipykernel>=4.5.1 in /usr/local/lib/python3.10/dist-packages (from ipywidgets>=7.6.0->ipycytoscape->qc_grader==0.19.7) (5.5.6)\n",
            "Requirement already satisfied: ipython-genutils~=0.2.0 in /usr/local/lib/python3.10/dist-packages (from ipywidgets>=7.6.0->ipycytoscape->qc_grader==0.19.7) (0.2.0)\n",
            "Requirement already satisfied: traitlets>=4.3.1 in /usr/local/lib/python3.10/dist-packages (from ipywidgets>=7.6.0->ipycytoscape->qc_grader==0.19.7) (5.7.1)\n",
            "Requirement already satisfied: widgetsnbextension~=3.6.0 in /usr/local/lib/python3.10/dist-packages (from ipywidgets>=7.6.0->ipycytoscape->qc_grader==0.19.7) (3.6.7)\n",
            "Requirement already satisfied: ipython>=4.0.0 in /usr/local/lib/python3.10/dist-packages (from ipywidgets>=7.6.0->ipycytoscape->qc_grader==0.19.7) (7.34.0)\n",
            "Requirement already satisfied: jupyterlab-widgets>=1.0.0 in /usr/local/lib/python3.10/dist-packages (from ipywidgets>=7.6.0->ipycytoscape->qc_grader==0.19.7) (3.0.11)\n",
            "Requirement already satisfied: jupyter-client in /usr/local/lib/python3.10/dist-packages (from ipykernel>=4.5.1->ipywidgets>=7.6.0->ipycytoscape->qc_grader==0.19.7) (6.1.12)\n",
            "Requirement already satisfied: tornado>=4.2 in /usr/local/lib/python3.10/dist-packages (from ipykernel>=4.5.1->ipywidgets>=7.6.0->ipycytoscape->qc_grader==0.19.7) (6.3.3)\n",
            "Requirement already satisfied: setuptools>=18.5 in /usr/local/lib/python3.10/dist-packages (from ipython>=4.0.0->ipywidgets>=7.6.0->ipycytoscape->qc_grader==0.19.7) (71.0.4)\n",
            "Collecting jedi>=0.16 (from ipython>=4.0.0->ipywidgets>=7.6.0->ipycytoscape->qc_grader==0.19.7)\n",
            "  Downloading jedi-0.19.1-py2.py3-none-any.whl.metadata (22 kB)\n",
            "Requirement already satisfied: decorator in /usr/local/lib/python3.10/dist-packages (from ipython>=4.0.0->ipywidgets>=7.6.0->ipycytoscape->qc_grader==0.19.7) (4.4.2)\n",
            "Requirement already satisfied: pickleshare in /usr/local/lib/python3.10/dist-packages (from ipython>=4.0.0->ipywidgets>=7.6.0->ipycytoscape->qc_grader==0.19.7) (0.7.5)\n",
            "Requirement already satisfied: prompt-toolkit!=3.0.0,!=3.0.1,<3.1.0,>=2.0.0 in /usr/local/lib/python3.10/dist-packages (from ipython>=4.0.0->ipywidgets>=7.6.0->ipycytoscape->qc_grader==0.19.7) (3.0.47)\n",
            "Requirement already satisfied: pygments in /usr/local/lib/python3.10/dist-packages (from ipython>=4.0.0->ipywidgets>=7.6.0->ipycytoscape->qc_grader==0.19.7) (2.16.1)\n",
            "Requirement already satisfied: backcall in /usr/local/lib/python3.10/dist-packages (from ipython>=4.0.0->ipywidgets>=7.6.0->ipycytoscape->qc_grader==0.19.7) (0.2.0)\n",
            "Requirement already satisfied: matplotlib-inline in /usr/local/lib/python3.10/dist-packages (from ipython>=4.0.0->ipywidgets>=7.6.0->ipycytoscape->qc_grader==0.19.7) (0.1.7)\n",
            "Requirement already satisfied: pexpect>4.3 in /usr/local/lib/python3.10/dist-packages (from ipython>=4.0.0->ipywidgets>=7.6.0->ipycytoscape->qc_grader==0.19.7) (4.9.0)\n",
            "Requirement already satisfied: notebook>=4.4.1 in /usr/local/lib/python3.10/dist-packages (from widgetsnbextension~=3.6.0->ipywidgets>=7.6.0->ipycytoscape->qc_grader==0.19.7) (6.5.5)\n",
            "Requirement already satisfied: parso<0.9.0,>=0.8.3 in /usr/local/lib/python3.10/dist-packages (from jedi>=0.16->ipython>=4.0.0->ipywidgets>=7.6.0->ipycytoscape->qc_grader==0.19.7) (0.8.4)\n",
            "Requirement already satisfied: jinja2 in /usr/local/lib/python3.10/dist-packages (from notebook>=4.4.1->widgetsnbextension~=3.6.0->ipywidgets>=7.6.0->ipycytoscape->qc_grader==0.19.7) (3.1.4)\n",
            "Requirement already satisfied: pyzmq<25,>=17 in /usr/local/lib/python3.10/dist-packages (from notebook>=4.4.1->widgetsnbextension~=3.6.0->ipywidgets>=7.6.0->ipycytoscape->qc_grader==0.19.7) (24.0.1)\n",
            "Requirement already satisfied: argon2-cffi in /usr/local/lib/python3.10/dist-packages (from notebook>=4.4.1->widgetsnbextension~=3.6.0->ipywidgets>=7.6.0->ipycytoscape->qc_grader==0.19.7) (23.1.0)\n",
            "Requirement already satisfied: jupyter-core>=4.6.1 in /usr/local/lib/python3.10/dist-packages (from notebook>=4.4.1->widgetsnbextension~=3.6.0->ipywidgets>=7.6.0->ipycytoscape->qc_grader==0.19.7) (5.7.2)\n",
            "Requirement already satisfied: nbformat in /usr/local/lib/python3.10/dist-packages (from notebook>=4.4.1->widgetsnbextension~=3.6.0->ipywidgets>=7.6.0->ipycytoscape->qc_grader==0.19.7) (5.10.4)\n",
            "Requirement already satisfied: nbconvert>=5 in /usr/local/lib/python3.10/dist-packages (from notebook>=4.4.1->widgetsnbextension~=3.6.0->ipywidgets>=7.6.0->ipycytoscape->qc_grader==0.19.7) (6.5.4)\n",
            "Requirement already satisfied: nest-asyncio>=1.5 in /usr/local/lib/python3.10/dist-packages (from notebook>=4.4.1->widgetsnbextension~=3.6.0->ipywidgets>=7.6.0->ipycytoscape->qc_grader==0.19.7) (1.6.0)\n",
            "Requirement already satisfied: Send2Trash>=1.8.0 in /usr/local/lib/python3.10/dist-packages (from notebook>=4.4.1->widgetsnbextension~=3.6.0->ipywidgets>=7.6.0->ipycytoscape->qc_grader==0.19.7) (1.8.3)\n",
            "Requirement already satisfied: terminado>=0.8.3 in /usr/local/lib/python3.10/dist-packages (from notebook>=4.4.1->widgetsnbextension~=3.6.0->ipywidgets>=7.6.0->ipycytoscape->qc_grader==0.19.7) (0.18.1)\n",
            "Requirement already satisfied: prometheus-client in /usr/local/lib/python3.10/dist-packages (from notebook>=4.4.1->widgetsnbextension~=3.6.0->ipywidgets>=7.6.0->ipycytoscape->qc_grader==0.19.7) (0.20.0)\n",
            "Requirement already satisfied: nbclassic>=0.4.7 in /usr/local/lib/python3.10/dist-packages (from notebook>=4.4.1->widgetsnbextension~=3.6.0->ipywidgets>=7.6.0->ipycytoscape->qc_grader==0.19.7) (1.1.0)\n",
            "Requirement already satisfied: python-dateutil>=2.1 in /usr/local/lib/python3.10/dist-packages (from jupyter-client->ipykernel>=4.5.1->ipywidgets>=7.6.0->ipycytoscape->qc_grader==0.19.7) (2.8.2)\n",
            "Requirement already satisfied: ptyprocess>=0.5 in /usr/local/lib/python3.10/dist-packages (from pexpect>4.3->ipython>=4.0.0->ipywidgets>=7.6.0->ipycytoscape->qc_grader==0.19.7) (0.7.0)\n",
            "Requirement already satisfied: wcwidth in /usr/local/lib/python3.10/dist-packages (from prompt-toolkit!=3.0.0,!=3.0.1,<3.1.0,>=2.0.0->ipython>=4.0.0->ipywidgets>=7.6.0->ipycytoscape->qc_grader==0.19.7) (0.2.13)\n",
            "Requirement already satisfied: platformdirs>=2.5 in /usr/local/lib/python3.10/dist-packages (from jupyter-core>=4.6.1->notebook>=4.4.1->widgetsnbextension~=3.6.0->ipywidgets>=7.6.0->ipycytoscape->qc_grader==0.19.7) (4.2.2)\n",
            "Requirement already satisfied: notebook-shim>=0.2.3 in /usr/local/lib/python3.10/dist-packages (from nbclassic>=0.4.7->notebook>=4.4.1->widgetsnbextension~=3.6.0->ipywidgets>=7.6.0->ipycytoscape->qc_grader==0.19.7) (0.2.4)\n",
            "Requirement already satisfied: lxml in /usr/local/lib/python3.10/dist-packages (from nbconvert>=5->notebook>=4.4.1->widgetsnbextension~=3.6.0->ipywidgets>=7.6.0->ipycytoscape->qc_grader==0.19.7) (4.9.4)\n",
            "Requirement already satisfied: beautifulsoup4 in /usr/local/lib/python3.10/dist-packages (from nbconvert>=5->notebook>=4.4.1->widgetsnbextension~=3.6.0->ipywidgets>=7.6.0->ipycytoscape->qc_grader==0.19.7) (4.12.3)\n",
            "Requirement already satisfied: bleach in /usr/local/lib/python3.10/dist-packages (from nbconvert>=5->notebook>=4.4.1->widgetsnbextension~=3.6.0->ipywidgets>=7.6.0->ipycytoscape->qc_grader==0.19.7) (6.1.0)\n",
            "Requirement already satisfied: defusedxml in /usr/local/lib/python3.10/dist-packages (from nbconvert>=5->notebook>=4.4.1->widgetsnbextension~=3.6.0->ipywidgets>=7.6.0->ipycytoscape->qc_grader==0.19.7) (0.7.1)\n",
            "Requirement already satisfied: entrypoints>=0.2.2 in /usr/local/lib/python3.10/dist-packages (from nbconvert>=5->notebook>=4.4.1->widgetsnbextension~=3.6.0->ipywidgets>=7.6.0->ipycytoscape->qc_grader==0.19.7) (0.4)\n",
            "Requirement already satisfied: jupyterlab-pygments in /usr/local/lib/python3.10/dist-packages (from nbconvert>=5->notebook>=4.4.1->widgetsnbextension~=3.6.0->ipywidgets>=7.6.0->ipycytoscape->qc_grader==0.19.7) (0.3.0)\n",
            "Requirement already satisfied: MarkupSafe>=2.0 in /usr/local/lib/python3.10/dist-packages (from nbconvert>=5->notebook>=4.4.1->widgetsnbextension~=3.6.0->ipywidgets>=7.6.0->ipycytoscape->qc_grader==0.19.7) (2.1.5)\n",
            "Requirement already satisfied: mistune<2,>=0.8.1 in /usr/local/lib/python3.10/dist-packages (from nbconvert>=5->notebook>=4.4.1->widgetsnbextension~=3.6.0->ipywidgets>=7.6.0->ipycytoscape->qc_grader==0.19.7) (0.8.4)\n",
            "Requirement already satisfied: nbclient>=0.5.0 in /usr/local/lib/python3.10/dist-packages (from nbconvert>=5->notebook>=4.4.1->widgetsnbextension~=3.6.0->ipywidgets>=7.6.0->ipycytoscape->qc_grader==0.19.7) (0.10.0)\n",
            "Requirement already satisfied: pandocfilters>=1.4.1 in /usr/local/lib/python3.10/dist-packages (from nbconvert>=5->notebook>=4.4.1->widgetsnbextension~=3.6.0->ipywidgets>=7.6.0->ipycytoscape->qc_grader==0.19.7) (1.5.1)\n",
            "Requirement already satisfied: tinycss2 in /usr/local/lib/python3.10/dist-packages (from nbconvert>=5->notebook>=4.4.1->widgetsnbextension~=3.6.0->ipywidgets>=7.6.0->ipycytoscape->qc_grader==0.19.7) (1.3.0)\n",
            "Requirement already satisfied: fastjsonschema>=2.15 in /usr/local/lib/python3.10/dist-packages (from nbformat->notebook>=4.4.1->widgetsnbextension~=3.6.0->ipywidgets>=7.6.0->ipycytoscape->qc_grader==0.19.7) (2.20.0)\n",
            "Requirement already satisfied: jsonschema>=2.6 in /usr/local/lib/python3.10/dist-packages (from nbformat->notebook>=4.4.1->widgetsnbextension~=3.6.0->ipywidgets>=7.6.0->ipycytoscape->qc_grader==0.19.7) (4.19.2)\n",
            "Requirement already satisfied: six>=1.5 in /usr/local/lib/python3.10/dist-packages (from python-dateutil>=2.1->jupyter-client->ipykernel>=4.5.1->ipywidgets>=7.6.0->ipycytoscape->qc_grader==0.19.7) (1.16.0)\n",
            "Requirement already satisfied: argon2-cffi-bindings in /usr/local/lib/python3.10/dist-packages (from argon2-cffi->notebook>=4.4.1->widgetsnbextension~=3.6.0->ipywidgets>=7.6.0->ipycytoscape->qc_grader==0.19.7) (21.2.0)\n",
            "Requirement already satisfied: attrs>=22.2.0 in /usr/local/lib/python3.10/dist-packages (from jsonschema>=2.6->nbformat->notebook>=4.4.1->widgetsnbextension~=3.6.0->ipywidgets>=7.6.0->ipycytoscape->qc_grader==0.19.7) (23.2.0)\n",
            "Requirement already satisfied: jsonschema-specifications>=2023.03.6 in /usr/local/lib/python3.10/dist-packages (from jsonschema>=2.6->nbformat->notebook>=4.4.1->widgetsnbextension~=3.6.0->ipywidgets>=7.6.0->ipycytoscape->qc_grader==0.19.7) (2023.12.1)\n",
            "Requirement already satisfied: referencing>=0.28.4 in /usr/local/lib/python3.10/dist-packages (from jsonschema>=2.6->nbformat->notebook>=4.4.1->widgetsnbextension~=3.6.0->ipywidgets>=7.6.0->ipycytoscape->qc_grader==0.19.7) (0.35.1)\n",
            "Requirement already satisfied: rpds-py>=0.7.1 in /usr/local/lib/python3.10/dist-packages (from jsonschema>=2.6->nbformat->notebook>=4.4.1->widgetsnbextension~=3.6.0->ipywidgets>=7.6.0->ipycytoscape->qc_grader==0.19.7) (0.19.0)\n",
            "Requirement already satisfied: jupyter-server<3,>=1.8 in /usr/local/lib/python3.10/dist-packages (from notebook-shim>=0.2.3->nbclassic>=0.4.7->notebook>=4.4.1->widgetsnbextension~=3.6.0->ipywidgets>=7.6.0->ipycytoscape->qc_grader==0.19.7) (1.24.0)\n",
            "Requirement already satisfied: cffi>=1.0.1 in /usr/local/lib/python3.10/dist-packages (from argon2-cffi-bindings->argon2-cffi->notebook>=4.4.1->widgetsnbextension~=3.6.0->ipywidgets>=7.6.0->ipycytoscape->qc_grader==0.19.7) (1.16.0)\n",
            "Requirement already satisfied: soupsieve>1.2 in /usr/local/lib/python3.10/dist-packages (from beautifulsoup4->nbconvert>=5->notebook>=4.4.1->widgetsnbextension~=3.6.0->ipywidgets>=7.6.0->ipycytoscape->qc_grader==0.19.7) (2.5)\n",
            "Requirement already satisfied: webencodings in /usr/local/lib/python3.10/dist-packages (from bleach->nbconvert>=5->notebook>=4.4.1->widgetsnbextension~=3.6.0->ipywidgets>=7.6.0->ipycytoscape->qc_grader==0.19.7) (0.5.1)\n",
            "Requirement already satisfied: pycparser in /usr/local/lib/python3.10/dist-packages (from cffi>=1.0.1->argon2-cffi-bindings->argon2-cffi->notebook>=4.4.1->widgetsnbextension~=3.6.0->ipywidgets>=7.6.0->ipycytoscape->qc_grader==0.19.7) (2.22)\n",
            "Requirement already satisfied: anyio<4,>=3.1.0 in /usr/local/lib/python3.10/dist-packages (from jupyter-server<3,>=1.8->notebook-shim>=0.2.3->nbclassic>=0.4.7->notebook>=4.4.1->widgetsnbextension~=3.6.0->ipywidgets>=7.6.0->ipycytoscape->qc_grader==0.19.7) (3.7.1)\n",
            "Requirement already satisfied: websocket-client in /usr/local/lib/python3.10/dist-packages (from jupyter-server<3,>=1.8->notebook-shim>=0.2.3->nbclassic>=0.4.7->notebook>=4.4.1->widgetsnbextension~=3.6.0->ipywidgets>=7.6.0->ipycytoscape->qc_grader==0.19.7) (1.8.0)\n",
            "Requirement already satisfied: idna>=2.8 in /usr/local/lib/python3.10/dist-packages (from anyio<4,>=3.1.0->jupyter-server<3,>=1.8->notebook-shim>=0.2.3->nbclassic>=0.4.7->notebook>=4.4.1->widgetsnbextension~=3.6.0->ipywidgets>=7.6.0->ipycytoscape->qc_grader==0.19.7) (3.7)\n",
            "Requirement already satisfied: sniffio>=1.1 in /usr/local/lib/python3.10/dist-packages (from anyio<4,>=3.1.0->jupyter-server<3,>=1.8->notebook-shim>=0.2.3->nbclassic>=0.4.7->notebook>=4.4.1->widgetsnbextension~=3.6.0->ipywidgets>=7.6.0->ipycytoscape->qc_grader==0.19.7) (1.3.1)\n",
            "Requirement already satisfied: exceptiongroup in /usr/local/lib/python3.10/dist-packages (from anyio<4,>=3.1.0->jupyter-server<3,>=1.8->notebook-shim>=0.2.3->nbclassic>=0.4.7->notebook>=4.4.1->widgetsnbextension~=3.6.0->ipywidgets>=7.6.0->ipycytoscape->qc_grader==0.19.7) (1.2.2)\n",
            "Downloading ipycytoscape-1.3.3-py2.py3-none-any.whl (3.6 MB)\n",
            "\u001b[2K   \u001b[90m━━━━━━━━━━━━━━━━━━━━━━━━━━━━━━━━━━━━━━━━\u001b[0m \u001b[32m3.6/3.6 MB\u001b[0m \u001b[31m47.1 MB/s\u001b[0m eta \u001b[36m0:00:00\u001b[0m\n",
            "\u001b[?25hDownloading typeguard-4.3.0-py3-none-any.whl (35 kB)\n",
            "Downloading spectate-1.0.1-py2.py3-none-any.whl (11 kB)\n",
            "Downloading jedi-0.19.1-py2.py3-none-any.whl (1.6 MB)\n",
            "\u001b[2K   \u001b[90m━━━━━━━━━━━━━━━━━━━━━━━━━━━━━━━━━━━━━━━━\u001b[0m \u001b[32m1.6/1.6 MB\u001b[0m \u001b[31m47.4 MB/s\u001b[0m eta \u001b[36m0:00:00\u001b[0m\n",
            "\u001b[?25hBuilding wheels for collected packages: qc_grader\n",
            "  Building wheel for qc_grader (setup.py) ... \u001b[?25l\u001b[?25hdone\n",
            "  Created wheel for qc_grader: filename=qc_grader-0.19.7-py3-none-any.whl size=41413 sha256=8f5d0ea49edf235c8e285dac662e01a63c5a9d2718220db9be6e11b1848b57cd\n",
            "  Stored in directory: /tmp/pip-ephem-wheel-cache-c6l874ui/wheels/36/dc/54/6fd790a3ac4d890a1cc397bb57f8e73c32c61beba3ad923262\n",
            "Successfully built qc_grader\n",
            "Installing collected packages: typeguard, spectate, jedi, ipycytoscape, qc_grader\n",
            "Successfully installed ipycytoscape-1.3.3 jedi-0.19.1 qc_grader-0.19.7 spectate-1.0.1 typeguard-4.3.0\n"
          ]
        }
      ]
    },
    {
      "cell_type": "code",
      "source": [
        "%set_env QXToken=b6ce976ae34fa83441518b4fb705a4eba366b0f8b8e467e597516d02bec32aaafb8d2505e4d297c080b070cc52194bceb5d95df1fa8ebcb9b99b2a8ffdc3ab84"
      ],
      "metadata": {
        "colab": {
          "base_uri": "https://localhost:8080/"
        },
        "id": "6f_q53B6JL__",
        "outputId": "8ed67744-f1e9-4354-e37e-84d2da3923bd"
      },
      "id": "6f_q53B6JL__",
      "execution_count": null,
      "outputs": [
        {
          "output_type": "stream",
          "name": "stdout",
          "text": [
            "env: QXToken=b6ce976ae34fa83441518b4fb705a4eba366b0f8b8e467e597516d02bec32aaafb8d2505e4d297c080b070cc52194bceb5d95df1fa8ebcb9b99b2a8ffdc3ab84\n"
          ]
        }
      ]
    },
    {
      "cell_type": "code",
      "execution_count": null,
      "id": "adcce344-f41c-444a-b23a-5a203a37f890",
      "metadata": {
        "id": "adcce344-f41c-444a-b23a-5a203a37f890"
      },
      "outputs": [],
      "source": [
        "from qiskit.circuit.library import EfficientSU2\n",
        "\n",
        "num_qubits = 50\n",
        "reps = 2\n",
        "abstract_circuit = EfficientSU2(num_qubits, reps=reps, entanglement=\"pairwise\")"
      ]
    },
    {
      "cell_type": "markdown",
      "id": "7b79227a-fa15-48f3-8e53-f80ac3dd5814",
      "metadata": {
        "id": "7b79227a-fa15-48f3-8e53-f80ac3dd5814"
      },
      "source": [
        "##### Assign parameters"
      ]
    },
    {
      "cell_type": "markdown",
      "id": "37351339-f1ca-4827-a693-5d4587dbe93f",
      "metadata": {
        "id": "37351339-f1ca-4827-a693-5d4587dbe93f"
      },
      "source": [
        "Next, create some random parameters and assign them to the circuit."
      ]
    },
    {
      "cell_type": "code",
      "execution_count": null,
      "id": "83e883bc-d145-478e-8ae7-6e20493cdf93",
      "metadata": {
        "id": "83e883bc-d145-478e-8ae7-6e20493cdf93"
      },
      "outputs": [],
      "source": [
        "import numpy as np\n",
        "\n",
        "num_parameters = abstract_circuit.num_parameters\n",
        "param_values = np.random.uniform(-np.pi, np.pi, size=num_parameters)\n",
        "\n",
        "abstract_circuit.assign_parameters(param_values, inplace=True)"
      ]
    },
    {
      "cell_type": "markdown",
      "id": "424f2a73-ff72-4548-b007-ef233ecb39c8",
      "metadata": {
        "id": "424f2a73-ff72-4548-b007-ef233ecb39c8"
      },
      "source": [
        "##### Append uncompute block"
      ]
    },
    {
      "cell_type": "markdown",
      "id": "c7bfc6a4-45ff-4638-b854-fe0f7c0c238f",
      "metadata": {
        "id": "c7bfc6a4-45ff-4638-b854-fe0f7c0c238f"
      },
      "source": [
        "At the end of the lab, you want to compare the output of the quantum computer with the ideal answer. For small quantum circuits you can calculate this value by simulating the circuit on a classical computer, but this is not possible for larger, utility-scale circuits. You can work around this issue with the \"mirror circuit\" technique (also known as \"compute-uncompute\"), which is useful for benchmarking the performance of quantum devices.\n",
        "\n",
        "In the mirror circuit technique, you concatenate the circuit with its inverse, which is formed by inverting each gate of the circuit in reverse order. The resulting circuit implements the identity operator, which can trivially be simulated. Because the structure of the original circuit is preserved in the mirror circuit, executing the mirror circuit still gives an idea of how the quantum device would perform on the original circuit.\n",
        "\n",
        "The following code cell constructs the mirror circuit using the [`UnitaryOverlap`](https://docs.quantum.ibm.com/api/qiskit/qiskit.circuit.library.UnitaryOverlap) class from Qiskit's circuit library. Before mirroring the circuit, append a barrier instruction to it to prevent the transpiler from merging the two parts of the circuit on either side of the barrier. Without the barrier, the transpiler would merge the original circuit with its inverse, resulting in a transpiled circuit without any gates."
      ]
    },
    {
      "cell_type": "code",
      "execution_count": null,
      "id": "d2f6a853-e23c-4b5f-8f53-a525ba110932",
      "metadata": {
        "id": "d2f6a853-e23c-4b5f-8f53-a525ba110932"
      },
      "outputs": [],
      "source": [
        "from qiskit.circuit.library import UnitaryOverlap\n",
        "\n",
        "abstract_circuit.barrier()\n",
        "abstract_circuit = UnitaryOverlap(abstract_circuit, abstract_circuit)"
      ]
    },
    {
      "cell_type": "markdown",
      "id": "4df05918",
      "metadata": {
        "id": "4df05918"
      },
      "source": [
        "It is recommended to draw the circuit to visualize what you are going to run. However, a 50-qubit circuit may be too dense to visualize effectively. Therefore, create a smaller abstract circuit with 4 qubits by following the above steps (i.e., create a 4-qubit `EfficientSU2` circuit, assign parameters, and append uncomput block). Then, draw the circuit by following one of the [visualization techniques](https://docs.quantum.ibm.com/build/circuit-visualization). Note that the 4-qubit circuit is only for visualization. You must execute the 50-qubit circuit with error mitigation and suppression."
      ]
    },
    {
      "cell_type": "markdown",
      "id": "d7610c00-c613-42b9-8113-98b07566372d",
      "metadata": {
        "id": "d7610c00-c613-42b9-8113-98b07566372d"
      },
      "source": [
        "#### Observables"
      ]
    },
    {
      "cell_type": "markdown",
      "id": "6e4638e9-4674-45df-970b-4ee41976fd1b",
      "metadata": {
        "id": "6e4638e9-4674-45df-970b-4ee41976fd1b"
      },
      "source": [
        "Next, define the observables. You will create weight-1 $\\langle Z_i \\rangle$ observables for each qubit in the circuit. Example: For a $4$-qubit abstract circuit, you will create $4$ observables each with a single $\\langle Z \\rangle$ acting on a different qubit, i.e., $IIIZ$, $IIZI$, $IZII$, and $ZIII$."
      ]
    },
    {
      "cell_type": "code",
      "execution_count": null,
      "id": "4ce6d99c-cef8-4144-ab3a-62434f18b583",
      "metadata": {
        "id": "4ce6d99c-cef8-4144-ab3a-62434f18b583"
      },
      "outputs": [],
      "source": [
        "from qiskit.quantum_info import SparsePauliOp\n",
        "\n",
        "paulis = [\"\".join(\"Z\" if i == q else \"I\" for i in range(num_qubits)) for q in range(num_qubits)]\n",
        "abstract_observables = [SparsePauliOp(pauli) for pauli in paulis]"
      ]
    },
    {
      "cell_type": "markdown",
      "id": "0245e086-c0f2-48b1-a8ea-7f2c8479e191",
      "metadata": {
        "id": "0245e086-c0f2-48b1-a8ea-7f2c8479e191"
      },
      "source": [
        "### Optimize"
      ]
    },
    {
      "cell_type": "markdown",
      "id": "864b7424-4c46-44e9-a76c-00c24732bcc0",
      "metadata": {
        "id": "864b7424-4c46-44e9-a76c-00c24732bcc0"
      },
      "source": [
        "You must optimize your circuit (and observables) and make them target hardware compatible before executing. You need to choose the hardware device to use before optimizing your circuit. The following code cell requests the least busy utility-scale device with at least 127 qubits."
      ]
    },
    {
      "cell_type": "code",
      "execution_count": null,
      "id": "4ae2b894-cc8a-4cdd-99a8-271fdee5d3fb",
      "metadata": {
        "colab": {
          "base_uri": "https://localhost:8080/",
          "height": 35
        },
        "id": "4ae2b894-cc8a-4cdd-99a8-271fdee5d3fb",
        "outputId": "ce5b6cf2-6808-4300-ad30-dbbef3b89090"
      },
      "outputs": [
        {
          "output_type": "execute_result",
          "data": {
            "text/plain": [
              "'ibm_brisbane'"
            ],
            "application/vnd.google.colaboratory.intrinsic+json": {
              "type": "string"
            }
          },
          "metadata": {},
          "execution_count": 7
        }
      ],
      "source": [
        "from qiskit_ibm_runtime import QiskitRuntimeService\n",
        "\n",
        "service = QiskitRuntimeService(channel='ibm_quantum', token='b6ce976ae34fa83441518b4fb705a4eba366b0f8b8e467e597516d02bec32aaafb8d2505e4d297c080b070cc52194bceb5d95df1fa8ebcb9b99b2a8ffdc3ab84')\n",
        "backend = service.least_busy(min_num_qubits=127)\n",
        "backend.name"
      ]
    },
    {
      "cell_type": "markdown",
      "id": "9a8e9161-0bf3-4eb7-9e47-0465bf4f4765",
      "metadata": {
        "id": "9a8e9161-0bf3-4eb7-9e47-0465bf4f4765"
      },
      "source": [
        "#### Target circuit"
      ]
    },
    {
      "cell_type": "markdown",
      "id": "526f28f9-e05f-4bfc-a686-da9f54dae4bd",
      "metadata": {
        "id": "526f28f9-e05f-4bfc-a686-da9f54dae4bd"
      },
      "source": [
        "Optimizing you circuit involves transpiling it for your chosen backend. You can transpile your circuit by creating a pass manager and then running the pass manager on the circuit. An easy way to create a pass manager is to use the [`generate_preset_pass_manager`](https://docs.quantum.ibm.com/api/qiskit/transpiler_preset#qiskit.transpiler.preset_passmanagers.generate_preset_pass_manager) function. You have learnt about transpilation and pass managers in an earlier lab."
      ]
    },
    {
      "cell_type": "code",
      "execution_count": null,
      "id": "b3383a3f-33df-49ee-bbed-4d3b124ab06b",
      "metadata": {
        "id": "b3383a3f-33df-49ee-bbed-4d3b124ab06b"
      },
      "outputs": [],
      "source": [
        "from qiskit.transpiler.preset_passmanagers import generate_preset_pass_manager\n",
        "\n",
        "pm = generate_preset_pass_manager(backend=backend, optimization_level=3)\n",
        "target_circuit = pm.run(abstract_circuit)"
      ]
    },
    {
      "cell_type": "markdown",
      "id": "34d1a74c-d861-4596-87e0-4379231a0001",
      "metadata": {
        "id": "34d1a74c-d861-4596-87e0-4379231a0001"
      },
      "source": [
        "#### Target observables"
      ]
    },
    {
      "cell_type": "markdown",
      "id": "be3bf6d6-09ca-47fd-8191-88d1247de934",
      "metadata": {
        "id": "be3bf6d6-09ca-47fd-8191-88d1247de934"
      },
      "source": [
        "The transpilation process has mapped the virtual qubits of the abstract circuit to physical qubits on the hardware. The information about the qubit layout is stored in the layout attribute of the transpiled target circuit. The observables were defined in terms of the virtual qubits, so you need to apply this layout to the observables, which you can do with the [`apply_layout`](https://docs.quantum.ibm.com/api/qiskit/qiskit.quantum_info.SparsePauliOp#apply_layout) method of `SparsePauliOp`."
      ]
    },
    {
      "cell_type": "code",
      "execution_count": null,
      "id": "0dffc766-c698-45c7-999b-215584d3c85c",
      "metadata": {
        "id": "0dffc766-c698-45c7-999b-215584d3c85c"
      },
      "outputs": [],
      "source": [
        "layout = target_circuit.layout\n",
        "target_observables = [abs_obs.apply_layout(layout=layout) for abs_obs in abstract_observables]"
      ]
    },
    {
      "cell_type": "markdown",
      "id": "a99266be-5f25-4078-8c7c-20dd7ba94119",
      "metadata": {
        "id": "a99266be-5f25-4078-8c7c-20dd7ba94119"
      },
      "source": [
        "### Execute\n",
        "(_Excercises_)"
      ]
    },
    {
      "cell_type": "markdown",
      "id": "e821a897-411e-4fad-9532-0b073355c414",
      "metadata": {
        "id": "e821a897-411e-4fad-9532-0b073355c414"
      },
      "source": [
        "Now, execute the target circuit and observables with different configurations of error suppression and mitigation from the `Estimator` primitive. You will perform **seven excercises** where you submit seven different jobs (each with same circuit and observables) with following settings.\n",
        "\n",
        "- **Excercise-1**: No suppression/mitigation (_worked out for reference_)\n",
        "- **Excercise-2**: Dynamical Decoupling\n",
        "- **Excercise-3**: Measurement Mitigation (TREX)\n",
        "- **Excercise-4**: Zero Noise Extrapolation (ZNE)\n",
        "   - _Excercise-4a_: ZNE (exponential extrapolator)\n",
        "   - _Excercise-4b_: ZNE (linear extrapolator)\n",
        "- **Excercise-5**: ZNE + Gate Twirling\n",
        "- **Excercise-6**: All\n",
        "\n",
        "You need to refer to Qiskit Runtime docs to successfully complete the excercises in this lab. Some helpful and necessary links are below:\n",
        "1. https://docs.quantum.ibm.com/run/error-mitigation-explanation\n",
        "2. https://docs.quantum.ibm.com/run/configure-error-mitigation\n",
        "3. https://docs.quantum.ibm.com/api/qiskit-ibm-runtime/options\n",
        "   - https://docs.quantum.ibm.com/api/qiskit-ibm-runtime/qiskit_ibm_runtime.options.EstimatorOptions\n",
        "   - https://docs.quantum.ibm.com/api/qiskit-ibm-runtime/qiskit_ibm_runtime.options.DynamicalDecouplingOptions\n",
        "   - https://docs.quantum.ibm.com/api/qiskit-ibm-runtime/qiskit_ibm_runtime.options.ResilienceOptionsV2\n",
        "   - https://docs.quantum.ibm.com/api/qiskit-ibm-runtime/qiskit_ibm_runtime.options.MeasureNoiseLearningOptions\n",
        "   - https://docs.quantum.ibm.com/api/qiskit-ibm-runtime/qiskit_ibm_runtime.options.TwirlingOptions\n",
        "   - https://docs.quantum.ibm.com/api/qiskit-ibm-runtime/qiskit_ibm_runtime.options.ZneOptions\n",
        "  \n",
        "Read the comments in the next code cell for deatils of each excercise and hints.\n",
        "\n",
        "**Note 1**\n",
        "\n",
        "Some suppression and mitigation options are enabled by default (e.g., measurement twirling is enabled by default). Therefore, if you want to selectively enable one or more options, inspect the default options first and explicitly disable unwanted options, if necessary.\n",
        "\n",
        "One way is to [turn off all mitigation and suppression first](https://docs.quantum.ibm.com/run/configure-error-mitigation#turn-off-all-error-mitigation-and-error-suppression), then selectively turn on your desired options.\n",
        "\n",
        "Also, refer to the [Qiskit Runtime API docs](https://docs.quantum.ibm.com/api/qiskit-ibm-runtime) for default options.\n",
        "\n",
        "**Note 2**\n",
        "\n",
        "It is recommended to submit multiple non-iterative jobs inside a [`Batch`](https://docs.quantum.ibm.com/api/qiskit-ibm-runtime/qiskit_ibm_runtime.Batch) [execution mode](https://docs.quantum.ibm.com/run/execution-modes) of Qiskit Runtime (See also [Run jobs in batch](https://docs.quantum.ibm.com/run/run-jobs-batch)) to leverage the parallelization offered by batch and minimize delay between jobs. For example, if you are an open plan users, you can submit $3$ jobs together in the `Batch` execution mode."
      ]
    },
    {
      "cell_type": "code",
      "execution_count": null,
      "id": "5339ee18-2fc8-4b10-b5af-62c67ef642d7",
      "metadata": {
        "id": "5339ee18-2fc8-4b10-b5af-62c67ef642d7"
      },
      "outputs": [],
      "source": [
        "from qiskit_ibm_runtime import EstimatorV2 as Estimator, EstimatorOptions, Batch\n",
        "\n",
        "# Define the primitive unified bloc (PUB) for Estimator jobs\n",
        "# More on PUB: https://docs.quantum.ibm.com/api/qiskit/primitives\n",
        "pub = (target_circuit, target_observables)\n",
        "default_shots = 10_000\n",
        "\n",
        "# list for saving job results\n",
        "primitive_results = []\n",
        "\n",
        "# Submit Exercise 1 to 3 inside a Batch execution mode\n",
        "with Batch(backend=backend) as batch:\n",
        "    # Excercise-1: No mitigation (worked out for you)\n",
        "    ## https://docs.quantum.ibm.com/run/configure-error-mitigation#turn-off-all-error-mitigation-and-error-suppression\n",
        "    options_ex1 = EstimatorOptions() # some suppression and mitigation are enabled by default\n",
        "    options_ex1.optimization_level = 0\n",
        "    options_ex1.resilience_level = 0\n",
        "    options_ex1.default_shots = default_shots\n",
        "\n",
        "    # Instantiate `Estimator` with options\n",
        "    estimator = Estimator(mode=batch, options=options_ex1)\n",
        "    # Submit job\n",
        "    job_ex1 = estimator.run(pubs=[pub])\n",
        "    # primitive_results.append(job_ex1.result())\n",
        "\n",
        "\n",
        "    # Excercise-2: Dynamical Decoupling (DD)\n",
        "    options_ex2 = EstimatorOptions()\n",
        "    options_ex2.default_shots = default_shots\n",
        "\n",
        "\n",
        "\n",
        "\n",
        "    \"\"\"Your code goes here.\n",
        "\n",
        "        Configure options to only enable DD with a 'XX' sequence.\n",
        "\n",
        "        Hint: First, turn off all error suppression and mitigation. Then, turn on DD related options only.\n",
        "            1. https://docs.quantum.ibm.com/api/qiskit-ibm-runtime/qiskit_ibm_runtime.options.EstimatorOptions\n",
        "            2. https://docs.quantum.ibm.com/api/qiskit-ibm-runtime/qiskit_ibm_runtime.options.DynamicalDecouplingOptions\n",
        "            3. https://docs.quantum.ibm.com/run/error-mitigation-explanation#dynamical-decoupling\n",
        "    \"\"\"\n",
        "    options_ex2.dynamical_decoupling.enable = True\n",
        "    options_ex2.dynamical_decoupling.sequence_type = 'XX'\n",
        "\n",
        "    estimator = Estimator(mode=batch, options=options_ex2)\n",
        "    job_ex2 = estimator.run(pubs=[pub])\n",
        "    # primitive_results.append(job_ex2.result())\n",
        "\n",
        "\n",
        "    # Excercise-3: Measurement mitigation (TREX)\n",
        "    options_ex3 = EstimatorOptions()\n",
        "    options_ex3.default_shots = default_shots\n",
        "\n",
        "\n",
        "\n",
        "    \"\"\"Your code goes here.\n",
        "\n",
        "        Configure options to enable measurement mitigation only.\n",
        "\n",
        "        Hint:\n",
        "            1. https://docs.quantum.ibm.com/api/qiskit-ibm-runtime/qiskit_ibm_runtime.options.EstimatorOptions\n",
        "            2. https://docs.quantum.ibm.com/api/qiskit-ibm-runtime/qiskit_ibm_runtime.options.ResilienceOptionsV2\n",
        "            3. https://docs.quantum.ibm.com/api/qiskit-ibm-runtime/qiskit_ibm_runtime.options.TwirlingOptions\n",
        "            4. https://docs.quantum.ibm.com/run/configure-error-mitigation\n",
        "\n",
        "    \"\"\"\n",
        "    options_ex3.resilience.measure_mitigation = True\n",
        "    options_ex3.twirling.enable_measure = True\n",
        "\n",
        "    estimator = Estimator(mode=batch, options=options_ex3)\n",
        "    job_ex3 = estimator.run(pubs=[pub])\n",
        "    # primitive_results.append(job_ex3.result())\n",
        "\n",
        "# Wait for first 3 jobs to complete. Fetch results when done\n",
        "primitive_results.append(job_ex1.result())\n",
        "primitive_results.append(job_ex2.result())\n",
        "primitive_results.append(job_ex3.result())\n",
        "\n",
        "job_id_ex1 = job_ex1.job_id()\n",
        "job_id_ex2 = job_ex2.job_id()\n",
        "job_id_ex3 = job_ex3.job_id()\n",
        "\n",
        "# Submit Exercise 4a, 4b, and 5 inside another Batch execution mode\n",
        "with Batch(backend=backend) as batch:\n",
        "    # Excercise-4a: Zero Noise Extrapolation (extrapolator=\"exponential\" | noise_factors=(1, 3, 5))\n",
        "    options_ex4a = EstimatorOptions()\n",
        "    options_ex4a.default_shots = default_shots\n",
        "\n",
        "    \"\"\"Your code goes here.\n",
        "\n",
        "        Configure options to only enable ZNE with the exponential extrapolator and default noise factors (1, 3, 5).\n",
        "\n",
        "        Hint:\n",
        "            1. https://docs.quantum.ibm.com/api/qiskit-ibm-runtime/qiskit_ibm_runtime.options.EstimatorOptions\n",
        "            2. https://docs.quantum.ibm.com/api/qiskit-ibm-runtime/qiskit_ibm_runtime.options.ResilienceOptionsV2\n",
        "            3. https://docs.quantum.ibm.com/api/qiskit-ibm-runtime/qiskit_ibm_runtime.options.ZneOptions\n",
        "    \"\"\"\n",
        "    options_ex4a.resilience.zne_mitigation = True\n",
        "    options_ex4a.resilience.zne.noise_factors = (1, 3, 5)\n",
        "    options_ex4a.resilience.zne.extrapolator = (\"exponential\")\n",
        "\n",
        "\n",
        "    estimator = Estimator(mode=batch, options=options_ex4a)\n",
        "    job_ex4a = estimator.run(pubs=[pub])\n",
        "\n",
        "\n",
        "    # Excercise-4b: Zero Noise Extrapolation (use: extrapolator=\"linear\" and noise_factors=(1, 3, 5))\n",
        "    options_ex4b = EstimatorOptions()\n",
        "    options_ex4b.default_shots = default_shots\n",
        "    \"\"\"Your code goes here.\n",
        "\n",
        "        Configure options to only enable ZNE with the linear extrapolator and default noise factors (1, 3, 5).\n",
        "\n",
        "        Hint:\n",
        "            1. https://docs.quantum.ibm.com/api/qiskit-ibm-runtime/qiskit_ibm_runtime.options.EstimatorOptions\n",
        "            2. https://docs.quantum.ibm.com/api/qiskit-ibm-runtime/qiskit_ibm_runtime.options.ResilienceOptionsV2\n",
        "            3. https://docs.quantum.ibm.com/api/qiskit-ibm-runtime/qiskit_ibm_runtime.options.ZneOptions\n",
        "    \"\"\"\n",
        "    options_ex4b.resilience.zne_mitigation = True\n",
        "    options_ex4b.resilience.zne.noise_factors = (1, 3, 5)\n",
        "    options_ex4b.resilience.zne.extrapolator = (\"linear\")\n",
        "\n",
        "    estimator = Estimator(mode=batch, options=options_ex4b)\n",
        "    job_ex4b = estimator.run(pubs=[pub])\n",
        "\n",
        "\n",
        "    # Excercise-5: Gate Twirling + Zero Noise Extrapolation (use: extrapolator=(\"exponential\", \"linear\") and noise_factors=(1, 3, 5))\n",
        "    options_ex5 = EstimatorOptions()\n",
        "    options_ex5.default_shots = default_shots\n",
        "    \"\"\"Your code goes here.\n",
        "\n",
        "        Configure options to enable gate twirling and ZNE.\n",
        "        Instead of a single extrapolator, set a sequence of extrapolators, i.e., (\"exponential\", \"linear\"), in ZneOptions.\n",
        "        Make sure to turn off any measurment twirling and measurement mitigation.\n",
        "\n",
        "        Hint:\n",
        "            1. https://docs.quantum.ibm.com/api/qiskit-ibm-runtime/qiskit_ibm_runtime.options.EstimatorOptions\n",
        "            2. https://docs.quantum.ibm.com/api/qiskit-ibm-runtime/qiskit_ibm_runtime.options.ResilienceOptionsV2\n",
        "            3. https://docs.quantum.ibm.com/api/qiskit-ibm-runtime/qiskit_ibm_runtime.options.ZneOptions\n",
        "            4. https://docs.quantum.ibm.com/api/qiskit-ibm-runtime/qiskit_ibm_runtime.options.TwirlingOptions\n",
        "    \"\"\"\n",
        "    options_ex5.resilience.measure_mitigation = False\n",
        "    options_ex5.twirling.enable_measure = False\n",
        "    options_ex5.resilience.zne_mitigation = True\n",
        "    options_ex5.resilience.zne.noise_factors = (1, 3, 5)\n",
        "    options_ex5.resilience.zne.extrapolator = (\"exponential\", \"linear\")\n",
        "\n",
        "\n",
        "    estimator = Estimator(modeoptions=options_ex5)\n",
        "    job_ex5 = estimator.run(pubs=[pub])\n",
        "\n",
        "# Wait for next 3 jobs to complete. Fetch results when done\n",
        "primitive_results.append(job_ex4a.result())\n",
        "primitive_results.append(job_ex4b.result())\n",
        "primitive_results.append(job_ex5.result())\n",
        "\n",
        "# Submit Exercise 6 in Job execution mode as it is a single job\n",
        "# Excercise-6: All\n",
        "options_ex6 = EstimatorOptions()\n",
        "options_ex6.default_shots = default_shots\n",
        "\"\"\"Your code goes here.\n",
        "\n",
        "    Configure options to enable all suppression and mitigation options, i.e., DD, measurement mitigation,\n",
        "    gate twirling, and ZNE. Keep using the same sequence of extrapolators and noise factors from excercise-5 for ZNE.\n",
        "\n",
        "    Hint:\n",
        "        1. https://docs.quantum.ibm.com/api/qiskit-ibm-runtime/qiskit_ibm_runtime.options.EstimatorOptions\n",
        "        2. https://docs.quantum.ibm.com/api/qiskit-ibm-runtime/qiskit_ibm_runtime.options.DynamicalDecouplingOptions\n",
        "        3. https://docs.quantum.ibm.com/run/configure-error-mitigation#configure-estimator-v2-with-resilience-levels\n",
        "\"\"\"\n",
        "options_ex6.dynamical_decoupling.enable = True\n",
        "options_ex6.dynamical_decoupling.sequence_type = 'XX'\n",
        "options_ex6.resilience.measure_mitigation = True\n",
        "options_ex6.twirling.enable_measure = True\n",
        "options_ex6.resilience.zne_mitigation = True\n",
        "options_ex6.resilience.zne.noise_factors = (1, 3, 5)\n",
        "options_ex6.resilience.zne.extrapolator = (\"exponential\", \"linear\")\n",
        "\n",
        "# Note: explicitly set `mode=backend` in Job execution mode.\n",
        "# Inside Batch context manager, `Estimator` knows the context/backend implicitly\n",
        "# However, without the context manager, we must set `mode` explicitly\n",
        "estimator = Estimator(mode=backend, options=options_ex6)\n",
        "job_ex6 = estimator.run(pubs=[pub])\n",
        "primitive_results.append(job_ex6.result())"
      ]
    },
    {
      "cell_type": "code",
      "source": [
        "job_id_ex1 = service.job('cth1jvk31xr0008e6rmg')\n",
        "job_result = job_id_ex1.result()\n",
        "\n",
        "for job_id_ex1, pub_result in enumerate(job_result):\n",
        "    print(f\"Expectation values for pub {job_id_ex1}: {pub_result.data.evs}\")\n",
        "\n",
        "\n"
      ],
      "metadata": {
        "colab": {
          "base_uri": "https://localhost:8080/"
        },
        "id": "dDApfMulYd-1",
        "outputId": "6d7229a8-9184-4248-bdc7-b5a5cb0f5f96"
      },
      "id": "dDApfMulYd-1",
      "execution_count": null,
      "outputs": [
        {
          "output_type": "stream",
          "name": "stdout",
          "text": [
            "Expectation values for pub 0: [0.7574 0.7518 0.7968 0.8058 0.6934 0.7516 0.8368 0.8022 0.7022 0.7066\n",
            " 0.4708 0.4436 0.5348 0.725  0.6766 0.6798 0.591  0.6332 0.715  0.752\n",
            " 0.716  0.6514 0.612  0.5682 0.6536 0.789  0.7286 0.6888 0.7212 0.7136\n",
            " 0.5162 0.511  0.6916 0.756  0.731  0.7876 0.7126 0.7304 0.6402 0.7812\n",
            " 0.7788 0.7176 0.7914 0.894  0.8132 0.7398 0.646  0.7712 0.6356 0.459 ]\n"
          ]
        }
      ]
    },
    {
      "cell_type": "code",
      "source": [
        "PubResult_ex1 = sum(pub_result.data.evs)/len(pub_result.data.evs)"
      ],
      "metadata": {
        "id": "WVwFX-6af1rB"
      },
      "id": "WVwFX-6af1rB",
      "execution_count": null,
      "outputs": []
    },
    {
      "cell_type": "code",
      "source": [
        "job_id_ex2 = service.job('cth1jw3tqrdg008sx7rg')\n",
        "job_result = job_id_ex2.result()\n",
        "\n",
        "for job_id_ex2, pub_result in enumerate(job_result):\n",
        "    print(f\"Expectation values for pub {job_id_ex2}: {pub_result.data.evs}\")\n",
        "\n",
        "# PubResult = sum(pub_result.data.evs)/len(pub_result.data.evs)\n"
      ],
      "metadata": {
        "colab": {
          "base_uri": "https://localhost:8080/"
        },
        "id": "1kVqRh1IcT-H",
        "outputId": "a49e5816-a785-4946-d99b-74849f6bf79b"
      },
      "id": "1kVqRh1IcT-H",
      "execution_count": null,
      "outputs": [
        {
          "output_type": "stream",
          "name": "stdout",
          "text": [
            "Expectation values for pub 0: [0.80918114 0.76489494 0.81747913 0.82054687 0.71586149 0.77097679\n",
            " 0.84855215 0.80202897 0.67792361 0.65385917 0.44892408 0.50023652\n",
            " 0.57313694 0.72410595 0.69330067 0.69458491 0.63454739 0.65472618\n",
            " 0.76032536 0.77541209 0.72323561 0.65159221 0.6611497  0.58458544\n",
            " 0.62302604 0.85229474 0.7414434  0.73208581 0.77531845 0.76550911\n",
            " 0.42418178 0.48899373 0.67383563 0.75150409 0.73136752 0.77068968\n",
            " 0.72691736 0.72024516 0.59272036 0.6759132  0.66536793 0.64138409\n",
            " 0.69830574 0.87286374 0.70568819 0.64853003 0.78050853 0.79539936\n",
            " 0.79390748 0.76227641]\n"
          ]
        }
      ]
    },
    {
      "cell_type": "code",
      "source": [
        "PubResult_ex2 = sum(pub_result.data.evs)/len(pub_result.data.evs)"
      ],
      "metadata": {
        "id": "b2t292jbfIzT"
      },
      "id": "b2t292jbfIzT",
      "execution_count": null,
      "outputs": []
    },
    {
      "cell_type": "code",
      "source": [
        "job_id_ex3 = service.job('cth1jwk3nx40008bq8wg')\n",
        "job_result = job_id_ex3.result()\n",
        "\n",
        "for job_id_ex3, pub_result in enumerate(job_result):\n",
        "    print(f\"Expectation values for pub {job_id_ex3}: {pub_result.data.evs}\")\n"
      ],
      "metadata": {
        "colab": {
          "base_uri": "https://localhost:8080/"
        },
        "id": "egoSlUh3eM-9",
        "outputId": "a3e00b34-7f4b-4d32-f050-70f3c5542347"
      },
      "id": "egoSlUh3eM-9",
      "execution_count": null,
      "outputs": [
        {
          "output_type": "stream",
          "name": "stdout",
          "text": [
            "Expectation values for pub 0: [0.79064286 0.75212406 0.79935848 0.80808648 0.6798005  0.74694766\n",
            " 0.84036092 0.77994155 0.6598526  0.63439533 0.44150374 0.47357659\n",
            " 0.59013806 0.72076677 0.70167861 0.68143831 0.62705005 0.65547914\n",
            " 0.69795035 0.73996595 0.69917841 0.63879854 0.66224164 0.59922799\n",
            " 0.66781762 0.83541762 0.73935753 0.69980119 0.72268817 0.70191567\n",
            " 0.5069268  0.55439544 0.70920761 0.76456847 0.73806151 0.78862249\n",
            " 0.75502685 0.70809743 0.64059795 0.77141101 0.78686082 0.745012\n",
            " 0.80903706 0.8940874  0.80848562 0.7322645  0.7940158  0.78619498\n",
            " 0.62729493 0.46233124]\n"
          ]
        }
      ]
    },
    {
      "cell_type": "code",
      "source": [
        "PubResult_ex3 = sum(pub_result.data.evs)/len(pub_result.data.evs)"
      ],
      "metadata": {
        "id": "jtXJeRukgKAO"
      },
      "id": "jtXJeRukgKAO",
      "execution_count": null,
      "outputs": []
    },
    {
      "cell_type": "code",
      "source": [
        "job_id_ex4a = service.job('cth6p105q9w0008g8x6g')\n",
        "job_result = job_id_ex4a.result()\n",
        "\n",
        "for job_id_ex4a, pub_result in enumerate(job_result):\n",
        "    print(f\"Expectation values for pub {job_id_ex4a}: {pub_result.data.evs}\")"
      ],
      "metadata": {
        "colab": {
          "base_uri": "https://localhost:8080/"
        },
        "id": "_JRdlU7agAzd",
        "outputId": "0889149a-753c-4ac5-9a2d-ca4af9a63081"
      },
      "id": "_JRdlU7agAzd",
      "execution_count": null,
      "outputs": [
        {
          "output_type": "stream",
          "name": "stdout",
          "text": [
            "Expectation values for pub 0: [4.39936715e+00 1.89019843e+00 1.24440845e+03 1.16887255e+03\n",
            " 1.33878991e+00 1.38865178e+00 1.56909925e+00 1.69327550e+00\n",
            " 6.91553387e+02 1.15214582e+00 1.15265246e+00 1.51388913e+00\n",
            " 1.55772723e+00 1.23048399e+00 1.16251531e+00 1.38107199e+00\n",
            " 1.36488704e+00 1.25877664e+00 7.27717332e+02 1.31575636e+00\n",
            " 8.26147396e+02 3.79896470e+02 4.96390071e+02 1.22140623e+00\n",
            " 1.14388747e+00 1.01731796e+00 1.19042560e+00 1.32473908e+00\n",
            " 1.31452846e+00 1.19925518e+00 1.31216893e+00 1.49711139e+00\n",
            " 1.22893297e+00 1.40885865e+00 1.45024477e+00 1.40448846e+00\n",
            " 1.82378979e+00 1.02159226e+00 1.49921006e+00 1.20669439e+00\n",
            " 2.05618793e+00 2.39475199e+00 1.25054594e+00 1.20669326e+00\n",
            " 6.50336215e+02 9.17962575e+02 7.75066778e+02 1.08698102e+02\n",
            " 1.37318607e+00 2.84049830e+00]\n"
          ]
        }
      ]
    },
    {
      "cell_type": "code",
      "source": [
        "PubResult_ex4a = sum(pub_result.data.evs)/len(pub_result.data.evs)"
      ],
      "metadata": {
        "id": "gfZF4chbgbjh"
      },
      "id": "gfZF4chbgbjh",
      "execution_count": null,
      "outputs": []
    },
    {
      "cell_type": "code",
      "source": [
        "job_id_ex4b = service.job('cth6p1831xr0008e7wsg')\n",
        "job_result = job_id_ex4b.result()\n",
        "\n",
        "for job_id_ex4b, pub_result in enumerate(job_result):\n",
        "    print(f\"Expectation values for pub {job_id_ex4b}: {pub_result.data.evs}\")"
      ],
      "metadata": {
        "colab": {
          "base_uri": "https://localhost:8080/"
        },
        "id": "-DwFosDtgVrx",
        "outputId": "14157e5b-53a6-4426-8b23-119ef8725cf7"
      },
      "id": "-DwFosDtgVrx",
      "execution_count": null,
      "outputs": [
        {
          "output_type": "stream",
          "name": "stdout",
          "text": [
            "Expectation values for pub 0: [0.81853238 0.87287598 0.67816896 0.64537082 0.80256106 0.82384658\n",
            " 0.61672059 0.63425624 0.35719933 0.59761426 0.74769299 0.85520373\n",
            " 0.63603402 0.73836194 0.58712446 0.67735438 0.86995511 0.83180676\n",
            " 0.29835714 0.71518004 0.22879221 0.1596616  0.28333073 0.59254823\n",
            " 0.75810999 0.68111368 0.72803254 0.77958765 0.6632808  0.84989282\n",
            " 0.92250529 0.87577729 0.71125073 0.73702183 0.88525578 0.83433212\n",
            " 0.7885908  0.78849317 0.77621325 0.83230209 0.60032575 0.6644262\n",
            " 0.71504604 0.75325681 0.32837486 0.46033639 0.3080716  0.61590564\n",
            " 0.75702169 0.70756339]\n"
          ]
        }
      ]
    },
    {
      "cell_type": "code",
      "source": [
        "PubResult_ex4b = sum(pub_result.data.evs)/len(pub_result.data.evs)"
      ],
      "metadata": {
        "id": "CfHEiCcAgrrZ"
      },
      "id": "CfHEiCcAgrrZ",
      "execution_count": null,
      "outputs": []
    },
    {
      "cell_type": "code",
      "source": [
        "job_id_ex5 = service.job('cth6p1r3nx40008brfz0')\n",
        "job_result = job_id_ex5.result()\n",
        "\n",
        "for job_id_ex5, pub_result in enumerate(job_result):\n",
        "    print(f\"Expectation values for pub {job_id_ex5}: {pub_result.data.evs}\")"
      ],
      "metadata": {
        "colab": {
          "base_uri": "https://localhost:8080/"
        },
        "id": "GC5ep_rUgjq_",
        "outputId": "bc2dc0fb-a1bb-4066-c104-8ef78b7bbd13"
      },
      "id": "GC5ep_rUgjq_",
      "execution_count": null,
      "outputs": [
        {
          "output_type": "stream",
          "name": "stdout",
          "text": [
            "Expectation values for pub 0: [ 0.82393393  1.72071358  0.61056771  0.65581977  1.21746666  1.36340837\n",
            "  1.3407604   1.45076487  0.28320894  0.57423498  1.16530428  1.43672322\n",
            "  0.66580958  1.16645985  1.11837511  1.45819392  1.25392014  0.77455298\n",
            "  0.28445888  1.17816268  0.26783976 -0.00876327  0.26876145  1.18671503\n",
            "  1.05143447  0.59916449  1.11399682  1.12429019  0.68440103  1.13668756\n",
            "  1.16794122  1.31978692  1.25088554  1.51528754  0.84352964  1.31529824\n",
            "  1.53493497  1.05966164  1.41626809  1.15494286  1.54331098  1.6172957\n",
            "  1.10388185  1.35315068  0.28477132  0.28549937  0.25010322  0.56602699\n",
            "  0.70287683  0.66281859]\n"
          ]
        }
      ]
    },
    {
      "cell_type": "code",
      "source": [
        "PubResult_ex5 = sum(pub_result.data.evs)/len(pub_result.data.evs)"
      ],
      "metadata": {
        "id": "hQAt3eT9g9DY"
      },
      "id": "hQAt3eT9g9DY",
      "execution_count": null,
      "outputs": []
    },
    {
      "cell_type": "code",
      "source": [
        "job_id_ex6 = service.job('cth6p20m2tsg0084e810')\n",
        "job_result = job_id_ex6.result()\n",
        "\n",
        "for job_id_ex6, pub_result in enumerate(job_result):\n",
        "    print(f\"Expectation values for pub {job_id_ex6}: {pub_result.data.evs}\")"
      ],
      "metadata": {
        "colab": {
          "base_uri": "https://localhost:8080/"
        },
        "id": "_8QFj9OzgzXh",
        "outputId": "b8d7d5d0-7f49-4d05-a1a2-1eb2689097dd"
      },
      "id": "_8QFj9OzgzXh",
      "execution_count": null,
      "outputs": [
        {
          "output_type": "stream",
          "name": "stdout",
          "text": [
            "Expectation values for pub 0: [1.24075688 1.12732096 1.12496408 1.05972357 1.02818278 1.01477187\n",
            " 1.19127733 0.58368788 0.39810882 0.58080957 1.09756464 1.2487282\n",
            " 1.07816292 1.0966751  1.00017384 1.00383261 1.05127921 1.06706542\n",
            " 1.30454142 1.11340674 1.12991428 0.83594755 0.92771749 0.95711757\n",
            " 0.95060183 1.00626769 0.9428946  0.97591008 0.94767002 1.00752683\n",
            " 0.95035656 1.11768247 0.85665186 0.86600965 0.97852401 0.95523921\n",
            " 1.26556729 1.15152142 1.03326698 1.07232647 1.28020485 1.04546223\n",
            " 1.31691287 1.21642759 1.67558596 0.7053311  0.47411761 1.13697282\n",
            " 1.27532221 1.14434088]\n"
          ]
        }
      ]
    },
    {
      "cell_type": "code",
      "source": [
        "PubResult_ex6 = sum(pub_result.data.evs)/len(pub_result.data.evs)"
      ],
      "metadata": {
        "id": "6RftyV9Ug__0"
      },
      "id": "6RftyV9Ug__0",
      "execution_count": null,
      "outputs": []
    },
    {
      "cell_type": "markdown",
      "id": "8d61e0fc-e0c4-4cbd-81ff-69282c5f6c21",
      "metadata": {
        "id": "8d61e0fc-e0c4-4cbd-81ff-69282c5f6c21"
      },
      "source": [
        "### Analyze"
      ]
    },
    {
      "cell_type": "markdown",
      "id": "f75dc381-c4ef-4cec-bdca-ceca13092506",
      "metadata": {
        "id": "f75dc381-c4ef-4cec-bdca-ceca13092506"
      },
      "source": [
        "1. Each [`PrimtiveResult`](https://docs.quantum.ibm.com/api/qiskit/qiskit.primitives.PrimitiveResult) will have a list-like structure with a single [`PubResult`](https://docs.quantum.ibm.com/api/qiskit/qiskit.primitives.PubResult) (as we submitted a single PUB).\n",
        "   - The `PubResult` will contain an array of expectation values each corresponding to an observable inside its [`data`](https://docs.quantum.ibm.com/api/qiskit/qiskit.primitives.DataBin) container (`pub_result.data.evs`). For each qubit in the `abstract_circuit`, we have one weight-1 $\\langle Z \\rangle$ observable.\n",
        "2. Compute the average of expectation values in each `PubResult`.\n",
        "3. Plot (bar chart) average expectation values and analyze how different error suppression and mitigation methods are improving results. Note that due the compute-uncompute structure of the circuit, the ideal average expecation value is $1.0$ for each job respectively.\n",
        "\n",
        "Now, try to understand the results based on the knowledge from the lecture. We suggest looking at the structure of the circuit by following one of the visualization methods described [here](https://docs.quantum.ibm.com/build/circuit-visualization)."
      ]
    },
    {
      "cell_type": "code",
      "execution_count": null,
      "id": "ecc98782-10c6-4fb1-b143-a5ad50e8f5e8",
      "metadata": {
        "id": "ecc98782-10c6-4fb1-b143-a5ad50e8f5e8",
        "colab": {
          "base_uri": "https://localhost:8080/",
          "height": 564
        },
        "outputId": "4f3852a5-14e9-4163-8c75-426033b6a585"
      },
      "outputs": [
        {
          "output_type": "display_data",
          "data": {
            "text/plain": [
              "<Figure size 1000x600 with 1 Axes>"
            ],
            "image/png": "[encoded data removed]"
          },
          "metadata": {}
        }
      ],
      "source": [
        "#Your code for analyzing results goes here\n",
        "import matplotlib.pyplot as plt\n",
        "\n",
        "\n",
        "\n",
        "\n",
        "# List of the results\n",
        "results = [PubResult_ex1, PubResult_ex2, PubResult_ex3, PubResult_ex4b, PubResult_ex5, PubResult_ex6]\n",
        "\n",
        "# Labels for each exercise\n",
        "labels = ['ex 1', 'ex 2', 'ex 3', 'ex 4b', 'ex 5', 'ex 6']\n",
        "\n",
        "# Plotting the bar chart\n",
        "plt.figure(figsize=(10, 6))\n",
        "plt.bar(labels, results, color=['blue', 'green', 'red', 'magenta', 'yellow', 'black'])\n",
        "\n",
        "# Adding title and labels\n",
        "plt.title('Average Expectation Values for Different Error Mitigation Methods')\n",
        "plt.xlabel('Exercises')\n",
        "plt.ylabel('Average Expectation Value')\n",
        "plt.ylim(0, 1.1)  # Setting y-axis limit to show the ideal value clearly\n",
        "\n",
        "# Adding a horizontal line for the ideal average expectation value\n",
        "plt.axhline(y=1, color='black', linestyle='--', label='Ideal Value')\n",
        "\n",
        "# Adding legend\n",
        "plt.legend()\n",
        "\n",
        "# Display the plot\n",
        "plt.show()\n"
      ]
    },
    {
      "cell_type": "code",
      "execution_count": null,
      "id": "e1002c8d-bb39-43d0-92e0-486e7669f04f",
      "metadata": {
        "id": "e1002c8d-bb39-43d0-92e0-486e7669f04f",
        "outputId": "cadc4aa8-7dee-4d29-ccf0-07ef182a871b",
        "colab": {
          "base_uri": "https://localhost:8080/",
          "height": 198
        }
      },
      "outputs": [
        {
          "output_type": "display_data",
          "data": {
            "text/plain": [
              "<IPython.core.display.HTML object>"
            ],
            "text/html": [
              "<div style='width: 100%; background-color:#d5d9e0;padding-left: 10px; padding-bottom: 10px; padding-right: 10px; padding-top: 5px'><p>&copy; Copyright IBM 2017, 2024.</p><p>This code is licensed under the Apache License, Version 2.0. You may<br>obtain a copy of this license in the LICENSE.txt file in the root directory<br> of this source tree or at http://www.apache.org/licenses/LICENSE-2.0.<p>Any modifications or derivative works of this code must retain this<br>copyright notice, and modified files need to carry a notice indicating<br>that they have been altered from the originals.</p></div>"
            ]
          },
          "metadata": {}
        }
      ],
      "source": [
        "import datetime\n",
        "from IPython.display import HTML, display\n",
        "\n",
        "\n",
        "def qiskit_copyright(line=\"\", cell=None):\n",
        "    \"\"\"IBM copyright\"\"\"\n",
        "    now = datetime.datetime.now()\n",
        "\n",
        "    html = \"<div style='width: 100%; background-color:#d5d9e0;\"\n",
        "    html += \"padding-left: 10px; padding-bottom: 10px; padding-right: 10px; padding-top: 5px'>\"\n",
        "    html += \"<p>&copy; Copyright IBM 2017, %s.</p>\" % now.year\n",
        "    html += \"<p>This code is licensed under the Apache License, Version 2.0. You may<br>\"\n",
        "    html += \"obtain a copy of this license in the LICENSE.txt file in the root directory<br> \"\n",
        "    html += \"of this source tree or at http://www.apache.org/licenses/LICENSE-2.0.\"\n",
        "\n",
        "    html += \"<p>Any modifications or derivative works of this code must retain this<br>\"\n",
        "    html += \"copyright notice, and modified files need to carry a notice indicating<br>\"\n",
        "    html += \"that they have been altered from the originals.</p>\"\n",
        "    html += \"</div>\"\n",
        "    return display(HTML(html))\n",
        "\n",
        "\n",
        "qiskit_copyright()"
      ]
    }
  ],
  "metadata": {
    "kernelspec": {
      "display_name": "Python 3 (ipykernel)",
      "language": "python",
      "name": "python3"
    },
    "language_info": {
      "codemirror_mode": {
        "name": "ipython",
        "version": 3
      },
      "file_extension": ".py",
      "mimetype": "text/x-python",
      "name": "python",
      "nbconvert_exporter": "python",
      "pygments_lexer": "ipython3",
      "version": "3.11.8"
    },
    "colab": {
      "provenance": []
    }
  },
  "nbformat": 4,
  "nbformat_minor": 5
}