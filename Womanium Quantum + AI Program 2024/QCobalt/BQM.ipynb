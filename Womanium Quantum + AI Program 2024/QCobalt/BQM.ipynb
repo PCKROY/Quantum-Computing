{
  "cells": [
    {
      "cell_type": "markdown",
      "id": "educational-petersburg",
      "metadata": {
        "id": "educational-petersburg"
      },
      "source": [
        "# Instructions\n",
        "\n",
        "The places where you have enter code, to answer the questions, are marked with `# YOUR CODE HERE`."
      ]
    },
    {
      "cell_type": "code",
      "source": [
        "!pip install dwave-ocean-sdk"
      ],
      "metadata": {
        "colab": {
          "base_uri": "https://localhost:8080/"
        },
        "id": "pT1liL3joMDd",
        "outputId": "d76a83a2-8864-403a-a30b-a29df9211240"
      },
      "id": "pT1liL3joMDd",
      "execution_count": 1,
      "outputs": [
        {
          "output_type": "stream",
          "name": "stdout",
          "text": [
            "Requirement already satisfied: dwave-ocean-sdk in /usr/local/lib/python3.10/dist-packages (7.0.0)\n",
            "Requirement already satisfied: dimod==0.12.15 in /usr/local/lib/python3.10/dist-packages (from dwave-ocean-sdk) (0.12.15)\n",
            "Requirement already satisfied: dwave-cloud-client==0.12.0 in /usr/local/lib/python3.10/dist-packages (from dwave-ocean-sdk) (0.12.0)\n",
            "Requirement already satisfied: dwave-greedy==0.3.0 in /usr/local/lib/python3.10/dist-packages (from dwave-ocean-sdk) (0.3.0)\n",
            "Requirement already satisfied: dwave-hybrid==0.6.11 in /usr/local/lib/python3.10/dist-packages (from dwave-ocean-sdk) (0.6.11)\n",
            "Requirement already satisfied: dwave-inspector==0.5.0.post0 in /usr/local/lib/python3.10/dist-packages (from dwave-ocean-sdk) (0.5.0.post0)\n",
            "Requirement already satisfied: dwave-neal==0.6.0 in /usr/local/lib/python3.10/dist-packages (from dwave-ocean-sdk) (0.6.0)\n",
            "Requirement already satisfied: dwave-networkx==0.8.15 in /usr/local/lib/python3.10/dist-packages (from dwave-ocean-sdk) (0.8.15)\n",
            "Requirement already satisfied: dwave-optimization==0.1.0 in /usr/local/lib/python3.10/dist-packages (from dwave-ocean-sdk) (0.1.0)\n",
            "Requirement already satisfied: dwave-preprocessing==0.6.5 in /usr/local/lib/python3.10/dist-packages (from dwave-ocean-sdk) (0.6.5)\n",
            "Requirement already satisfied: dwave-samplers==1.2.0 in /usr/local/lib/python3.10/dist-packages (from dwave-ocean-sdk) (1.2.0)\n",
            "Requirement already satisfied: dwave-system==1.25.0 in /usr/local/lib/python3.10/dist-packages (from dwave-ocean-sdk) (1.25.0)\n",
            "Requirement already satisfied: dwave-tabu==0.5.0 in /usr/local/lib/python3.10/dist-packages (from dwave-ocean-sdk) (0.5.0)\n",
            "Requirement already satisfied: dwavebinarycsp==0.3.0 in /usr/local/lib/python3.10/dist-packages (from dwave-ocean-sdk) (0.3.0)\n",
            "Requirement already satisfied: minorminer==0.2.14 in /usr/local/lib/python3.10/dist-packages (from dwave-ocean-sdk) (0.2.14)\n",
            "Requirement already satisfied: penaltymodel==1.1.0 in /usr/local/lib/python3.10/dist-packages (from dwave-ocean-sdk) (1.1.0)\n",
            "Requirement already satisfied: numpy<2.0.0,>=1.17.3 in /usr/local/lib/python3.10/dist-packages (from dimod==0.12.15->dwave-ocean-sdk) (1.25.2)\n",
            "Requirement already satisfied: requests[socks]<3,>=2.25 in /usr/local/lib/python3.10/dist-packages (from dwave-cloud-client==0.12.0->dwave-ocean-sdk) (2.31.0)\n",
            "Requirement already satisfied: urllib3<3,>=1.26 in /usr/local/lib/python3.10/dist-packages (from dwave-cloud-client==0.12.0->dwave-ocean-sdk) (2.0.7)\n",
            "Requirement already satisfied: pydantic<3,>=2 in /usr/local/lib/python3.10/dist-packages (from dwave-cloud-client==0.12.0->dwave-ocean-sdk) (2.8.0)\n",
            "Requirement already satisfied: homebase<2,>=1.0 in /usr/local/lib/python3.10/dist-packages (from dwave-cloud-client==0.12.0->dwave-ocean-sdk) (1.0.1)\n",
            "Requirement already satisfied: click<9,>=7.0 in /usr/local/lib/python3.10/dist-packages (from dwave-cloud-client==0.12.0->dwave-ocean-sdk) (8.1.7)\n",
            "Requirement already satisfied: python-dateutil<3,>=2.7 in /usr/local/lib/python3.10/dist-packages (from dwave-cloud-client==0.12.0->dwave-ocean-sdk) (2.8.2)\n",
            "Requirement already satisfied: plucky<0.5,>=0.4.3 in /usr/local/lib/python3.10/dist-packages (from dwave-cloud-client==0.12.0->dwave-ocean-sdk) (0.4.3)\n",
            "Requirement already satisfied: diskcache<6,>=5.2.1 in /usr/local/lib/python3.10/dist-packages (from dwave-cloud-client==0.12.0->dwave-ocean-sdk) (5.6.3)\n",
            "Requirement already satisfied: packaging>=19 in /usr/local/lib/python3.10/dist-packages (from dwave-cloud-client==0.12.0->dwave-ocean-sdk) (24.1)\n",
            "Requirement already satisfied: werkzeug<4,>=2.2 in /usr/local/lib/python3.10/dist-packages (from dwave-cloud-client==0.12.0->dwave-ocean-sdk) (3.0.3)\n",
            "Requirement already satisfied: typing-extensions<5,>=4.5.0 in /usr/local/lib/python3.10/dist-packages (from dwave-cloud-client==0.12.0->dwave-ocean-sdk) (4.12.2)\n",
            "Requirement already satisfied: authlib<2,>=1.2 in /usr/local/lib/python3.10/dist-packages (from dwave-cloud-client==0.12.0->dwave-ocean-sdk) (1.3.1)\n",
            "Requirement already satisfied: importlib-metadata>=5.0.0 in /usr/local/lib/python3.10/dist-packages (from dwave-cloud-client==0.12.0->dwave-ocean-sdk) (8.0.0)\n",
            "Requirement already satisfied: networkx in /usr/local/lib/python3.10/dist-packages (from dwave-hybrid==0.6.11->dwave-ocean-sdk) (3.3)\n",
            "Requirement already satisfied: Flask<4,>=2.2 in /usr/local/lib/python3.10/dist-packages (from dwave-inspector==0.5.0.post0->dwave-ocean-sdk) (2.2.5)\n",
            "Requirement already satisfied: orjson>=3.10.0 in /usr/local/lib/python3.10/dist-packages (from dwave-inspector==0.5.0.post0->dwave-ocean-sdk) (3.10.6)\n",
            "Requirement already satisfied: scipy>=1.7.3 in /usr/local/lib/python3.10/dist-packages (from dwave-system==1.25.0->dwave-ocean-sdk) (1.11.4)\n",
            "Requirement already satisfied: fasteners>=0.15 in /usr/local/lib/python3.10/dist-packages (from minorminer==0.2.14->dwave-ocean-sdk) (0.19)\n",
            "Requirement already satisfied: cryptography in /usr/local/lib/python3.10/dist-packages (from authlib<2,>=1.2->dwave-cloud-client==0.12.0->dwave-ocean-sdk) (42.0.8)\n",
            "Requirement already satisfied: Jinja2>=3.0 in /usr/local/lib/python3.10/dist-packages (from Flask<4,>=2.2->dwave-inspector==0.5.0.post0->dwave-ocean-sdk) (3.1.4)\n",
            "Requirement already satisfied: itsdangerous>=2.0 in /usr/local/lib/python3.10/dist-packages (from Flask<4,>=2.2->dwave-inspector==0.5.0.post0->dwave-ocean-sdk) (2.2.0)\n",
            "Requirement already satisfied: zipp>=0.5 in /usr/local/lib/python3.10/dist-packages (from importlib-metadata>=5.0.0->dwave-cloud-client==0.12.0->dwave-ocean-sdk) (3.19.2)\n",
            "Requirement already satisfied: annotated-types>=0.4.0 in /usr/local/lib/python3.10/dist-packages (from pydantic<3,>=2->dwave-cloud-client==0.12.0->dwave-ocean-sdk) (0.7.0)\n",
            "Requirement already satisfied: pydantic-core==2.20.0 in /usr/local/lib/python3.10/dist-packages (from pydantic<3,>=2->dwave-cloud-client==0.12.0->dwave-ocean-sdk) (2.20.0)\n",
            "Requirement already satisfied: six>=1.5 in /usr/local/lib/python3.10/dist-packages (from python-dateutil<3,>=2.7->dwave-cloud-client==0.12.0->dwave-ocean-sdk) (1.16.0)\n",
            "Requirement already satisfied: charset-normalizer<4,>=2 in /usr/local/lib/python3.10/dist-packages (from requests[socks]<3,>=2.25->dwave-cloud-client==0.12.0->dwave-ocean-sdk) (3.3.2)\n",
            "Requirement already satisfied: idna<4,>=2.5 in /usr/local/lib/python3.10/dist-packages (from requests[socks]<3,>=2.25->dwave-cloud-client==0.12.0->dwave-ocean-sdk) (3.7)\n",
            "Requirement already satisfied: certifi>=2017.4.17 in /usr/local/lib/python3.10/dist-packages (from requests[socks]<3,>=2.25->dwave-cloud-client==0.12.0->dwave-ocean-sdk) (2024.6.2)\n",
            "Requirement already satisfied: PySocks!=1.5.7,>=1.5.6 in /usr/local/lib/python3.10/dist-packages (from requests[socks]<3,>=2.25->dwave-cloud-client==0.12.0->dwave-ocean-sdk) (1.7.1)\n",
            "Requirement already satisfied: MarkupSafe>=2.1.1 in /usr/local/lib/python3.10/dist-packages (from werkzeug<4,>=2.2->dwave-cloud-client==0.12.0->dwave-ocean-sdk) (2.1.5)\n",
            "Requirement already satisfied: cffi>=1.12 in /usr/local/lib/python3.10/dist-packages (from cryptography->authlib<2,>=1.2->dwave-cloud-client==0.12.0->dwave-ocean-sdk) (1.16.0)\n",
            "Requirement already satisfied: pycparser in /usr/local/lib/python3.10/dist-packages (from cffi>=1.12->cryptography->authlib<2,>=1.2->dwave-cloud-client==0.12.0->dwave-ocean-sdk) (2.22)\n"
          ]
        }
      ]
    },
    {
      "cell_type": "markdown",
      "id": "fedb9ec3",
      "metadata": {
        "id": "fedb9ec3"
      },
      "source": [
        "## Question 1 (6 points)\n",
        "\n",
        "Given the following QUBO, complete the function `create_bqm` so that it returns the corresponding BQM.\n",
        "\n",
        "$$- 7x_1 - 2x_2 - 10x_3 - 4x_4 + 5x_1x_2 + 3x_1x_3 + 6x_2x_3 - 8x_3x_4 - 2$$\n",
        "\n",
        "\n",
        "The function `create_bqm` has\n",
        "\n",
        "- Input: None\n",
        "- Returns:\n",
        "    - A BQM instance\n"
      ]
    },
    {
      "cell_type": "code",
      "execution_count": 2,
      "id": "e6193cdb",
      "metadata": {
        "deletable": false,
        "nbgrader": {
          "cell_type": "code",
          "checksum": "a4ac8774577151fdadef7d49d7a8ffdb",
          "grade": false,
          "grade_id": "cell-519783454f9c6523",
          "locked": false,
          "schema_version": 3,
          "solution": true
        },
        "id": "e6193cdb"
      },
      "outputs": [],
      "source": [
        "from dimod import BQM\n",
        "\n",
        "def create_bqm():\n",
        "    # YOUR CODE HERE\n",
        "\n",
        "\n",
        "    vartype = 'BINARY'\n",
        "    linear = {'x1': -7, 'x2': -2, 'x3': -10, 'x4': -4}\n",
        "    quadratic = {('x1', 'x2'): 5, ('x1', 'x3'): 3, ('x2', 'x3'): 6, ('x3', 'x4'): -8}\n",
        "\n",
        "    offset = -2\n",
        "\n",
        "\n",
        "    bqm = BQM(linear, quadratic, offset, vartype)\n",
        "\n",
        "    # Do not modify anything below this line\n",
        "    return bqm"
      ]
    },
    {
      "cell_type": "code",
      "execution_count": 3,
      "id": "8b2ef48a",
      "metadata": {
        "colab": {
          "base_uri": "https://localhost:8080/"
        },
        "id": "8b2ef48a",
        "outputId": "22d797dd-09b6-48a4-b53f-98eb35edd73b"
      },
      "outputs": [
        {
          "output_type": "stream",
          "name": "stdout",
          "text": [
            "BinaryQuadraticModel({'x1': -7.0, 'x2': -2.0, 'x3': -10.0, 'x4': -4.0}, {('x2', 'x1'): 5.0, ('x3', 'x1'): 3.0, ('x3', 'x2'): 6.0, ('x4', 'x3'): -8.0}, -2.0, 'BINARY')\n"
          ]
        }
      ],
      "source": [
        "# You can use this cell to call and check the output of the function\n",
        "\n",
        "print(create_bqm())"
      ]
    },
    {
      "cell_type": "code",
      "execution_count": 4,
      "id": "e1587a50",
      "metadata": {
        "deletable": false,
        "editable": false,
        "nbgrader": {
          "cell_type": "code",
          "checksum": "7a286b598bbe89fab85db133ff6c0861",
          "grade": true,
          "grade_id": "cell-bfefd43bc32d56e6",
          "locked": true,
          "points": 6,
          "schema_version": 3,
          "solution": false
        },
        "id": "e1587a50"
      },
      "outputs": [],
      "source": [
        "# hidden tests will be used for grading."
      ]
    },
    {
      "cell_type": "markdown",
      "id": "6fc9152d",
      "metadata": {
        "id": "6fc9152d"
      },
      "source": [
        "## Question 2 (6 points)\n",
        "\n",
        "Function `solve_Q` takes as input a matrix representation of a QUBO formulation. Complete the function `solve_Q` so that it returns the solution to the given problem. Use D-Wave's `ExactSolver()`.\n",
        "\n",
        "\n",
        "The function `solve_Q` has\n",
        "\n",
        "- Input:\n",
        "    - Q matrix representation of QUBO as an `numpy.array`.\n",
        "- Returns:\n",
        "    - Sample with the lowest energy (first sample of the SampleSet)\n"
      ]
    },
    {
      "cell_type": "code",
      "execution_count": 5,
      "id": "cce12dad",
      "metadata": {
        "deletable": false,
        "nbgrader": {
          "cell_type": "code",
          "checksum": "e04ceea9ff373ea4efa237e70f956d03",
          "grade": false,
          "grade_id": "cell-c6fc493496abe710",
          "locked": false,
          "schema_version": 3,
          "solution": true
        },
        "id": "cce12dad"
      },
      "outputs": [],
      "source": [
        "from dimod import BQM\n",
        "\n",
        "\n",
        "def solve_Q(Q):\n",
        "    # YOUR CODE HERE\n",
        "     Q_dict = {}\n",
        "     for i in range(Q.shape[0]):\n",
        "        for j in range(i, Q.shape[1]):\n",
        "            Q_dict[(i, j)] = Q[i, j]\n",
        "\n",
        "\n",
        "     bqm = BQM.from_qubo(Q_dict)\n",
        "\n",
        "\n",
        "     solver = ExactSolver()\n",
        "     sampleset = solver.sample(bqm)\n",
        "     sample_dict = sampleset.first.sample\n",
        "\n",
        "\n",
        "\n",
        "     sample_array = np.array([sample_dict[i] for i in range(len(sample_dict))])\n",
        "\n",
        "\n",
        "\n",
        "\n",
        "    # Do not modify anything below this line\n",
        "     return sampleset.first"
      ]
    },
    {
      "cell_type": "code",
      "execution_count": 6,
      "id": "7e561dd7",
      "metadata": {
        "colab": {
          "base_uri": "https://localhost:8080/"
        },
        "id": "7e561dd7",
        "outputId": "7c8ae450-cb62-44ab-b7ea-7c84f21dd01f"
      },
      "outputs": [
        {
          "output_type": "stream",
          "name": "stdout",
          "text": [
            "Sample(sample={0: 0, 1: 0}, energy=0.0, num_occurrences=1)\n"
          ]
        }
      ],
      "source": [
        "# You can use this cell to call and check the output of the function\n",
        "import numpy as np\n",
        "from dimod.reference.samplers import ExactSolver\n",
        "\n",
        "\n",
        "Q = np.array([[1, 1], [0, 1]])\n",
        "print(solve_Q(Q))"
      ]
    },
    {
      "cell_type": "code",
      "execution_count": 7,
      "id": "9793fb7a",
      "metadata": {
        "deletable": false,
        "editable": false,
        "nbgrader": {
          "cell_type": "code",
          "checksum": "846b0a64cace0d7572f2263fe479fe53",
          "grade": true,
          "grade_id": "cell-bddecad407041e7b",
          "locked": true,
          "points": 6,
          "schema_version": 3,
          "solution": false
        },
        "id": "9793fb7a"
      },
      "outputs": [],
      "source": [
        "# hidden tests will be used for grading."
      ]
    },
    {
      "cell_type": "markdown",
      "id": "17843fc3",
      "metadata": {
        "id": "17843fc3"
      },
      "source": [
        "## Question 3 (6 points)\n",
        "\n",
        "You are given a graph $G$ in the next cell where the nodes are labeled $0,1,\\dots,8$. Create a BQM with `SPIN` variables to solve Max-Cut problem for the given graph. Variables should be named with the name of the correspoding node.\n",
        "\n",
        "The function `max_cut` has\n",
        "\n",
        "- Input: None\n",
        "- Returns:\n",
        "    - BQM with SPIN variables for graph `G`\n"
      ]
    },
    {
      "cell_type": "code",
      "execution_count": 8,
      "id": "a5592fb5",
      "metadata": {
        "colab": {
          "base_uri": "https://localhost:8080/",
          "height": 533
        },
        "id": "a5592fb5",
        "outputId": "dfa3cc27-b524-47e5-a347-9b3c5a89b1d6"
      },
      "outputs": [
        {
          "output_type": "execute_result",
          "data": {
            "text/plain": [
              "EdgeView([(0, 1), (0, 2), (0, 3), (1, 2), (1, 3), (2, 3), (3, 4), (4, 5), (5, 6), (6, 7), (7, 8)])"
            ]
          },
          "metadata": {},
          "execution_count": 8
        },
        {
          "output_type": "display_data",
          "data": {
            "text/plain": [
              "<Figure size 640x480 with 1 Axes>"
            ],
            "image/png": "[encoded data removed]"
          },
          "metadata": {}
        }
      ],
      "source": [
        "import networkx as nx\n",
        "\n",
        "G = nx.lollipop_graph(4, 5)\n",
        "nx.draw(G, with_labels=True)\n",
        "G.edges"
      ]
    },
    {
      "cell_type": "code",
      "execution_count": 12,
      "id": "e04b999b",
      "metadata": {
        "deletable": false,
        "nbgrader": {
          "cell_type": "code",
          "checksum": "9fb1431db7d41d1d0dce4cd65b6db9df",
          "grade": false,
          "grade_id": "cell-04b50f7066c6da97",
          "locked": false,
          "schema_version": 3,
          "solution": true
        },
        "id": "e04b999b"
      },
      "outputs": [],
      "source": [
        "from dimod import BQM\n",
        "\n",
        "\n",
        "def max_cut():\n",
        "    # YOUR CODE HERE\n",
        "    bqm = BQM('SPIN')\n",
        "\n",
        "\n",
        "    for node in G.nodes:\n",
        "        bqm.add_variable(node, 0)\n",
        "\n",
        "    for edge in G.edges:\n",
        "        u, v = edge\n",
        "        bqm.add_interaction(u, v, 1)\n",
        "    # Do not modify anything below this line\n",
        "    return bqm"
      ]
    },
    {
      "cell_type": "code",
      "execution_count": 13,
      "id": "c19ddac9",
      "metadata": {
        "colab": {
          "base_uri": "https://localhost:8080/"
        },
        "id": "c19ddac9",
        "outputId": "52667a29-293f-4a06-cce9-e81093f317da"
      },
      "outputs": [
        {
          "output_type": "stream",
          "name": "stdout",
          "text": [
            "BinaryQuadraticModel({0: 0.0, 1: 0.0, 2: 0.0, 3: 0.0, 4: 0.0, 5: 0.0, 6: 0.0, 7: 0.0, 8: 0.0}, {(1, 0): 1.0, (2, 0): 1.0, (2, 1): 1.0, (3, 0): 1.0, (3, 1): 1.0, (3, 2): 1.0, (4, 3): 1.0, (5, 4): 1.0, (6, 5): 1.0, (7, 6): 1.0, (8, 7): 1.0}, 0.0, 'SPIN')\n"
          ]
        }
      ],
      "source": [
        "# You can use this cell to call and check the output of the function\n",
        "print(max_cut())"
      ]
    },
    {
      "cell_type": "code",
      "execution_count": 14,
      "id": "42f66c03",
      "metadata": {
        "deletable": false,
        "editable": false,
        "nbgrader": {
          "cell_type": "code",
          "checksum": "4b940c935a9203e433a62eda7bd0415b",
          "grade": true,
          "grade_id": "cell-c0db5152684f0877",
          "locked": true,
          "points": 6,
          "schema_version": 3,
          "solution": false
        },
        "id": "42f66c03"
      },
      "outputs": [],
      "source": [
        "# hidden tests will be used for grading.\n",
        "# If this cell results in an error, your implementation is incorrect"
      ]
    },
    {
      "cell_type": "code",
      "execution_count": null,
      "id": "b822a8a2-96be-4584-9e4e-7b388d453d24",
      "metadata": {
        "id": "b822a8a2-96be-4584-9e4e-7b388d453d24"
      },
      "outputs": [],
      "source": []
    }
  ],
  "metadata": {
    "kernelspec": {
      "display_name": "Python 3 (ipykernel)",
      "language": "python",
      "name": "python3"
    },
    "language_info": {
      "codemirror_mode": {
        "name": "ipython",
        "version": 3
      },
      "file_extension": ".py",
      "mimetype": "text/x-python",
      "name": "python",
      "nbconvert_exporter": "python",
      "pygments_lexer": "ipython3",
      "version": "3.12.3"
    },
    "colab": {
      "provenance": []
    }
  },
  "nbformat": 4,
  "nbformat_minor": 5
}