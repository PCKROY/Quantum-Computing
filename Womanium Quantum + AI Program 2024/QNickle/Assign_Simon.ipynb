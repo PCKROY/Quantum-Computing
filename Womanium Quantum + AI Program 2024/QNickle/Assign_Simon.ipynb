{
  "cells": [
    {
      "cell_type": "markdown",
      "id": "98e1ef16",
      "metadata": {
        "deletable": false,
        "editable": false,
        "nbgrader": {
          "cell_type": "markdown",
          "checksum": "6c7ffdc64c7b7f32ae79a1ef92940286",
          "grade": false,
          "grade_id": "cell-b97269821f032922",
          "locked": true,
          "schema_version": 3,
          "solution": false,
          "task": false
        },
        "id": "98e1ef16"
      },
      "source": [
        "# Assignment - Simon's Algorithm\n",
        "\n",
        "The places where you have enter code are marked with `# YOUR CODE HERE`."
      ]
    },
    {
      "cell_type": "code",
      "source": [
        "!pip install qiskit[visualization]==1.0.2\n",
        "\n",
        "!pip install qiskit_aer\n",
        "# ! pip install qiskit-ibmq-provider\n",
        "# ! pip install pylatexenc"
      ],
      "metadata": {
        "colab": {
          "base_uri": "https://localhost:8080/"
        },
        "id": "7eoMgtJtfGoZ",
        "outputId": "0e8dbcb4-63c0-44a7-cf15-5fa5c1eb308c"
      },
      "id": "7eoMgtJtfGoZ",
      "execution_count": 1,
      "outputs": [
        {
          "output_type": "stream",
          "name": "stdout",
          "text": [
            "Collecting qiskit[visualization]==1.0.2\n",
            "  Downloading qiskit-1.0.2-cp38-abi3-manylinux_2_17_x86_64.manylinux2014_x86_64.whl (5.6 MB)\n",
            "\u001b[2K     \u001b[90m━━━━━━━━━━━━━━━━━━━━━━━━━━━━━━━━━━━━━━━━\u001b[0m \u001b[32m5.6/5.6 MB\u001b[0m \u001b[31m22.3 MB/s\u001b[0m eta \u001b[36m0:00:00\u001b[0m\n",
            "\u001b[?25hCollecting rustworkx>=0.14.0 (from qiskit[visualization]==1.0.2)\n",
            "  Downloading rustworkx-0.15.1-cp38-abi3-manylinux_2_17_x86_64.manylinux2014_x86_64.whl (2.0 MB)\n",
            "\u001b[2K     \u001b[90m━━━━━━━━━━━━━━━━━━━━━━━━━━━━━━━━━━━━━━━━\u001b[0m \u001b[32m2.0/2.0 MB\u001b[0m \u001b[31m47.9 MB/s\u001b[0m eta \u001b[36m0:00:00\u001b[0m\n",
            "\u001b[?25hRequirement already satisfied: numpy<2,>=1.17 in /usr/local/lib/python3.10/dist-packages (from qiskit[visualization]==1.0.2) (1.25.2)\n",
            "Requirement already satisfied: scipy>=1.5 in /usr/local/lib/python3.10/dist-packages (from qiskit[visualization]==1.0.2) (1.11.4)\n",
            "Requirement already satisfied: sympy>=1.3 in /usr/local/lib/python3.10/dist-packages (from qiskit[visualization]==1.0.2) (1.12.1)\n",
            "Collecting dill>=0.3 (from qiskit[visualization]==1.0.2)\n",
            "  Downloading dill-0.3.8-py3-none-any.whl (116 kB)\n",
            "\u001b[2K     \u001b[90m━━━━━━━━━━━━━━━━━━━━━━━━━━━━━━━━━━━━━━━━\u001b[0m \u001b[32m116.3/116.3 kB\u001b[0m \u001b[31m10.7 MB/s\u001b[0m eta \u001b[36m0:00:00\u001b[0m\n",
            "\u001b[?25hRequirement already satisfied: python-dateutil>=2.8.0 in /usr/local/lib/python3.10/dist-packages (from qiskit[visualization]==1.0.2) (2.8.2)\n",
            "Collecting stevedore>=3.0.0 (from qiskit[visualization]==1.0.2)\n",
            "  Downloading stevedore-5.2.0-py3-none-any.whl (49 kB)\n",
            "\u001b[2K     \u001b[90m━━━━━━━━━━━━━━━━━━━━━━━━━━━━━━━━━━━━━━━━\u001b[0m \u001b[32m49.7/49.7 kB\u001b[0m \u001b[31m2.6 MB/s\u001b[0m eta \u001b[36m0:00:00\u001b[0m\n",
            "\u001b[?25hRequirement already satisfied: typing-extensions in /usr/local/lib/python3.10/dist-packages (from qiskit[visualization]==1.0.2) (4.12.2)\n",
            "Collecting symengine>=0.11 (from qiskit[visualization]==1.0.2)\n",
            "  Downloading symengine-0.11.0-cp310-cp310-manylinux_2_12_x86_64.manylinux2010_x86_64.whl (39.4 MB)\n",
            "\u001b[2K     \u001b[90m━━━━━━━━━━━━━━━━━━━━━━━━━━━━━━━━━━━━━━━━\u001b[0m \u001b[32m39.4/39.4 MB\u001b[0m \u001b[31m14.5 MB/s\u001b[0m eta \u001b[36m0:00:00\u001b[0m\n",
            "\u001b[?25hRequirement already satisfied: matplotlib>=3.3 in /usr/local/lib/python3.10/dist-packages (from qiskit[visualization]==1.0.2) (3.7.1)\n",
            "Requirement already satisfied: pydot in /usr/local/lib/python3.10/dist-packages (from qiskit[visualization]==1.0.2) (1.4.2)\n",
            "Requirement already satisfied: Pillow>=4.2.1 in /usr/local/lib/python3.10/dist-packages (from qiskit[visualization]==1.0.2) (9.4.0)\n",
            "Collecting pylatexenc>=1.4 (from qiskit[visualization]==1.0.2)\n",
            "  Downloading pylatexenc-2.10.tar.gz (162 kB)\n",
            "\u001b[2K     \u001b[90m━━━━━━━━━━━━━━━━━━━━━━━━━━━━━━━━━━━━━━━━\u001b[0m \u001b[32m162.6/162.6 kB\u001b[0m \u001b[31m13.6 MB/s\u001b[0m eta \u001b[36m0:00:00\u001b[0m\n",
            "\u001b[?25h  Preparing metadata (setup.py) ... \u001b[?25l\u001b[?25hdone\n",
            "Requirement already satisfied: seaborn>=0.9.0 in /usr/local/lib/python3.10/dist-packages (from qiskit[visualization]==1.0.2) (0.13.1)\n",
            "Requirement already satisfied: contourpy>=1.0.1 in /usr/local/lib/python3.10/dist-packages (from matplotlib>=3.3->qiskit[visualization]==1.0.2) (1.2.1)\n",
            "Requirement already satisfied: cycler>=0.10 in /usr/local/lib/python3.10/dist-packages (from matplotlib>=3.3->qiskit[visualization]==1.0.2) (0.12.1)\n",
            "Requirement already satisfied: fonttools>=4.22.0 in /usr/local/lib/python3.10/dist-packages (from matplotlib>=3.3->qiskit[visualization]==1.0.2) (4.53.0)\n",
            "Requirement already satisfied: kiwisolver>=1.0.1 in /usr/local/lib/python3.10/dist-packages (from matplotlib>=3.3->qiskit[visualization]==1.0.2) (1.4.5)\n",
            "Requirement already satisfied: packaging>=20.0 in /usr/local/lib/python3.10/dist-packages (from matplotlib>=3.3->qiskit[visualization]==1.0.2) (24.1)\n",
            "Requirement already satisfied: pyparsing>=2.3.1 in /usr/local/lib/python3.10/dist-packages (from matplotlib>=3.3->qiskit[visualization]==1.0.2) (3.1.2)\n",
            "Requirement already satisfied: six>=1.5 in /usr/local/lib/python3.10/dist-packages (from python-dateutil>=2.8.0->qiskit[visualization]==1.0.2) (1.16.0)\n",
            "Requirement already satisfied: pandas>=1.2 in /usr/local/lib/python3.10/dist-packages (from seaborn>=0.9.0->qiskit[visualization]==1.0.2) (2.0.3)\n",
            "Collecting pbr!=2.1.0,>=2.0.0 (from stevedore>=3.0.0->qiskit[visualization]==1.0.2)\n",
            "  Downloading pbr-6.0.0-py2.py3-none-any.whl (107 kB)\n",
            "\u001b[2K     \u001b[90m━━━━━━━━━━━━━━━━━━━━━━━━━━━━━━━━━━━━━━━━\u001b[0m \u001b[32m107.5/107.5 kB\u001b[0m \u001b[31m9.8 MB/s\u001b[0m eta \u001b[36m0:00:00\u001b[0m\n",
            "\u001b[?25hRequirement already satisfied: mpmath<1.4.0,>=1.1.0 in /usr/local/lib/python3.10/dist-packages (from sympy>=1.3->qiskit[visualization]==1.0.2) (1.3.0)\n",
            "Requirement already satisfied: pytz>=2020.1 in /usr/local/lib/python3.10/dist-packages (from pandas>=1.2->seaborn>=0.9.0->qiskit[visualization]==1.0.2) (2023.4)\n",
            "Requirement already satisfied: tzdata>=2022.1 in /usr/local/lib/python3.10/dist-packages (from pandas>=1.2->seaborn>=0.9.0->qiskit[visualization]==1.0.2) (2024.1)\n",
            "Building wheels for collected packages: pylatexenc\n",
            "  Building wheel for pylatexenc (setup.py) ... \u001b[?25l\u001b[?25hdone\n",
            "  Created wheel for pylatexenc: filename=pylatexenc-2.10-py3-none-any.whl size=136816 sha256=2090915113ff7ada277ff44d70d5c6854db1fbd1977c51e83a9eabdb0ff6e755\n",
            "  Stored in directory: /root/.cache/pip/wheels/d3/31/8b/e09b0386afd80cfc556c00408c9aeea5c35c4d484a9c762fd5\n",
            "Successfully built pylatexenc\n",
            "Installing collected packages: pylatexenc, symengine, rustworkx, pbr, dill, stevedore, qiskit\n",
            "Successfully installed dill-0.3.8 pbr-6.0.0 pylatexenc-2.10 qiskit-1.0.2 rustworkx-0.15.1 stevedore-5.2.0 symengine-0.11.0\n",
            "Collecting qiskit_aer\n",
            "  Downloading qiskit_aer-0.14.2-cp310-cp310-manylinux_2_17_x86_64.manylinux2014_x86_64.whl (12.4 MB)\n",
            "\u001b[2K     \u001b[90m━━━━━━━━━━━━━━━━━━━━━━━━━━━━━━━━━━━━━━━━\u001b[0m \u001b[32m12.4/12.4 MB\u001b[0m \u001b[31m69.7 MB/s\u001b[0m eta \u001b[36m0:00:00\u001b[0m\n",
            "\u001b[?25hRequirement already satisfied: qiskit>=0.45.2 in /usr/local/lib/python3.10/dist-packages (from qiskit_aer) (1.0.2)\n",
            "Requirement already satisfied: numpy>=1.16.3 in /usr/local/lib/python3.10/dist-packages (from qiskit_aer) (1.25.2)\n",
            "Requirement already satisfied: scipy>=1.0 in /usr/local/lib/python3.10/dist-packages (from qiskit_aer) (1.11.4)\n",
            "Requirement already satisfied: psutil>=5 in /usr/local/lib/python3.10/dist-packages (from qiskit_aer) (5.9.5)\n",
            "Requirement already satisfied: rustworkx>=0.14.0 in /usr/local/lib/python3.10/dist-packages (from qiskit>=0.45.2->qiskit_aer) (0.15.1)\n",
            "Requirement already satisfied: sympy>=1.3 in /usr/local/lib/python3.10/dist-packages (from qiskit>=0.45.2->qiskit_aer) (1.12.1)\n",
            "Requirement already satisfied: dill>=0.3 in /usr/local/lib/python3.10/dist-packages (from qiskit>=0.45.2->qiskit_aer) (0.3.8)\n",
            "Requirement already satisfied: python-dateutil>=2.8.0 in /usr/local/lib/python3.10/dist-packages (from qiskit>=0.45.2->qiskit_aer) (2.8.2)\n",
            "Requirement already satisfied: stevedore>=3.0.0 in /usr/local/lib/python3.10/dist-packages (from qiskit>=0.45.2->qiskit_aer) (5.2.0)\n",
            "Requirement already satisfied: typing-extensions in /usr/local/lib/python3.10/dist-packages (from qiskit>=0.45.2->qiskit_aer) (4.12.2)\n",
            "Requirement already satisfied: symengine>=0.11 in /usr/local/lib/python3.10/dist-packages (from qiskit>=0.45.2->qiskit_aer) (0.11.0)\n",
            "Requirement already satisfied: six>=1.5 in /usr/local/lib/python3.10/dist-packages (from python-dateutil>=2.8.0->qiskit>=0.45.2->qiskit_aer) (1.16.0)\n",
            "Requirement already satisfied: pbr!=2.1.0,>=2.0.0 in /usr/local/lib/python3.10/dist-packages (from stevedore>=3.0.0->qiskit>=0.45.2->qiskit_aer) (6.0.0)\n",
            "Requirement already satisfied: mpmath<1.4.0,>=1.1.0 in /usr/local/lib/python3.10/dist-packages (from sympy>=1.3->qiskit>=0.45.2->qiskit_aer) (1.3.0)\n",
            "Installing collected packages: qiskit_aer\n",
            "Successfully installed qiskit_aer-0.14.2\n"
          ]
        }
      ]
    },
    {
      "cell_type": "code",
      "source": [
        "from qiskit import *\n",
        "# from qiskit.tools.monitor import job_monitor\n",
        "# from qiskit.tools.visualization import plot_state_qsphere\n",
        "# from qiskit.visualization import plot_histogram, plot_bloch_multivector, array_to_latex"
      ],
      "metadata": {
        "id": "CrVIw29Vfy5T"
      },
      "id": "CrVIw29Vfy5T",
      "execution_count": 2,
      "outputs": []
    },
    {
      "cell_type": "code",
      "source": [],
      "metadata": {
        "id": "g_mDEwm9kMcE"
      },
      "id": "g_mDEwm9kMcE",
      "execution_count": null,
      "outputs": []
    },
    {
      "cell_type": "markdown",
      "id": "a1f2a58b",
      "metadata": {
        "deletable": false,
        "editable": false,
        "nbgrader": {
          "cell_type": "markdown",
          "checksum": "5b13dacfc184fedb2d860e6e08c47b36",
          "grade": false,
          "grade_id": "cell-8653e1cd8caf574b",
          "locked": true,
          "schema_version": 3,
          "solution": false,
          "task": false
        },
        "id": "a1f2a58b"
      },
      "source": [
        "### Question 1 (3 points)\n",
        "\n",
        "Complete the function `initialize_simon` that creates a quantum circuit consisting of two quantum registers and a classical register for solving Simon's problem.\n",
        "\n",
        "The function `initialize_simon` has\n",
        "\n",
        "- Input: $n$ such that you are given a function $f:\\{0,1\\}^n \\rightarrow \\{0,1\\}$\n",
        "- Returns: A `QuantumCircuit` object with two quantum registers and a classical register with the correct number of qubits and bits respectively."
      ]
    },
    {
      "cell_type": "code",
      "execution_count": 3,
      "id": "23be3643",
      "metadata": {
        "deletable": false,
        "nbgrader": {
          "cell_type": "code",
          "checksum": "19945997fcf53595e7c6a0b22ec34981",
          "grade": false,
          "grade_id": "cell-1c481841ce1cf70e",
          "locked": false,
          "schema_version": 3,
          "solution": true,
          "task": false
        },
        "id": "23be3643"
      },
      "outputs": [],
      "source": [
        "from qiskit import QuantumRegister, ClassicalRegister\n",
        "\n",
        "def initialize_simon(n):\n",
        "    # Do not modify anything above this line\n",
        "    # YOUR CODE HERE\n",
        "\n",
        "    qr1 = QuantumRegister(n, 'qr1')\n",
        "    qr2 = QuantumRegister(n, 'qr2')\n",
        "    cr = ClassicalRegister(n, 'cr')\n",
        "\n",
        "    qc = QuantumCircuit(qr1, qr2, cr)\n",
        "\n",
        "    for i in range(n):\n",
        "        qc.h(qr1[i])\n",
        "\n",
        "    def oracle_f(qc, qr1, qr2):\n",
        "        for i in range(n):\n",
        "            qc.cx(qr1[i], qr2[i])\n",
        "\n",
        "    oracle_f(qc, qr1, qr2)\n",
        "\n",
        "\n",
        "    # Do not modify anything below this line\n",
        "    return qc"
      ]
    },
    {
      "cell_type": "markdown",
      "id": "1adc67a1",
      "metadata": {
        "deletable": false,
        "editable": false,
        "nbgrader": {
          "cell_type": "markdown",
          "checksum": "fd72078729d06bda175901a12fc61742",
          "grade": false,
          "grade_id": "cell-cb242ee8fad39d2f",
          "locked": true,
          "schema_version": 3,
          "solution": false,
          "task": false
        },
        "id": "1adc67a1"
      },
      "source": [
        "You can use the following cell to test your function."
      ]
    },
    {
      "cell_type": "code",
      "execution_count": 4,
      "id": "47adde82",
      "metadata": {
        "colab": {
          "base_uri": "https://localhost:8080/",
          "height": 513
        },
        "id": "47adde82",
        "outputId": "3da473b3-2e4c-411a-ff09-21bfc4ed671d"
      },
      "outputs": [
        {
          "output_type": "execute_result",
          "data": {
            "text/plain": [
              "<Figure size 485.17x618.722 with 1 Axes>"
            ],
            "image/png": "[encoded data removed]"
          },
          "metadata": {},
          "execution_count": 4
        }
      ],
      "source": [
        "qc = initialize_simon(3)\n",
        "qc.draw(output='mpl')"
      ]
    },
    {
      "cell_type": "code",
      "execution_count": null,
      "id": "9a6e081c",
      "metadata": {
        "deletable": false,
        "editable": false,
        "nbgrader": {
          "cell_type": "code",
          "checksum": "43d28f016002498455847e24730e66af",
          "grade": true,
          "grade_id": "cell-6888491c6c07b964",
          "locked": true,
          "points": 2,
          "schema_version": 3,
          "solution": false,
          "task": false
        },
        "id": "9a6e081c"
      },
      "outputs": [],
      "source": []
    },
    {
      "cell_type": "code",
      "execution_count": null,
      "id": "7b611342",
      "metadata": {
        "deletable": false,
        "editable": false,
        "nbgrader": {
          "cell_type": "code",
          "checksum": "74b61ff1cfa81e90e82a69166f097931",
          "grade": true,
          "grade_id": "cell-63131a98b6d4d9bb",
          "locked": true,
          "points": 1,
          "schema_version": 3,
          "solution": false,
          "task": false
        },
        "id": "7b611342"
      },
      "outputs": [],
      "source": []
    },
    {
      "cell_type": "markdown",
      "id": "e5fd4371",
      "metadata": {
        "deletable": false,
        "editable": false,
        "nbgrader": {
          "cell_type": "markdown",
          "checksum": "93464b18333ebd5c14d2a56b85baae2f",
          "grade": false,
          "grade_id": "cell-60e1a84f45f7ec80",
          "locked": true,
          "schema_version": 3,
          "solution": false,
          "task": false
        },
        "id": "e5fd4371"
      },
      "source": [
        "### Question 2 (4 points)\n",
        "\n",
        "Function `simon(n)` returns a single bitstring of length $n$, as a result of running Simon's algorithm. Complete the function `get_y_list` that calls the function `simon()` until $n-1$ bitstrings are found other than the 0 string.\n",
        "\n",
        "The function `get_y_list` has\n",
        "\n",
        "- Input: $n$\n",
        "- Returns: A `list` of bitstrings `y`."
      ]
    },
    {
      "cell_type": "code",
      "execution_count": 10,
      "id": "43b4533f",
      "metadata": {
        "deletable": false,
        "nbgrader": {
          "cell_type": "code",
          "checksum": "4a0c51739c20ec7e45b25e36296666c9",
          "grade": false,
          "grade_id": "cell-cc5148d56d467c20",
          "locked": false,
          "schema_version": 3,
          "solution": true,
          "task": false
        },
        "id": "43b4533f"
      },
      "outputs": [],
      "source": [
        "from qiskit import QuantumRegister, ClassicalRegister\n",
        "\n",
        "def get_y_list(n):\n",
        "    y_list = []\n",
        "    # Do not modify anything above this line\n",
        "    # YOUR CODE HERE\n",
        "\n",
        "    while(len(y_list)) < n-1:\n",
        "        y = simon(n)\n",
        "        if y!='0'*n and y not in y_list:\n",
        "            y_list.append(y)\n",
        "\n",
        "\n",
        "    # Do not modify anything below this line\n",
        "    return y_list"
      ]
    },
    {
      "cell_type": "markdown",
      "id": "84844a45",
      "metadata": {
        "deletable": false,
        "editable": false,
        "nbgrader": {
          "cell_type": "markdown",
          "checksum": "39ca4f751cf01686211b185f230cdaff",
          "grade": false,
          "grade_id": "cell-e64de19cdfa87e17",
          "locked": true,
          "schema_version": 3,
          "solution": false,
          "task": false
        },
        "id": "84844a45"
      },
      "source": [
        "You can use the following cell to test your function."
      ]
    },
    {
      "cell_type": "code",
      "execution_count": 12,
      "id": "cbcc3e78",
      "metadata": {
        "id": "cbcc3e78",
        "colab": {
          "base_uri": "https://localhost:8080/"
        },
        "outputId": "017b60b1-df1e-4505-c08c-60ea794668df"
      },
      "outputs": [
        {
          "output_type": "stream",
          "name": "stdout",
          "text": [
            "['01001', '00011', '00101', '11000']\n"
          ]
        }
      ],
      "source": [
        "# A very limited definition of Simon's function, only to help you test.\n",
        "# The fully formed Simon's function would be more complicated.\n",
        "def simon(n):\n",
        "    import itertools as it\n",
        "    import random\n",
        "    x = \"11\"+\"0\"*(n-2) #s is the string consisting of all 1's therefore x.s=0 always as there are two 1's in x\n",
        "    return random.choice([''.join(i) for i in it.permutations(x, n)]+[\"0\"*n])\n",
        "\n",
        "print(get_y_list(5))"
      ]
    },
    {
      "cell_type": "code",
      "execution_count": null,
      "id": "c4fa281c",
      "metadata": {
        "deletable": false,
        "editable": false,
        "nbgrader": {
          "cell_type": "code",
          "checksum": "e40b0ab1019a66af251c64a1d3e06e26",
          "grade": true,
          "grade_id": "cell-053c537fc2bf5202",
          "locked": true,
          "points": 2,
          "schema_version": 3,
          "solution": false,
          "task": false
        },
        "id": "c4fa281c"
      },
      "outputs": [],
      "source": []
    },
    {
      "cell_type": "code",
      "execution_count": null,
      "id": "fdf28dc4",
      "metadata": {
        "deletable": false,
        "editable": false,
        "nbgrader": {
          "cell_type": "code",
          "checksum": "cfbc68aaa42f738a06d2b0f5c3968f97",
          "grade": true,
          "grade_id": "cell-2a64a0198d0587f8",
          "locked": true,
          "points": 2,
          "schema_version": 3,
          "solution": false,
          "task": false
        },
        "id": "fdf28dc4"
      },
      "outputs": [],
      "source": []
    },
    {
      "cell_type": "markdown",
      "id": "dbeb5f0d",
      "metadata": {
        "deletable": false,
        "editable": false,
        "nbgrader": {
          "cell_type": "markdown",
          "checksum": "6cb76d1800ec168a4baeb0894afe91d3",
          "grade": false,
          "grade_id": "cell-dc2ad3a8b26a5374",
          "locked": true,
          "schema_version": 3,
          "solution": false,
          "task": false
        },
        "id": "dbeb5f0d"
      },
      "source": [
        "### Question 3 (3 points)\n",
        "\n",
        "Complete the function `oracle` which implements the following function: $f(00)=10$, $f(01)=10$, $f(10)=01$, $f(11)=01$  i.e. when the input is 00, you need to obtain '10' as the measurement outcome of the output register. Input will be encoded in the input register, while the output should be encoded in the output register.  \n",
        "\n",
        "The function `oracle` has\n",
        "\n",
        "- Inputs: A `QuantumRegister` object `input_reg` consisting of 2 qubits,  A `QuantumRegister` object `output_reg` consisting of 2 qubits and a `QuantumCircuit` object `qc`  \n",
        "- Returns: `QuantumCircuit` object `qc`  \n",
        "\n",
        "Note: Don't forget the Qiskit order."
      ]
    },
    {
      "cell_type": "code",
      "execution_count": 19,
      "id": "b372fffa",
      "metadata": {
        "deletable": false,
        "nbgrader": {
          "cell_type": "code",
          "checksum": "5f13e965ce146624a52aa39b081371da",
          "grade": false,
          "grade_id": "cell-837a99848cf0da43",
          "locked": false,
          "schema_version": 3,
          "solution": true,
          "task": false
        },
        "id": "b372fffa"
      },
      "outputs": [],
      "source": [
        "from qiskit import QuantumRegister, ClassicalRegister\n",
        "\n",
        "def oracle(input_reg,output_reg,qc):\n",
        "    # Do not modify anything above this line\n",
        "    # YOUR CODE HERE\n",
        "    qc.x(output_reg[1])  # Initialize output register to 10\n",
        "    qc.cx(input_reg[1], output_reg[1])  # f(00) = 10, f(10) = 01\n",
        "    qc.cx(input_reg[1], output_reg[0])  # f(01) = 10, f(11) = 01\n",
        "\n",
        "    return qc"
      ]
    },
    {
      "cell_type": "markdown",
      "id": "4713a251",
      "metadata": {
        "deletable": false,
        "editable": false,
        "nbgrader": {
          "cell_type": "markdown",
          "checksum": "53f0b3b96f9496326e259356c4db302d",
          "grade": false,
          "grade_id": "cell-50dda4a17e0c7be9",
          "locked": true,
          "schema_version": 3,
          "solution": false,
          "task": false
        },
        "id": "4713a251"
      },
      "source": [
        "You can use the following cell to test your function. Inputs and the outputs should match the function given above."
      ]
    },
    {
      "cell_type": "code",
      "execution_count": 20,
      "id": "07466cd8",
      "metadata": {
        "id": "07466cd8",
        "colab": {
          "base_uri": "https://localhost:8080/"
        },
        "outputId": "5e59ea77-398e-4dce-9f87-f5e15aacc97a"
      },
      "outputs": [
        {
          "output_type": "stream",
          "name": "stdout",
          "text": [
            "Input: 00 Output: {'10': 1}\n",
            "Input: 01 Output: {'10': 1}\n",
            "Input: 10 Output: {'01': 1}\n",
            "Input: 11 Output: {'01': 1}\n"
          ]
        }
      ],
      "source": [
        "from qiskit import QuantumCircuit, QuantumRegister, ClassicalRegister\n",
        "from qiskit_aer import AerSimulator\n",
        "\n",
        "def test(input_state):\n",
        "    input_reg = QuantumRegister(2)\n",
        "    output_reg = QuantumRegister(2)\n",
        "    creg = ClassicalRegister(2)\n",
        "    qc = QuantumCircuit(input_reg, output_reg, creg)\n",
        "\n",
        "    #initialization\n",
        "    if input_state[0]==\"1\":\n",
        "        qc.x(input_reg[1])\n",
        "    elif input_state[1]==\"1\":\n",
        "        qc.x(input_reg[0])\n",
        "\n",
        "    #call oracle\n",
        "    oracle(input_reg,output_reg,qc)\n",
        "\n",
        "    qc.measure(output_reg,creg)\n",
        "\n",
        "    job = AerSimulator().run(qc,shots=1)\n",
        "    counts = job.result().get_counts()\n",
        "    return counts\n",
        "\n",
        "for s in [\"00\",\"01\",\"10\",\"11\"]:\n",
        "    print(\"Input:\" ,s, \"Output:\", test(s))"
      ]
    },
    {
      "cell_type": "code",
      "execution_count": null,
      "id": "b2ecfd19",
      "metadata": {
        "deletable": false,
        "editable": false,
        "nbgrader": {
          "cell_type": "code",
          "checksum": "c04f2f222a8c81ff1fc270ce9210e60d",
          "grade": true,
          "grade_id": "cell-f919f5ba9db094aa",
          "locked": true,
          "points": 3,
          "schema_version": 3,
          "solution": false,
          "task": false
        },
        "id": "b2ecfd19"
      },
      "outputs": [],
      "source": []
    },
    {
      "cell_type": "code",
      "execution_count": null,
      "id": "efeee08a",
      "metadata": {
        "id": "efeee08a"
      },
      "outputs": [],
      "source": []
    }
  ],
  "metadata": {
    "kernelspec": {
      "display_name": "Python 3 (ipykernel)",
      "language": "python",
      "name": "python3"
    },
    "language_info": {
      "codemirror_mode": {
        "name": "ipython",
        "version": 3
      },
      "file_extension": ".py",
      "mimetype": "text/x-python",
      "name": "python",
      "nbconvert_exporter": "python",
      "pygments_lexer": "ipython3",
      "version": "3.10.12"
    },
    "colab": {
      "provenance": []
    }
  },
  "nbformat": 4,
  "nbformat_minor": 5
}