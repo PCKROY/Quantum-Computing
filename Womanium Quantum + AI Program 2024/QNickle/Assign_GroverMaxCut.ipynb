{
  "cells": [
    {
      "cell_type": "markdown",
      "metadata": {
        "deletable": false,
        "editable": false,
        "nbgrader": {
          "cell_type": "markdown",
          "checksum": "ac08d7ea268ce6a20a0e0a0d19c24352",
          "grade": false,
          "grade_id": "cell-33da3167fca0d468",
          "locked": true,
          "schema_version": 3,
          "solution": false,
          "task": false
        },
        "id": "n4fvu49yHRrD"
      },
      "source": [
        "# Homework - Grover MaxCut\n",
        "\n",
        "The places where you have enter code are marked with `# YOUR CODE HERE`."
      ]
    },
    {
      "cell_type": "code",
      "source": [
        "!pip install cirq"
      ],
      "metadata": {
        "colab": {
          "base_uri": "https://localhost:8080/"
        },
        "id": "FE_lm-3OOKdU",
        "outputId": "056c1d97-70b5-4b8e-b674-8e8b50f52843"
      },
      "execution_count": 1,
      "outputs": [
        {
          "output_type": "stream",
          "name": "stdout",
          "text": [
            "Collecting cirq\n",
            "  Downloading cirq-1.4.1-py3-none-any.whl (8.0 kB)\n",
            "Collecting cirq-aqt==1.4.1 (from cirq)\n",
            "  Downloading cirq_aqt-1.4.1-py3-none-any.whl (30 kB)\n",
            "Collecting cirq-core==1.4.1 (from cirq)\n",
            "  Downloading cirq_core-1.4.1-py3-none-any.whl (1.9 MB)\n",
            "\u001b[2K     \u001b[90m━━━━━━━━━━━━━━━━━━━━━━━━━━━━━━━━━━━━━━━━\u001b[0m \u001b[32m1.9/1.9 MB\u001b[0m \u001b[31m9.2 MB/s\u001b[0m eta \u001b[36m0:00:00\u001b[0m\n",
            "\u001b[?25hCollecting cirq-google==1.4.1 (from cirq)\n",
            "  Downloading cirq_google-1.4.1-py3-none-any.whl (532 kB)\n",
            "\u001b[2K     \u001b[90m━━━━━━━━━━━━━━━━━━━━━━━━━━━━━━━━━━━━━━━━\u001b[0m \u001b[32m532.7/532.7 kB\u001b[0m \u001b[31m8.9 MB/s\u001b[0m eta \u001b[36m0:00:00\u001b[0m\n",
            "\u001b[?25hCollecting cirq-ionq==1.4.1 (from cirq)\n",
            "  Downloading cirq_ionq-1.4.1-py3-none-any.whl (60 kB)\n",
            "\u001b[2K     \u001b[90m━━━━━━━━━━━━━━━━━━━━━━━━━━━━━━━━━━━━━━━━\u001b[0m \u001b[32m60.5/60.5 kB\u001b[0m \u001b[31m2.2 MB/s\u001b[0m eta \u001b[36m0:00:00\u001b[0m\n",
            "\u001b[?25hCollecting cirq-pasqal==1.4.1 (from cirq)\n",
            "  Downloading cirq_pasqal-1.4.1-py3-none-any.whl (31 kB)\n",
            "Collecting cirq-rigetti==1.4.1 (from cirq)\n",
            "  Downloading cirq_rigetti-1.4.1-py3-none-any.whl (69 kB)\n",
            "\u001b[2K     \u001b[90m━━━━━━━━━━━━━━━━━━━━━━━━━━━━━━━━━━━━━━━━\u001b[0m \u001b[32m69.3/69.3 kB\u001b[0m \u001b[31m3.3 MB/s\u001b[0m eta \u001b[36m0:00:00\u001b[0m\n",
            "\u001b[?25hCollecting cirq-web==1.4.1 (from cirq)\n",
            "  Downloading cirq_web-1.4.1-py3-none-any.whl (596 kB)\n",
            "\u001b[2K     \u001b[90m━━━━━━━━━━━━━━━━━━━━━━━━━━━━━━━━━━━━━━━━\u001b[0m \u001b[32m596.5/596.5 kB\u001b[0m \u001b[31m19.0 MB/s\u001b[0m eta \u001b[36m0:00:00\u001b[0m\n",
            "\u001b[?25hRequirement already satisfied: requests~=2.18 in /usr/local/lib/python3.10/dist-packages (from cirq-aqt==1.4.1->cirq) (2.31.0)\n",
            "Requirement already satisfied: attrs>=21.3.0 in /usr/local/lib/python3.10/dist-packages (from cirq-core==1.4.1->cirq) (23.2.0)\n",
            "Collecting duet>=0.2.8 (from cirq-core==1.4.1->cirq)\n",
            "  Downloading duet-0.2.9-py3-none-any.whl (29 kB)\n",
            "Requirement already satisfied: matplotlib~=3.0 in /usr/local/lib/python3.10/dist-packages (from cirq-core==1.4.1->cirq) (3.7.1)\n",
            "Requirement already satisfied: networkx>=2.4 in /usr/local/lib/python3.10/dist-packages (from cirq-core==1.4.1->cirq) (3.3)\n",
            "Requirement already satisfied: numpy~=1.22 in /usr/local/lib/python3.10/dist-packages (from cirq-core==1.4.1->cirq) (1.25.2)\n",
            "Requirement already satisfied: pandas in /usr/local/lib/python3.10/dist-packages (from cirq-core==1.4.1->cirq) (2.0.3)\n",
            "Requirement already satisfied: sortedcontainers~=2.0 in /usr/local/lib/python3.10/dist-packages (from cirq-core==1.4.1->cirq) (2.4.0)\n",
            "Requirement already satisfied: scipy~=1.0 in /usr/local/lib/python3.10/dist-packages (from cirq-core==1.4.1->cirq) (1.11.4)\n",
            "Requirement already satisfied: sympy in /usr/local/lib/python3.10/dist-packages (from cirq-core==1.4.1->cirq) (1.13.0)\n",
            "Requirement already satisfied: typing-extensions>=4.2 in /usr/local/lib/python3.10/dist-packages (from cirq-core==1.4.1->cirq) (4.12.2)\n",
            "Requirement already satisfied: tqdm in /usr/local/lib/python3.10/dist-packages (from cirq-core==1.4.1->cirq) (4.66.4)\n",
            "Requirement already satisfied: google-api-core[grpc]>=1.14.0 in /usr/local/lib/python3.10/dist-packages (from cirq-google==1.4.1->cirq) (2.16.2)\n",
            "Requirement already satisfied: proto-plus>=1.20.0 in /usr/local/lib/python3.10/dist-packages (from cirq-google==1.4.1->cirq) (1.24.0)\n",
            "Requirement already satisfied: protobuf<5.0.0,>=3.15.0 in /usr/local/lib/python3.10/dist-packages (from cirq-google==1.4.1->cirq) (3.20.3)\n",
            "Collecting pyquil<5.0.0,>=4.11.0 (from cirq-rigetti==1.4.1->cirq)\n",
            "  Downloading pyquil-4.12.0-py3-none-any.whl (202 kB)\n",
            "\u001b[2K     \u001b[90m━━━━━━━━━━━━━━━━━━━━━━━━━━━━━━━━━━━━━━━━\u001b[0m \u001b[32m202.6/202.6 kB\u001b[0m \u001b[31m14.2 MB/s\u001b[0m eta \u001b[36m0:00:00\u001b[0m\n",
            "\u001b[?25hRequirement already satisfied: googleapis-common-protos<2.0.dev0,>=1.56.2 in /usr/local/lib/python3.10/dist-packages (from google-api-core[grpc]>=1.14.0->cirq-google==1.4.1->cirq) (1.63.2)\n",
            "Requirement already satisfied: google-auth<3.0.dev0,>=2.14.1 in /usr/local/lib/python3.10/dist-packages (from google-api-core[grpc]>=1.14.0->cirq-google==1.4.1->cirq) (2.27.0)\n",
            "Requirement already satisfied: grpcio<2.0dev,>=1.33.2 in /usr/local/lib/python3.10/dist-packages (from google-api-core[grpc]>=1.14.0->cirq-google==1.4.1->cirq) (1.64.1)\n",
            "Requirement already satisfied: grpcio-status<2.0.dev0,>=1.33.2 in /usr/local/lib/python3.10/dist-packages (from google-api-core[grpc]>=1.14.0->cirq-google==1.4.1->cirq) (1.48.2)\n",
            "Requirement already satisfied: contourpy>=1.0.1 in /usr/local/lib/python3.10/dist-packages (from matplotlib~=3.0->cirq-core==1.4.1->cirq) (1.2.1)\n",
            "Requirement already satisfied: cycler>=0.10 in /usr/local/lib/python3.10/dist-packages (from matplotlib~=3.0->cirq-core==1.4.1->cirq) (0.12.1)\n",
            "Requirement already satisfied: fonttools>=4.22.0 in /usr/local/lib/python3.10/dist-packages (from matplotlib~=3.0->cirq-core==1.4.1->cirq) (4.53.1)\n",
            "Requirement already satisfied: kiwisolver>=1.0.1 in /usr/local/lib/python3.10/dist-packages (from matplotlib~=3.0->cirq-core==1.4.1->cirq) (1.4.5)\n",
            "Requirement already satisfied: packaging>=20.0 in /usr/local/lib/python3.10/dist-packages (from matplotlib~=3.0->cirq-core==1.4.1->cirq) (24.1)\n",
            "Requirement already satisfied: pillow>=6.2.0 in /usr/local/lib/python3.10/dist-packages (from matplotlib~=3.0->cirq-core==1.4.1->cirq) (9.4.0)\n",
            "Requirement already satisfied: pyparsing>=2.3.1 in /usr/local/lib/python3.10/dist-packages (from matplotlib~=3.0->cirq-core==1.4.1->cirq) (3.1.2)\n",
            "Requirement already satisfied: python-dateutil>=2.7 in /usr/local/lib/python3.10/dist-packages (from matplotlib~=3.0->cirq-core==1.4.1->cirq) (2.8.2)\n",
            "Collecting deprecated<2.0.0,>=1.2.14 (from pyquil<5.0.0,>=4.11.0->cirq-rigetti==1.4.1->cirq)\n",
            "  Downloading Deprecated-1.2.14-py2.py3-none-any.whl (9.6 kB)\n",
            "Requirement already satisfied: matplotlib-inline<0.2.0,>=0.1.7 in /usr/local/lib/python3.10/dist-packages (from pyquil<5.0.0,>=4.11.0->cirq-rigetti==1.4.1->cirq) (0.1.7)\n",
            "Collecting packaging>=20.0 (from matplotlib~=3.0->cirq-core==1.4.1->cirq)\n",
            "  Downloading packaging-23.2-py3-none-any.whl (53 kB)\n",
            "\u001b[2K     \u001b[90m━━━━━━━━━━━━━━━━━━━━━━━━━━━━━━━━━━━━━━━━\u001b[0m \u001b[32m53.0/53.0 kB\u001b[0m \u001b[31m4.7 MB/s\u001b[0m eta \u001b[36m0:00:00\u001b[0m\n",
            "\u001b[?25hCollecting qcs-sdk-python==0.18.0 (from pyquil<5.0.0,>=4.11.0->cirq-rigetti==1.4.1->cirq)\n",
            "  Downloading qcs_sdk_python-0.18.0-cp310-cp310-manylinux_2_28_x86_64.whl (6.9 MB)\n",
            "\u001b[2K     \u001b[90m━━━━━━━━━━━━━━━━━━━━━━━━━━━━━━━━━━━━━━━━\u001b[0m \u001b[32m6.9/6.9 MB\u001b[0m \u001b[31m55.1 MB/s\u001b[0m eta \u001b[36m0:00:00\u001b[0m\n",
            "\u001b[?25hCollecting rpcq<4.0.0,>=3.11.0 (from pyquil<5.0.0,>=4.11.0->cirq-rigetti==1.4.1->cirq)\n",
            "  Downloading rpcq-3.11.0.tar.gz (45 kB)\n",
            "\u001b[2K     \u001b[90m━━━━━━━━━━━━━━━━━━━━━━━━━━━━━━━━━━━━━━━━\u001b[0m \u001b[32m45.6/45.6 kB\u001b[0m \u001b[31m4.5 MB/s\u001b[0m eta \u001b[36m0:00:00\u001b[0m\n",
            "\u001b[?25h  Preparing metadata (setup.py) ... \u001b[?25l\u001b[?25hdone\n",
            "Collecting types-deprecated<2.0.0.0,>=1.2.9.3 (from pyquil<5.0.0,>=4.11.0->cirq-rigetti==1.4.1->cirq)\n",
            "  Downloading types_Deprecated-1.2.9.20240311-py3-none-any.whl (3.5 kB)\n",
            "Collecting quil==0.10.0 (from qcs-sdk-python==0.18.0->pyquil<5.0.0,>=4.11.0->cirq-rigetti==1.4.1->cirq)\n",
            "  Downloading quil-0.10.0-cp310-cp310-manylinux_2_17_x86_64.manylinux2014_x86_64.whl (2.4 MB)\n",
            "\u001b[2K     \u001b[90m━━━━━━━━━━━━━━━━━━━━━━━━━━━━━━━━━━━━━━━━\u001b[0m \u001b[32m2.4/2.4 MB\u001b[0m \u001b[31m48.8 MB/s\u001b[0m eta \u001b[36m0:00:00\u001b[0m\n",
            "\u001b[?25hRequirement already satisfied: charset-normalizer<4,>=2 in /usr/local/lib/python3.10/dist-packages (from requests~=2.18->cirq-aqt==1.4.1->cirq) (3.3.2)\n",
            "Requirement already satisfied: idna<4,>=2.5 in /usr/local/lib/python3.10/dist-packages (from requests~=2.18->cirq-aqt==1.4.1->cirq) (3.7)\n",
            "Requirement already satisfied: urllib3<3,>=1.21.1 in /usr/local/lib/python3.10/dist-packages (from requests~=2.18->cirq-aqt==1.4.1->cirq) (2.0.7)\n",
            "Requirement already satisfied: certifi>=2017.4.17 in /usr/local/lib/python3.10/dist-packages (from requests~=2.18->cirq-aqt==1.4.1->cirq) (2024.7.4)\n",
            "Requirement already satisfied: pytz>=2020.1 in /usr/local/lib/python3.10/dist-packages (from pandas->cirq-core==1.4.1->cirq) (2023.4)\n",
            "Requirement already satisfied: tzdata>=2022.1 in /usr/local/lib/python3.10/dist-packages (from pandas->cirq-core==1.4.1->cirq) (2024.1)\n",
            "Requirement already satisfied: mpmath<1.4,>=1.1.0 in /usr/local/lib/python3.10/dist-packages (from sympy->cirq-core==1.4.1->cirq) (1.3.0)\n",
            "Requirement already satisfied: wrapt<2,>=1.10 in /usr/local/lib/python3.10/dist-packages (from deprecated<2.0.0,>=1.2.14->pyquil<5.0.0,>=4.11.0->cirq-rigetti==1.4.1->cirq) (1.14.1)\n",
            "Requirement already satisfied: cachetools<6.0,>=2.0.0 in /usr/local/lib/python3.10/dist-packages (from google-auth<3.0.dev0,>=2.14.1->google-api-core[grpc]>=1.14.0->cirq-google==1.4.1->cirq) (5.3.3)\n",
            "Requirement already satisfied: pyasn1-modules>=0.2.1 in /usr/local/lib/python3.10/dist-packages (from google-auth<3.0.dev0,>=2.14.1->google-api-core[grpc]>=1.14.0->cirq-google==1.4.1->cirq) (0.4.0)\n",
            "Requirement already satisfied: rsa<5,>=3.1.4 in /usr/local/lib/python3.10/dist-packages (from google-auth<3.0.dev0,>=2.14.1->google-api-core[grpc]>=1.14.0->cirq-google==1.4.1->cirq) (4.9)\n",
            "Requirement already satisfied: traitlets in /usr/local/lib/python3.10/dist-packages (from matplotlib-inline<0.2.0,>=0.1.7->pyquil<5.0.0,>=4.11.0->cirq-rigetti==1.4.1->cirq) (5.7.1)\n",
            "Requirement already satisfied: six>=1.5 in /usr/local/lib/python3.10/dist-packages (from python-dateutil>=2.7->matplotlib~=3.0->cirq-core==1.4.1->cirq) (1.16.0)\n",
            "Requirement already satisfied: msgpack<2.0,>=0.6 in /usr/local/lib/python3.10/dist-packages (from rpcq<4.0.0,>=3.11.0->pyquil<5.0.0,>=4.11.0->cirq-rigetti==1.4.1->cirq) (1.0.8)\n",
            "Collecting python-rapidjson (from rpcq<4.0.0,>=3.11.0->pyquil<5.0.0,>=4.11.0->cirq-rigetti==1.4.1->cirq)\n",
            "  Downloading python_rapidjson-1.18-cp310-cp310-manylinux_2_17_x86_64.manylinux2014_x86_64.whl (1.7 MB)\n",
            "\u001b[2K     \u001b[90m━━━━━━━━━━━━━━━━━━━━━━━━━━━━━━━━━━━━━━━━\u001b[0m \u001b[32m1.7/1.7 MB\u001b[0m \u001b[31m26.1 MB/s\u001b[0m eta \u001b[36m0:00:00\u001b[0m\n",
            "\u001b[?25hRequirement already satisfied: pyzmq>=17 in /usr/local/lib/python3.10/dist-packages (from rpcq<4.0.0,>=3.11.0->pyquil<5.0.0,>=4.11.0->cirq-rigetti==1.4.1->cirq) (24.0.1)\n",
            "Collecting ruamel.yaml (from rpcq<4.0.0,>=3.11.0->pyquil<5.0.0,>=4.11.0->cirq-rigetti==1.4.1->cirq)\n",
            "  Downloading ruamel.yaml-0.18.6-py3-none-any.whl (117 kB)\n",
            "\u001b[2K     \u001b[90m━━━━━━━━━━━━━━━━━━━━━━━━━━━━━━━━━━━━━━━━\u001b[0m \u001b[32m117.8/117.8 kB\u001b[0m \u001b[31m3.1 MB/s\u001b[0m eta \u001b[36m0:00:00\u001b[0m\n",
            "\u001b[?25hRequirement already satisfied: pyasn1<0.7.0,>=0.4.6 in /usr/local/lib/python3.10/dist-packages (from pyasn1-modules>=0.2.1->google-auth<3.0.dev0,>=2.14.1->google-api-core[grpc]>=1.14.0->cirq-google==1.4.1->cirq) (0.6.0)\n",
            "Collecting ruamel.yaml.clib>=0.2.7 (from ruamel.yaml->rpcq<4.0.0,>=3.11.0->pyquil<5.0.0,>=4.11.0->cirq-rigetti==1.4.1->cirq)\n",
            "  Downloading ruamel.yaml.clib-0.2.8-cp310-cp310-manylinux_2_17_x86_64.manylinux2014_x86_64.manylinux_2_24_x86_64.whl (526 kB)\n",
            "\u001b[2K     \u001b[90m━━━━━━━━━━━━━━━━━━━━━━━━━━━━━━━━━━━━━━━━\u001b[0m \u001b[32m526.7/526.7 kB\u001b[0m \u001b[31m30.1 MB/s\u001b[0m eta \u001b[36m0:00:00\u001b[0m\n",
            "\u001b[?25hBuilding wheels for collected packages: rpcq\n",
            "  Building wheel for rpcq (setup.py) ... \u001b[?25l\u001b[?25hdone\n",
            "  Created wheel for rpcq: filename=rpcq-3.11.0-py3-none-any.whl size=45967 sha256=62172e81b7c5ca85c978c279f540b9092830f789937f2718dfe98ddbf04be46e\n",
            "  Stored in directory: /root/.cache/pip/wheels/91/97/0a/b384d94155345284ec00712ab814cbfb5bc2b631080b4fa4c3\n",
            "Successfully built rpcq\n",
            "Installing collected packages: types-deprecated, ruamel.yaml.clib, quil, python-rapidjson, packaging, duet, deprecated, ruamel.yaml, qcs-sdk-python, rpcq, cirq-core, pyquil, cirq-web, cirq-pasqal, cirq-ionq, cirq-aqt, cirq-rigetti, cirq-google, cirq\n",
            "  Attempting uninstall: packaging\n",
            "    Found existing installation: packaging 24.1\n",
            "    Uninstalling packaging-24.1:\n",
            "      Successfully uninstalled packaging-24.1\n",
            "Successfully installed cirq-1.4.1 cirq-aqt-1.4.1 cirq-core-1.4.1 cirq-google-1.4.1 cirq-ionq-1.4.1 cirq-pasqal-1.4.1 cirq-rigetti-1.4.1 cirq-web-1.4.1 deprecated-1.2.14 duet-0.2.9 packaging-23.2 pyquil-4.12.0 python-rapidjson-1.18 qcs-sdk-python-0.18.0 quil-0.10.0 rpcq-3.11.0 ruamel.yaml-0.18.6 ruamel.yaml.clib-0.2.8 types-deprecated-1.2.9.20240311\n"
          ]
        }
      ]
    },
    {
      "cell_type": "code",
      "execution_count": 2,
      "metadata": {
        "id": "giuWRCAdHRrG"
      },
      "outputs": [],
      "source": [
        "import cirq\n",
        "from cirq import H, X, Y, Z, CX, inverse"
      ]
    },
    {
      "cell_type": "markdown",
      "metadata": {
        "deletable": false,
        "editable": false,
        "nbgrader": {
          "cell_type": "markdown",
          "checksum": "3472598b6fdd1d56b50a9706c01827f8",
          "grade": false,
          "grade_id": "cell-d981eeb5458c0744",
          "locked": true,
          "schema_version": 3,
          "solution": false,
          "task": false
        },
        "id": "3KqzJO3mHRrH"
      },
      "source": [
        "## Question 1 (4 points)\n",
        "\n",
        "Write a function, `oracle010`, that implements an oracle that marks the state $|010 \\rangle$. The function `oracle010` has\n",
        "\n",
        "* input: `qq`, a 3-qubit register\n",
        "* returns: `None`\n",
        "\n",
        "The function should append a sequence of gates to `qq` to mark the state $|010\\rangle$ only. Don't append any measurements to `qq`.\n",
        "\n",
        "To help you test the function, we have provided the `grover_diffusion` and `grover` functions."
      ]
    },
    {
      "cell_type": "code",
      "execution_count": 3,
      "metadata": {
        "deletable": false,
        "nbgrader": {
          "cell_type": "code",
          "checksum": "3234c674937c9ea97ec27157e9062acf",
          "grade": false,
          "grade_id": "cell-a08e811a0e1777c7",
          "locked": false,
          "schema_version": 3,
          "solution": true,
          "task": false
        },
        "id": "sCVnjEhiHRrI"
      },
      "outputs": [],
      "source": [
        "def oracle010(qq):\n",
        "    # YOUR CODE HERE\n",
        "    yield cirq.X(qq[0])\n",
        "    yield cirq.X(qq[2])\n",
        "    yield cirq.Z(qq[1]).controlled_by(qq[0], qq[2])\n",
        "    yield cirq.X(qq[0])\n",
        "    yield cirq.X(qq[2])\n"
      ]
    },
    {
      "cell_type": "code",
      "execution_count": 4,
      "metadata": {
        "colab": {
          "base_uri": "https://localhost:8080/",
          "height": 104
        },
        "id": "4vOpWhkVHRrI",
        "outputId": "444701cc-cabf-4fb6-92a5-9d7bbce8af45"
      },
      "outputs": [
        {
          "output_type": "execute_result",
          "data": {
            "text/plain": [
              "0: ───X───@───X───\n",
              "          │\n",
              "1: ───────@───────\n",
              "          │\n",
              "2: ───X───@───X───"
            ],
            "text/html": [
              "<pre style=\"overflow: auto; white-space: pre;\">0: ───X───@───X───\n",
              "          │\n",
              "1: ───────@───────\n",
              "          │\n",
              "2: ───X───@───X───</pre>"
            ]
          },
          "metadata": {},
          "execution_count": 4
        }
      ],
      "source": [
        "# visualize your implemented gates\n",
        "qqTest = cirq.LineQubit.range(3)\n",
        "circuit = cirq.Circuit()\n",
        "circuit.append(oracle010(qqTest))\n",
        "circuit"
      ]
    },
    {
      "cell_type": "code",
      "execution_count": 5,
      "metadata": {
        "id": "8m94t7jDHRrJ"
      },
      "outputs": [],
      "source": [
        "# To check your solution, we need some to implement grover\n",
        "def grover_diffusion(qq,n):\n",
        "    yield H.on_each(*qq)\n",
        "    yield X.on_each(*qq)\n",
        "    yield Z(qq[n-1]).controlled_by(*(qq[0:n-1]))\n",
        "    yield X.on_each(*qq)\n",
        "    yield H.on_each(*qq)"
      ]
    },
    {
      "cell_type": "code",
      "execution_count": 6,
      "metadata": {
        "id": "GZLjKb1XHRrJ"
      },
      "outputs": [],
      "source": [
        "def grover(trials_number):\n",
        "    n=3\n",
        "    qq = cirq.LineQubit.range(n)\n",
        "    circuit = cirq.Circuit()\n",
        "    circuit.append(H.on_each(*qq))\n",
        "\n",
        "    for i in range(2):\n",
        "        circuit.append(oracle010(qq))\n",
        "        circuit.append(grover_diffusion(qq,n))\n",
        "    circuit.append(cirq.measure(*qq, key='result'))\n",
        "\n",
        "    # determine the statistics of the measurements\n",
        "    s = cirq.Simulator()\n",
        "    samples = s.run(circuit, repetitions=trials_number)\n",
        "\n",
        "    def bitstring(bits):\n",
        "        return \"\".join(str(int(b)) for b in bits)\n",
        "\n",
        "    counts = samples.histogram(key=\"result\",fold_func=bitstring)\n",
        "    print(counts)\n",
        "    return counts.get('010')"
      ]
    },
    {
      "cell_type": "code",
      "execution_count": 10,
      "metadata": {
        "colab": {
          "base_uri": "https://localhost:8080/"
        },
        "id": "QXFYflMqHRrK",
        "outputId": "601e00c1-90dc-4765-f1f1-c03661d3aa84"
      },
      "outputs": [
        {
          "output_type": "stream",
          "name": "stdout",
          "text": [
            "Counter({'010': 96, '101': 1, '110': 1, '000': 1, '100': 1})\n"
          ]
        },
        {
          "output_type": "execute_result",
          "data": {
            "text/plain": [
              "96"
            ]
          },
          "metadata": {},
          "execution_count": 10
        }
      ],
      "source": [
        "# run grover to test if your function gives the right answer\n",
        "grover(100)"
      ]
    },
    {
      "cell_type": "code",
      "execution_count": 8,
      "metadata": {
        "deletable": false,
        "editable": false,
        "nbgrader": {
          "cell_type": "code",
          "checksum": "cf2c533cdb00d2a3feebe35eda382c3e",
          "grade": true,
          "grade_id": "cell-c892138426ad8ca2",
          "locked": true,
          "points": 4,
          "schema_version": 3,
          "solution": false,
          "task": false
        },
        "id": "OcYtMX8oHRrK"
      },
      "outputs": [],
      "source": [
        "# hidden tests in this cell will be used for grading."
      ]
    },
    {
      "cell_type": "markdown",
      "metadata": {
        "deletable": false,
        "editable": false,
        "nbgrader": {
          "cell_type": "markdown",
          "checksum": "7f228055f783a050ae26ee080abbc49c",
          "grade": false,
          "grade_id": "cell-cd7b8bfe0163bb3c",
          "locked": true,
          "schema_version": 3,
          "solution": false,
          "task": false
        },
        "id": "uLbbObyZHRrK"
      },
      "source": [
        "## Question 2 (6 points)\n",
        "\n",
        "Graph $G$ has 5 vertices and 6 edges: (0,3), (0,4), (1,3), (1,4), (2,3), (2,4).\n",
        "\n",
        "Write an oracle for the graph $G$ to check whether it admits a valid 2-coloring.\n",
        "\n",
        "The function `oracle2` has\n",
        "\n",
        "* input: `qq`, a 12-qubit register\n",
        "* returns: `None`\n",
        "\n",
        "The function should append only a sequence of gates to `qq`. It should not append any measurements to `qq`.\n",
        "\n",
        "Use qubits 0-4 for the vertices, 5-10 for the edges and 11 as the ancilla.\n",
        "\n",
        "You can test the oracle with the provided `grover_diffusion`, `grover` and `oracle_computation2` functions."
      ]
    },
    {
      "cell_type": "code",
      "execution_count": 11,
      "metadata": {
        "deletable": false,
        "nbgrader": {
          "cell_type": "code",
          "checksum": "16112e54c261f4b68868827304f15052",
          "grade": false,
          "grade_id": "cell-d0a829ac63d428cc",
          "locked": false,
          "schema_version": 3,
          "solution": true,
          "task": false
        },
        "id": "1AJkgJn8HRrL"
      },
      "outputs": [],
      "source": [
        "def oracle2(qq):\n",
        "    # YOUR CODE HERE\n",
        "    def edge_check(a, b, c):\n",
        "        yield CX(qq[a], qq[c])\n",
        "        yield CX(qq[b], qq[c])\n",
        "\n",
        "\n",
        "    yield edge_check(0, 3, 5)\n",
        "    yield edge_check(0, 4, 6)\n",
        "    yield edge_check(1, 3, 7)\n",
        "    yield edge_check(1, 4, 8)\n",
        "    yield edge_check(2, 3, 9)\n",
        "    yield edge_check(2, 4, 10)\n",
        "\n",
        "    yield X(qq[11]).controlled_by(*qq[5:11])"
      ]
    },
    {
      "cell_type": "code",
      "execution_count": 12,
      "metadata": {
        "id": "8_uWcBfSHRrL"
      },
      "outputs": [],
      "source": [
        "# We need some code so you can check your solution\n",
        "def oracle_computation2(qq):\n",
        "    yield oracle2(qq)\n",
        "    yield Z(qq[11])\n",
        "    yield inverse(oracle2(qq))"
      ]
    },
    {
      "cell_type": "code",
      "execution_count": 13,
      "metadata": {
        "id": "_CaUjlSWHRrL"
      },
      "outputs": [],
      "source": [
        "def grover2(trials_number):\n",
        "    import cirq\n",
        "    from cirq import X, H, Z, inverse, CX\n",
        "    s = cirq.Simulator()\n",
        "\n",
        "    qq = cirq.LineQubit.range(12)\n",
        "    n=5\n",
        "\n",
        "    circuit = cirq.Circuit()\n",
        "    circuit.append(H.on_each(*(qq[0:n])))\n",
        "    for i in range(2):\n",
        "        circuit.append(oracle_computation2(qq))\n",
        "        circuit.append(grover_diffusion(qq,n))\n",
        "\n",
        "    circuit.append(cirq.measure(*(qq[0:n]), key='result'))\n",
        "\n",
        "    # determine the statistics of the measurements\n",
        "    samples = s.run(circuit, repetitions=trials_number)\n",
        "    result = samples.measurements[\"result\"]\n",
        "\n",
        "    def bitstring(bits):\n",
        "        return \"\".join(str(int(b)) for b in bits)\n",
        "\n",
        "    counts = samples.histogram(key=\"result\",fold_func=bitstring)\n",
        "    return counts"
      ]
    },
    {
      "cell_type": "code",
      "execution_count": 15,
      "metadata": {
        "colab": {
          "base_uri": "https://localhost:8080/"
        },
        "id": "KkmWmWPxHRrM",
        "outputId": "7764ffcb-98e8-4ffe-d77b-1b6b0277ea26"
      },
      "outputs": [
        {
          "output_type": "execute_result",
          "data": {
            "text/plain": [
              "Counter({'00011': 443,\n",
              "         '11100': 459,\n",
              "         '00110': 6,\n",
              "         '01010': 4,\n",
              "         '10100': 4,\n",
              "         '00001': 5,\n",
              "         '11001': 6,\n",
              "         '01000': 7,\n",
              "         '10001': 3,\n",
              "         '10010': 2,\n",
              "         '01101': 3,\n",
              "         '01100': 1,\n",
              "         '01001': 2,\n",
              "         '11110': 4,\n",
              "         '11011': 3,\n",
              "         '00000': 6,\n",
              "         '01110': 3,\n",
              "         '10011': 7,\n",
              "         '01111': 4,\n",
              "         '11101': 2,\n",
              "         '11111': 2,\n",
              "         '10101': 3,\n",
              "         '01011': 3,\n",
              "         '10110': 2,\n",
              "         '11010': 4,\n",
              "         '00101': 2,\n",
              "         '00010': 5,\n",
              "         '00111': 1,\n",
              "         '00100': 2,\n",
              "         '11000': 1,\n",
              "         '10111': 1})"
            ]
          },
          "metadata": {},
          "execution_count": 15
        }
      ],
      "source": [
        "#You can use this cell to test your solution\n",
        "shots=1000\n",
        "grover2(shots)"
      ]
    },
    {
      "cell_type": "code",
      "execution_count": 16,
      "metadata": {
        "deletable": false,
        "editable": false,
        "nbgrader": {
          "cell_type": "code",
          "checksum": "4246ce18f04e859e5569cd7b80a1a3ee",
          "grade": true,
          "grade_id": "cell-f3af2ece23c10d8c",
          "locked": true,
          "points": 6,
          "schema_version": 3,
          "solution": false,
          "task": false
        },
        "id": "gxGlS3ZQHRrM"
      },
      "outputs": [],
      "source": [
        "# hidden tests in this cell will be used for grading."
      ]
    },
    {
      "cell_type": "markdown",
      "metadata": {
        "deletable": false,
        "editable": false,
        "nbgrader": {
          "cell_type": "markdown",
          "checksum": "4688464dab8ef5a5368bb0bb80dec0a2",
          "grade": false,
          "grade_id": "cell-70019a2ede111a61",
          "locked": true,
          "schema_version": 3,
          "solution": false,
          "task": false
        },
        "id": "-DGvPyGbHRrM"
      },
      "source": [
        "## Question 3 (10 points)\n",
        "\n",
        "Graph $G$ has 4 vertices and 5 edges: (0,1), (0,2), (0,3), (1,2), (1,3)\n",
        "\n",
        "Write an oracle for the graph $G$ to check whether there exists a coloring with at least 4 edges connecting vertices with different colors.\n",
        "\n",
        "The function `oracle3` has\n",
        "\n",
        "* input: `qq`, a 13-qubit register\n",
        "* returns: `None`\n",
        "\n",
        "The function should append only a sequence of gates to `qq`. It should not append any measurements to `qq`.\n",
        "\n",
        "Use qubits\n",
        "- 0-3 for the vertices,\n",
        "- 4-8 for the edges,\n",
        "- 9-11 for the addition (remember we need three qubits here for addition unlike the last question), and\n",
        "- 12 as the ancilla.\n",
        "\n",
        "You can test the oracle with the provided `grover_diffusion`, `grover` and `oracle_computation3` functions."
      ]
    },
    {
      "cell_type": "code",
      "execution_count": 36,
      "metadata": {
        "deletable": false,
        "nbgrader": {
          "cell_type": "code",
          "checksum": "143856f98ba27993913f66a2e3ee33cf",
          "grade": false,
          "grade_id": "cell-a88eeb3907a822ff",
          "locked": false,
          "schema_version": 3,
          "solution": true,
          "task": false
        },
        "id": "lZQH-Q0gHRrM"
      },
      "outputs": [],
      "source": [
        "def oracle3(qq):\n",
        "    # YOUR CODE HERE\n",
        "\n",
        "\n",
        "\n",
        "        yield cirq.CX(qq[0], qq[4])\n",
        "        yield cirq.CX(qq[1], qq[4])\n",
        "\n",
        "        yield cirq.CX(qq[0], qq[5])\n",
        "        yield cirq.CX(qq[2], qq[5])\n",
        "\n",
        "        yield cirq.CX(qq[0], qq[6])\n",
        "        yield cirq.CX(qq[3], qq[6])\n",
        "\n",
        "        yield cirq.CX(qq[1], qq[7])\n",
        "        yield cirq.CX(qq[2], qq[7])\n",
        "\n",
        "        yield cirq.CX(qq[1], qq[8])\n",
        "        yield cirq.CX(qq[3], qq[8])\n",
        "\n",
        "        yield cirq.CX(qq[4], qq[9])\n",
        "\n",
        "\n",
        "\n",
        "\n",
        "\n",
        "    # add qubits 5-7\n",
        "        for j in range(5,8):\n",
        "            yield cirq.CCX(qq[j], qq[9], qq[10])\n",
        "            yield cirq.CX(qq[j], qq[9])\n",
        "\n",
        "    # add qubits 8\n",
        "        yield cirq.X(qq[11]).controlled_by(qq[8], qq[9], qq[10])\n",
        "        yield cirq.CCX(qq[8], qq[9], qq[10])\n",
        "        yield cirq.CX(qq[8], qq[9])\n",
        "\n",
        "\n",
        "    # Check if the num is == to 4\n",
        "        yield cirq.X(qq[9])\n",
        "        yield cirq.X(qq[10])\n",
        "        yield cirq.X(qq[12]).controlled_by(*(qq[8:11]))"
      ]
    },
    {
      "cell_type": "code",
      "execution_count": 37,
      "metadata": {
        "id": "ErUyr1pbHRrM"
      },
      "outputs": [],
      "source": [
        "# We need some code so you can check your solution\n",
        "def oracle_computation3(qq):\n",
        "    yield oracle3(qq)\n",
        "    yield Z(qq[12])\n",
        "    yield inverse(oracle3(qq))"
      ]
    },
    {
      "cell_type": "code",
      "execution_count": 38,
      "metadata": {
        "id": "8m4_iZaqHRrM"
      },
      "outputs": [],
      "source": [
        "import cirq\n",
        "from cirq import X, H, Z, inverse, CX, CCX\n",
        "\n",
        "def grover3(trials_number):\n",
        "    s = cirq.Simulator()\n",
        "\n",
        "    qq = cirq.LineQubit.range(13)\n",
        "    n=4\n",
        "\n",
        "    circuit = cirq.Circuit()\n",
        "    circuit.append(H.on_each(*(qq[0:n])))\n",
        "    for i in range(2):\n",
        "        circuit.append(oracle_computation3(qq))\n",
        "        circuit.append(grover_diffusion(qq,n))\n",
        "\n",
        "    circuit.append(cirq.measure(*(qq[0:n]), key='result'))\n",
        "\n",
        "    # determine the statistics of the measurements\n",
        "    samples = s.run(circuit, repetitions=trials_number)\n",
        "    result = samples.measurements[\"result\"]\n",
        "\n",
        "    def bitstring(bits):\n",
        "        return \"\".join(str(int(b)) for b in bits)\n",
        "\n",
        "    counts = samples.histogram(key=\"result\",fold_func=bitstring)\n",
        "    return counts"
      ]
    },
    {
      "cell_type": "code",
      "execution_count": 44,
      "metadata": {
        "colab": {
          "base_uri": "https://localhost:8080/"
        },
        "id": "q3wkcJEMHRrM",
        "outputId": "cf70995e-a5a5-47ba-a9ba-2bfe068e49ca"
      },
      "outputs": [
        {
          "output_type": "execute_result",
          "data": {
            "text/plain": [
              "Counter({'1100': 473,\n",
              "         '0011': 470,\n",
              "         '1111': 7,\n",
              "         '1000': 3,\n",
              "         '1010': 4,\n",
              "         '0110': 10,\n",
              "         '1011': 4,\n",
              "         '1001': 4,\n",
              "         '0010': 3,\n",
              "         '0100': 5,\n",
              "         '0111': 4,\n",
              "         '0101': 4,\n",
              "         '1110': 4,\n",
              "         '1101': 1,\n",
              "         '0001': 2,\n",
              "         '0000': 2})"
            ]
          },
          "metadata": {},
          "execution_count": 44
        }
      ],
      "source": [
        "#You can use this cell to test your solution\n",
        "shots=1000\n",
        "grover3(shots)"
      ]
    },
    {
      "cell_type": "code",
      "execution_count": 42,
      "metadata": {
        "deletable": false,
        "editable": false,
        "nbgrader": {
          "cell_type": "code",
          "checksum": "2fb4f23a2628baa5c4bbd53548198e9c",
          "grade": true,
          "grade_id": "cell-e70ddbb5f64a88b3",
          "locked": true,
          "points": 10,
          "schema_version": 3,
          "solution": false,
          "task": false
        },
        "id": "BEFdGbHkHRrM"
      },
      "outputs": [],
      "source": [
        "# hidden tests in this cell will be used for grading."
      ]
    },
    {
      "cell_type": "code",
      "execution_count": null,
      "metadata": {
        "id": "2EKUDRaYHRrN"
      },
      "outputs": [],
      "source": []
    }
  ],
  "metadata": {
    "kernelspec": {
      "display_name": "Python 3 (ipykernel)",
      "language": "python",
      "name": "python3"
    },
    "language_info": {
      "codemirror_mode": {
        "name": "ipython",
        "version": 3
      },
      "file_extension": ".py",
      "mimetype": "text/x-python",
      "name": "python",
      "nbconvert_exporter": "python",
      "pygments_lexer": "ipython3",
      "version": "3.10.12"
    },
    "colab": {
      "provenance": []
    }
  },
  "nbformat": 4,
  "nbformat_minor": 0
}