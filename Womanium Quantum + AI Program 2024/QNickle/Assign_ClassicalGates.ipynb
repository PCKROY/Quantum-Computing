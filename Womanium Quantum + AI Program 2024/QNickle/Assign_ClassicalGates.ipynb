{
  "cells": [
    {
      "cell_type": "markdown",
      "metadata": {
        "deletable": false,
        "editable": false,
        "nbgrader": {
          "cell_type": "markdown",
          "checksum": "1027111b883fd6ae949c4ce3a96a9718",
          "grade": false,
          "grade_id": "cell-7ea049f33e7c8764",
          "locked": true,
          "schema_version": 3,
          "solution": false,
          "task": false
        },
        "id": "yVKvluImwfX1"
      },
      "source": [
        "# Homework 1 Assignment\n",
        "\n",
        "\n",
        "The places where you have enter code are marked with `# YOUR CODE HERE`."
      ]
    },
    {
      "cell_type": "markdown",
      "metadata": {
        "deletable": false,
        "editable": false,
        "nbgrader": {
          "cell_type": "markdown",
          "checksum": "a4081a56fcaf79dd50fdf69d5ab68944",
          "grade": false,
          "grade_id": "cell-8e0e78ca84efa750",
          "locked": true,
          "schema_version": 3,
          "solution": false,
          "task": false
        },
        "id": "P_AHIlPAwfX4"
      },
      "source": [
        "## Question 1 (8 points)\n",
        "\n",
        "Complete the function `OR3` that implements the 3-qubit to 1-qubit $OR$ operator. This operator acts on 4 qubits in the state $|q_0,q_1,q_2,q_3\\rangle$ and maps it to $|q_0,q_1,q_2,q_3 \\oplus (q_0 \\text{ or } q_1 \\text{ or } q_2)  \\rangle$.\n",
        "\n",
        "The function `OR3` has\n",
        "\n",
        "- Inputs: None\n",
        "- Returns: A `QuantumCircuit` object with 4 qubits and 1 classical bit that implements the $OR$ operator as described above.\n",
        "\n",
        "Don't add any measurements to the returned circuit."
      ]
    },
    {
      "cell_type": "code",
      "source": [
        "!pip install qiskit==0.43.2"
      ],
      "metadata": {
        "colab": {
          "base_uri": "https://localhost:8080/",
          "height": 1000
        },
        "id": "5gSd4ca74hYN",
        "outputId": "e94f18a1-e311-4ff0-bc23-214f70dcb7da"
      },
      "execution_count": 1,
      "outputs": [
        {
          "output_type": "stream",
          "name": "stdout",
          "text": [
            "Collecting qiskit==0.43.2\n",
            "  Downloading qiskit-0.43.2.tar.gz (9.1 kB)\n",
            "  Installing build dependencies ... \u001b[?25l\u001b[?25hdone\n",
            "  Getting requirements to build wheel ... \u001b[?25l\u001b[?25hdone\n",
            "  Installing backend dependencies ... \u001b[?25l\u001b[?25hdone\n",
            "  Preparing metadata (pyproject.toml) ... \u001b[?25l\u001b[?25hdone\n",
            "Collecting qiskit-terra==0.24.1 (from qiskit==0.43.2)\n",
            "  Downloading qiskit_terra-0.24.1-cp310-cp310-manylinux_2_17_x86_64.manylinux2014_x86_64.whl (5.9 MB)\n",
            "\u001b[2K     \u001b[90m━━━━━━━━━━━━━━━━━━━━━━━━━━━━━━━━━━━━━━━━\u001b[0m \u001b[32m5.9/5.9 MB\u001b[0m \u001b[31m28.1 MB/s\u001b[0m eta \u001b[36m0:00:00\u001b[0m\n",
            "\u001b[?25hCollecting qiskit-aer==0.12.1 (from qiskit==0.43.2)\n",
            "  Downloading qiskit_aer-0.12.1-cp310-cp310-manylinux_2_17_x86_64.manylinux2014_x86_64.whl (12.8 MB)\n",
            "\u001b[2K     \u001b[90m━━━━━━━━━━━━━━━━━━━━━━━━━━━━━━━━━━━━━━━━\u001b[0m \u001b[32m12.8/12.8 MB\u001b[0m \u001b[31m2.9 MB/s\u001b[0m eta \u001b[36m0:00:00\u001b[0m\n",
            "\u001b[?25hCollecting qiskit-ibmq-provider==0.20.2 (from qiskit==0.43.2)\n",
            "  Downloading qiskit_ibmq_provider-0.20.2-py3-none-any.whl (241 kB)\n",
            "\u001b[2K     \u001b[90m━━━━━━━━━━━━━━━━━━━━━━━━━━━━━━━━━━━━━━━━\u001b[0m \u001b[32m241.5/241.5 kB\u001b[0m \u001b[31m21.1 MB/s\u001b[0m eta \u001b[36m0:00:00\u001b[0m\n",
            "\u001b[?25hRequirement already satisfied: numpy>=1.16.3 in /usr/local/lib/python3.10/dist-packages (from qiskit-aer==0.12.1->qiskit==0.43.2) (1.25.2)\n",
            "Requirement already satisfied: scipy>=1.0 in /usr/local/lib/python3.10/dist-packages (from qiskit-aer==0.12.1->qiskit==0.43.2) (1.11.4)\n",
            "Requirement already satisfied: requests>=2.19 in /usr/local/lib/python3.10/dist-packages (from qiskit-ibmq-provider==0.20.2->qiskit==0.43.2) (2.31.0)\n",
            "Collecting requests-ntlm<=1.1.0 (from qiskit-ibmq-provider==0.20.2->qiskit==0.43.2)\n",
            "  Downloading requests_ntlm-1.1.0-py2.py3-none-any.whl (5.7 kB)\n",
            "Collecting numpy>=1.16.3 (from qiskit-aer==0.12.1->qiskit==0.43.2)\n",
            "  Downloading numpy-1.23.5-cp310-cp310-manylinux_2_17_x86_64.manylinux2014_x86_64.whl (17.1 MB)\n",
            "\u001b[2K     \u001b[90m━━━━━━━━━━━━━━━━━━━━━━━━━━━━━━━━━━━━━━━━\u001b[0m \u001b[32m17.1/17.1 MB\u001b[0m \u001b[31m44.5 MB/s\u001b[0m eta \u001b[36m0:00:00\u001b[0m\n",
            "\u001b[?25hRequirement already satisfied: urllib3>=1.21.1 in /usr/local/lib/python3.10/dist-packages (from qiskit-ibmq-provider==0.20.2->qiskit==0.43.2) (2.0.7)\n",
            "Requirement already satisfied: python-dateutil>=2.8.0 in /usr/local/lib/python3.10/dist-packages (from qiskit-ibmq-provider==0.20.2->qiskit==0.43.2) (2.8.2)\n",
            "Requirement already satisfied: websocket-client>=1.5.1 in /usr/local/lib/python3.10/dist-packages (from qiskit-ibmq-provider==0.20.2->qiskit==0.43.2) (1.8.0)\n",
            "Collecting websockets>=10.0 (from qiskit-ibmq-provider==0.20.2->qiskit==0.43.2)\n",
            "  Downloading websockets-12.0-cp310-cp310-manylinux_2_5_x86_64.manylinux1_x86_64.manylinux_2_17_x86_64.manylinux2014_x86_64.whl (130 kB)\n",
            "\u001b[2K     \u001b[90m━━━━━━━━━━━━━━━━━━━━━━━━━━━━━━━━━━━━━━━━\u001b[0m \u001b[32m130.2/130.2 kB\u001b[0m \u001b[31m14.6 MB/s\u001b[0m eta \u001b[36m0:00:00\u001b[0m\n",
            "\u001b[?25hCollecting rustworkx>=0.12.0 (from qiskit-terra==0.24.1->qiskit==0.43.2)\n",
            "  Downloading rustworkx-0.14.2-cp310-cp310-manylinux_2_17_x86_64.manylinux2014_x86_64.whl (2.1 MB)\n",
            "\u001b[2K     \u001b[90m━━━━━━━━━━━━━━━━━━━━━━━━━━━━━━━━━━━━━━━━\u001b[0m \u001b[32m2.1/2.1 MB\u001b[0m \u001b[31m58.5 MB/s\u001b[0m eta \u001b[36m0:00:00\u001b[0m\n",
            "\u001b[?25hCollecting ply>=3.10 (from qiskit-terra==0.24.1->qiskit==0.43.2)\n",
            "  Downloading ply-3.11-py2.py3-none-any.whl (49 kB)\n",
            "\u001b[2K     \u001b[90m━━━━━━━━━━━━━━━━━━━━━━━━━━━━━━━━━━━━━━━━\u001b[0m \u001b[32m49.6/49.6 kB\u001b[0m \u001b[31m6.1 MB/s\u001b[0m eta \u001b[36m0:00:00\u001b[0m\n",
            "\u001b[?25hRequirement already satisfied: psutil>=5 in /usr/local/lib/python3.10/dist-packages (from qiskit-terra==0.24.1->qiskit==0.43.2) (5.9.5)\n",
            "Requirement already satisfied: sympy>=1.3 in /usr/local/lib/python3.10/dist-packages (from qiskit-terra==0.24.1->qiskit==0.43.2) (1.12.1)\n",
            "Collecting dill>=0.3 (from qiskit-terra==0.24.1->qiskit==0.43.2)\n",
            "  Downloading dill-0.3.8-py3-none-any.whl (116 kB)\n",
            "\u001b[2K     \u001b[90m━━━━━━━━━━━━━━━━━━━━━━━━━━━━━━━━━━━━━━━━\u001b[0m \u001b[32m116.3/116.3 kB\u001b[0m \u001b[31m13.8 MB/s\u001b[0m eta \u001b[36m0:00:00\u001b[0m\n",
            "\u001b[?25hCollecting stevedore>=3.0.0 (from qiskit-terra==0.24.1->qiskit==0.43.2)\n",
            "  Downloading stevedore-5.2.0-py3-none-any.whl (49 kB)\n",
            "\u001b[2K     \u001b[90m━━━━━━━━━━━━━━━━━━━━━━━━━━━━━━━━━━━━━━━━\u001b[0m \u001b[32m49.7/49.7 kB\u001b[0m \u001b[31m5.3 MB/s\u001b[0m eta \u001b[36m0:00:00\u001b[0m\n",
            "\u001b[?25hCollecting symengine<0.10,>=0.9 (from qiskit-terra==0.24.1->qiskit==0.43.2)\n",
            "  Downloading symengine-0.9.2-cp310-cp310-manylinux2010_x86_64.whl (37.5 MB)\n",
            "\u001b[2K     \u001b[90m━━━━━━━━━━━━━━━━━━━━━━━━━━━━━━━━━━━━━━━━\u001b[0m \u001b[32m37.5/37.5 MB\u001b[0m \u001b[31m16.6 MB/s\u001b[0m eta \u001b[36m0:00:00\u001b[0m\n",
            "\u001b[?25hRequirement already satisfied: six>=1.5 in /usr/local/lib/python3.10/dist-packages (from python-dateutil>=2.8.0->qiskit-ibmq-provider==0.20.2->qiskit==0.43.2) (1.16.0)\n",
            "Requirement already satisfied: charset-normalizer<4,>=2 in /usr/local/lib/python3.10/dist-packages (from requests>=2.19->qiskit-ibmq-provider==0.20.2->qiskit==0.43.2) (3.3.2)\n",
            "Requirement already satisfied: idna<4,>=2.5 in /usr/local/lib/python3.10/dist-packages (from requests>=2.19->qiskit-ibmq-provider==0.20.2->qiskit==0.43.2) (3.7)\n",
            "Requirement already satisfied: certifi>=2017.4.17 in /usr/local/lib/python3.10/dist-packages (from requests>=2.19->qiskit-ibmq-provider==0.20.2->qiskit==0.43.2) (2024.6.2)\n",
            "Collecting ntlm-auth>=1.0.2 (from requests-ntlm<=1.1.0->qiskit-ibmq-provider==0.20.2->qiskit==0.43.2)\n",
            "  Downloading ntlm_auth-1.5.0-py2.py3-none-any.whl (29 kB)\n",
            "Requirement already satisfied: cryptography>=1.3 in /usr/local/lib/python3.10/dist-packages (from requests-ntlm<=1.1.0->qiskit-ibmq-provider==0.20.2->qiskit==0.43.2) (42.0.8)\n",
            "Collecting pbr!=2.1.0,>=2.0.0 (from stevedore>=3.0.0->qiskit-terra==0.24.1->qiskit==0.43.2)\n",
            "  Downloading pbr-6.0.0-py2.py3-none-any.whl (107 kB)\n",
            "\u001b[2K     \u001b[90m━━━━━━━━━━━━━━━━━━━━━━━━━━━━━━━━━━━━━━━━\u001b[0m \u001b[32m107.5/107.5 kB\u001b[0m \u001b[31m12.1 MB/s\u001b[0m eta \u001b[36m0:00:00\u001b[0m\n",
            "\u001b[?25hRequirement already satisfied: mpmath<1.4.0,>=1.1.0 in /usr/local/lib/python3.10/dist-packages (from sympy>=1.3->qiskit-terra==0.24.1->qiskit==0.43.2) (1.3.0)\n",
            "Requirement already satisfied: cffi>=1.12 in /usr/local/lib/python3.10/dist-packages (from cryptography>=1.3->requests-ntlm<=1.1.0->qiskit-ibmq-provider==0.20.2->qiskit==0.43.2) (1.16.0)\n",
            "Requirement already satisfied: pycparser in /usr/local/lib/python3.10/dist-packages (from cffi>=1.12->cryptography>=1.3->requests-ntlm<=1.1.0->qiskit-ibmq-provider==0.20.2->qiskit==0.43.2) (2.22)\n",
            "Building wheels for collected packages: qiskit\n",
            "  Building wheel for qiskit (pyproject.toml) ... \u001b[?25l\u001b[?25hdone\n",
            "  Created wheel for qiskit: filename=qiskit-0.43.2-py3-none-any.whl size=7633 sha256=2e0aa61d5825fbe6accbaef8ac9a63099d0b9e59f0804e24036b5ed1471cfd6a\n",
            "  Stored in directory: /root/.cache/pip/wheels/d4/ad/4f/f54eb8743e54c5bab69837b842cf56a8a87ac7c57a2abf85ad\n",
            "Successfully built qiskit\n",
            "Installing collected packages: ply, websockets, symengine, pbr, numpy, ntlm-auth, dill, stevedore, rustworkx, requests-ntlm, qiskit-terra, qiskit-ibmq-provider, qiskit-aer, qiskit\n",
            "  Attempting uninstall: numpy\n",
            "    Found existing installation: numpy 1.25.2\n",
            "    Uninstalling numpy-1.25.2:\n",
            "      Successfully uninstalled numpy-1.25.2\n",
            "\u001b[31mERROR: pip's dependency resolver does not currently take into account all the packages that are installed. This behaviour is the source of the following dependency conflicts.\n",
            "chex 0.1.86 requires numpy>=1.24.1, but you have numpy 1.23.5 which is incompatible.\n",
            "pandas-stubs 2.0.3.230814 requires numpy>=1.25.0; python_version >= \"3.9\", but you have numpy 1.23.5 which is incompatible.\u001b[0m\u001b[31m\n",
            "\u001b[0mSuccessfully installed dill-0.3.8 ntlm-auth-1.5.0 numpy-1.23.5 pbr-6.0.0 ply-3.11 qiskit-0.43.2 qiskit-aer-0.12.1 qiskit-ibmq-provider-0.20.2 qiskit-terra-0.24.1 requests-ntlm-1.1.0 rustworkx-0.14.2 stevedore-5.2.0 symengine-0.9.2 websockets-12.0\n"
          ]
        },
        {
          "output_type": "display_data",
          "data": {
            "application/vnd.colab-display-data+json": {
              "pip_warning": {
                "packages": [
                  "numpy"
                ]
              },
              "id": "af402899cc16417cb0eb26cc3a472326"
            }
          },
          "metadata": {}
        }
      ]
    },
    {
      "cell_type": "code",
      "execution_count": 8,
      "metadata": {
        "deletable": false,
        "nbgrader": {
          "cell_type": "code",
          "checksum": "5bac332219213275f062743306fcb55f",
          "grade": false,
          "grade_id": "cell-517fe01d3e0bd3be",
          "locked": false,
          "schema_version": 3,
          "solution": true,
          "task": false
        },
        "id": "6JwZbP3AwfX5"
      },
      "outputs": [],
      "source": [
        "from qiskit import QuantumRegister, ClassicalRegister, QuantumCircuit\n",
        "from qiskit.circuit.library.standard_gates import XGate\n",
        "from qiskit.circuit.library import MCXGate\n",
        "from qiskit_aer import AerSimulator\n",
        "\n",
        "\n",
        "def OR3():\n",
        "    circuit = QuantumCircuit(4,1)\n",
        "    # Do not modify anything above this line\n",
        "\n",
        "    # YOUR CODE HERE\n",
        "    circuit.cx(0, 3)  # If q0 is 1, set q3\n",
        "    circuit.cx(1, 3)  # If q1 is 1, set q3\n",
        "    circuit.cx(2, 3)  # If q2 is 1, set q3\n",
        "\n",
        "    # Reset q3 if necessary using Toffoli gates\n",
        "    circuit.ccx(0, 1, 3)  # If q0 and q1 are both 1, reset q3 (double count)\n",
        "    circuit.ccx(0, 2, 3)  # If q0 and q2 are both 1, reset q3 (double count)\n",
        "    circuit.ccx(1, 2, 3)  # If q1 and q2 are both 1, reset q3 (double count)\n",
        "\n",
        "    mcx_gate = MCXGate(3)\n",
        "    circuit.append(mcx_gate, [0,1,2,3])\n",
        "\n",
        "\n",
        "\n",
        "    # Do not modify anything below this line\n",
        "    return circuit"
      ]
    },
    {
      "cell_type": "markdown",
      "metadata": {
        "deletable": false,
        "editable": false,
        "nbgrader": {
          "cell_type": "markdown",
          "checksum": "840d48b1a4925216991fd11394552dcf",
          "grade": false,
          "grade_id": "cell-a294ac223e116578",
          "locked": true,
          "schema_version": 3,
          "solution": false,
          "task": false
        },
        "id": "haXlzqYRwfX6"
      },
      "source": [
        "In the following cell, there is some code that will help you make sure your solution is correct. You can modify this code as you wish. You may also create more cells and write more code to test your own solution."
      ]
    },
    {
      "cell_type": "code",
      "execution_count": 9,
      "metadata": {
        "colab": {
          "base_uri": "https://localhost:8080/"
        },
        "id": "fxuSJQj1wfX7",
        "outputId": "151935ec-8614-4200-8243-786131bd92e1"
      },
      "outputs": [
        {
          "output_type": "stream",
          "name": "stdout",
          "text": [
            "{'0': 100}\n",
            "{'1': 100}\n",
            "{'1': 100}\n",
            "{'1': 100}\n",
            "{'1': 100}\n",
            "{'1': 100}\n",
            "{'1': 100}\n",
            "{'1': 100}\n"
          ]
        }
      ],
      "source": [
        "def test(input):\n",
        "    circuit = QuantumCircuit(4,1)\n",
        "\n",
        "    # implement the input state with a suitable use of X gates.\n",
        "    for i in range(3):\n",
        "        if input[i]=='1':\n",
        "            circuit.x(i)\n",
        "\n",
        "    # Apply the OR3 gate you created\n",
        "    circuit.compose(OR3(), range(4), [0], inplace=True)\n",
        "\n",
        "    circuit.measure(3,0)\n",
        "\n",
        "    job = AerSimulator().run(circuit,shots=100)\n",
        "    return job.result().get_counts(circuit)\n",
        "\n",
        "print(test('000'))\n",
        "print(test('001'))\n",
        "print(test('010'))\n",
        "print(test('011'))\n",
        "print(test('100'))\n",
        "print(test('101'))\n",
        "print(test('110'))\n",
        "print(test('111'))\n"
      ]
    },
    {
      "cell_type": "markdown",
      "metadata": {
        "deletable": false,
        "editable": false,
        "nbgrader": {
          "cell_type": "markdown",
          "checksum": "054b8d330fcb48d624703c7229f0d085",
          "grade": false,
          "grade_id": "cell-bf03891578498365",
          "locked": true,
          "schema_version": 3,
          "solution": false,
          "task": false
        },
        "id": "fw_-MlSkwfX7"
      },
      "source": [
        "# How autograding will work in this workshop\n",
        "In the next cell, there are some tests (the `assert` statements) that will be used to *grade* if your solution is correct. If executing the next cell results in an error, your implementation is incorrect, and you will not get any marks.\n",
        "\n",
        "There are also some hidden tests, not available to you, that will test your solution, once your submit this file back on Canvas. If any of those fail, you will not receive any marks. Otherwise, you will gain full marks on this question."
      ]
    },
    {
      "cell_type": "code",
      "execution_count": 10,
      "metadata": {
        "deletable": false,
        "editable": false,
        "nbgrader": {
          "cell_type": "code",
          "checksum": "9c2ddabf3afbe538e0b3ea542131d530",
          "grade": true,
          "grade_id": "cell-12b1e3e97b88002b",
          "locked": true,
          "points": 2,
          "schema_version": 3,
          "solution": false,
          "task": false
        },
        "id": "jzYb1KCzwfX8"
      },
      "outputs": [],
      "source": [
        "def Grade_test(input):\n",
        "    circuit = QuantumCircuit(4,1)\n",
        "\n",
        "    for i in range(3):\n",
        "        if input[i]=='1':\n",
        "            circuit.x(i)\n",
        "\n",
        "    circuit.compose(OR3(), range(4), [0], inplace=True)\n",
        "    circuit.measure(3,0)\n",
        "\n",
        "    job = AerSimulator().run(circuit,shots=100)\n",
        "    return job.result().get_counts(circuit)\n",
        "\n",
        "counts = Grade_test('100')\n",
        "assert counts['1']==100\n",
        "counts2 = Grade_test('000')\n",
        "assert counts2['0']==100"
      ]
    },
    {
      "cell_type": "code",
      "execution_count": 11,
      "metadata": {
        "deletable": false,
        "editable": false,
        "nbgrader": {
          "cell_type": "code",
          "checksum": "79e663b188cccfb491ee466f0e01df66",
          "grade": true,
          "grade_id": "cell-74f92b92e2a40b2e",
          "locked": true,
          "points": 6,
          "schema_version": 3,
          "solution": false,
          "task": false
        },
        "id": "QyeFQ4wkwfX8"
      },
      "outputs": [],
      "source": [
        "# hidden tests in this cell will be used for grading."
      ]
    }
  ],
  "metadata": {
    "kernelspec": {
      "display_name": "Python 3 (ipykernel)",
      "language": "python",
      "name": "python3"
    },
    "language_info": {
      "codemirror_mode": {
        "name": "ipython",
        "version": 3
      },
      "file_extension": ".py",
      "mimetype": "text/x-python",
      "name": "python",
      "nbconvert_exporter": "python",
      "pygments_lexer": "ipython3",
      "version": "3.10.12"
    },
    "colab": {
      "provenance": []
    }
  },
  "nbformat": 4,
  "nbformat_minor": 0
}